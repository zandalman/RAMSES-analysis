{
 "cells": [
  {
   "cell_type": "code",
   "execution_count": 1,
   "id": "a347770c",
   "metadata": {},
   "outputs": [],
   "source": [
    "from modules import *\n"
   ]
  },
  {
   "cell_type": "code",
   "execution_count": 177,
   "id": "11eeb796",
   "metadata": {},
   "outputs": [],
   "source": [
    "class PowerSpectrum(object):\n",
    "    ''' Power spectrum object. '''\n",
    "    def __init__(self):\n",
    "\n",
    "        self.A = 1.\n",
    "        self.normalize()\n",
    "        \n",
    "    def W_tilde(self, kR):\n",
    "        ''' Fourier transform of the top-hat window function. '''\n",
    "        W_tilde = (np.sin(kR) - kR * np.cos(kR)) * (3 / kR**3)\n",
    "        return W_tilde\n",
    "        \n",
    "    def Omega_m(self, a_exp):\n",
    "        ''' Density parameter of matter. '''\n",
    "        Omega_m = const.Omega_m0 / a_exp**3 / (const.Omega_m0 / a_exp**3 + const.Omega_k0 / a_exp**2 + const.Omega_L0)\n",
    "        return Omega_m\n",
    "    \n",
    "    def Omega_L(self, a_exp):\n",
    "        ''' Density parameter of dark energy. '''\n",
    "        Omega_L = const.Omega_L0 / (const.Omega_m0 / a_exp**3 + const.Omega_k0 / a_exp**2 + const.Omega_L0)\n",
    "        return Omega_L\n",
    "    \n",
    "    def D(self, a_exp):\n",
    "        ''' \n",
    "        Linear growth rate.\n",
    "        \n",
    "        From Eisenstein&Hu1998 eq. A4-A6 (https://arxiv.org/pdf/astro-ph/9709112.pdf)\n",
    "        '''\n",
    "        Omega_m, Omega_L = self.Omega_m(a_exp), self.Omega_L(a_exp)\n",
    "        D = a_exp * 5/2 * Omega_m / (Omega_m**(4/7) - Omega_L + (1 + Omega_m/2) * (1 + Omega_L/70))\n",
    "        return D\n",
    "    \n",
    "    def T0(self, k):\n",
    "        ''' \n",
    "        Transfer function.\n",
    "        \n",
    "        From Eisenstein&Hu1998 eq. 28-29 (https://arxiv.org/pdf/astro-ph/9709112.pdf)\n",
    "        '''\n",
    "        Lambda = const.Omega_m0 * const.h0\n",
    "        q = k / Lambda# / (const.h0 * const.Mpc)\n",
    "        C0 = 14.2 + 731 / (1 + 62.5 * q)\n",
    "        L0 = np.log(2 * np.e + 1.8 * q)\n",
    "        T0 = L0 / (L0 + C0 * q**2)\n",
    "        return T0\n",
    "    \n",
    "    def P(self, k, a_exp):\n",
    "        ''' Power spectrum. '''\n",
    "        P = self.A * k**const.n_PS * self.T0(k)**2 * self.D(a_exp)**2\n",
    "        return P\n",
    "    \n",
    "    def R(self, M, a_exp):\n",
    "        ''' Top-hat filter radius. '''\n",
    "        rho_m = const.Omega_m0 * const.rho_crit_0 / a_exp**3\n",
    "        R = (3/(4*np.pi) * M / rho_m)**(1/3)\n",
    "        return R\n",
    "    \n",
    "    def delta_crit(self, a_exp):\n",
    "        ''' Critical overdensity for collapse. '''\n",
    "        delta_crit = 1.686 / self.D(a_exp)\n",
    "        return delta_crit\n",
    "    \n",
    "    def sigmaR(self, R, a_exp):\n",
    "        ''' RMS of overdensity field as a function of filter radius. '''\n",
    "        integrand = lambda k: k**2 * self.P(k, a_exp) * self.W_tilde(k * R)**2\n",
    "        if type(R) in [float, int]:\n",
    "            sigmaR = np.sqrt(quad(integrand, 0, np.inf)[0] / (2 * np.pi**2))\n",
    "        elif type(R) == np.ndarray:\n",
    "            sigmaR = np.sqrt(quad_vec(integrand, 0, np.inf)[0] / (2 * np.pi**2))\n",
    "        return sigmaR\n",
    "    \n",
    "    def sigmaM(self, M, a_exp):\n",
    "        ''' RMS of overdensity field as a function of filter mass. '''\n",
    "        R = self.R(M, a_exp) / const.Mpc\n",
    "        sigmaM = self.sigmaR(R, a_exp)\n",
    "        return sigmaM\n",
    "    \n",
    "    def M_cutoff(self, a_exp, sigma=1.):\n",
    "        ''' Cutoff mass below which structures form. '''\n",
    "        sigmaM_func = lambda M: self.sigmaM(M, a_exp) - sigma\n",
    "        M_cutoff = fsolve(sigmaM_func, x0=1e20*const.M_sol)[0]\n",
    "        return M_cutoff\n",
    "    \n",
    "    def normalize(self):\n",
    "        ''' Normalize the power spectrum using sigma8. '''\n",
    "        R8 = 8 / const.h0\n",
    "        self.A = (const.sigma8 / self.sigmaR(R8, 1.))**2\n"
   ]
  },
  {
   "cell_type": "code",
   "execution_count": null,
   "id": "b6537cc4",
   "metadata": {},
   "outputs": [],
   "source": [
    "\n",
    "\n"
   ]
  },
  {
   "cell_type": "code",
   "execution_count": null,
   "id": "da27ad3c",
   "metadata": {},
   "outputs": [],
   "source": [
    "power_spec = PowerSpectrum()\n",
    "\n",
    "M = np.logspace(7, 15, 200)\n",
    "sigmaM = power_spec.sigmaM(M, 1.)\n"
   ]
  },
  {
   "cell_type": "code",
   "execution_count": 183,
   "id": "63fe7895",
   "metadata": {},
   "outputs": [
    {
     "data": {
      "image/png": "[encoded data removed]",
      "text/plain": [
       "<Figure size 640x480 with 1 Axes>"
      ]
     },
     "metadata": {},
     "output_type": "display_data"
    }
   ],
   "source": [
    "plt.plot(M / const.M_sol, sigmaM)\n",
    "\n",
    "plt.xscale('log')\n",
    "plt.yscale('log')\n"
   ]
  },
  {
   "cell_type": "code",
   "execution_count": 179,
   "id": "bf7062e2",
   "metadata": {},
   "outputs": [
    {
     "name": "stderr",
     "output_type": "stream",
     "text": [
      "/tmp/ipykernel_3335146/2978062187.py:54: RuntimeWarning: invalid value encountered in power\n",
      "  R = (3/(4*np.pi) * M / rho_m)**(1/3)\n"
     ]
    },
    {
     "data": {
      "text/plain": [
       "'1e+20'"
      ]
     },
     "execution_count": 179,
     "metadata": {},
     "output_type": "execute_result"
    }
   ],
   "source": [
    "\"%.3g\" % (power_spec.M_cutoff(0.1, sigma=3.) / const.M_sol)\n"
   ]
  },
  {
   "cell_type": "code",
   "execution_count": null,
   "id": "fc872e59",
   "metadata": {},
   "outputs": [],
   "source": []
  }
 ],
 "metadata": {
  "kernelspec": {
   "display_name": "Python 3 (ipykernel)",
   "language": "python",
   "name": "python3"
  },
  "language_info": {
   "codemirror_mode": {
    "name": "ipython",
    "version": 3
   },
   "file_extension": ".py",
   "mimetype": "text/x-python",
   "name": "python",
   "nbconvert_exporter": "python",
   "pygments_lexer": "ipython3",
   "version": "3.10.9"
  }
 },
 "nbformat": 4,
 "nbformat_minor": 5
}
