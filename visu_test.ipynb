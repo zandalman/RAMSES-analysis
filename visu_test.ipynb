{
 "cells": [
  {
   "cell_type": "code",
   "execution_count": 1,
   "id": "fd9610cd",
   "metadata": {},
   "outputs": [],
   "source": [
    "import numpy as np\n",
    "import struct\n",
    "import math\n",
    "import os\n",
    "from scipy.io import FortranFile\n",
    "from config import *\n",
    "import const\n",
    "\n",
    "from functions import move_to_sim_dir, get_info\n"
   ]
  },
  {
   "cell_type": "code",
   "execution_count": 2,
   "id": "29a77431",
   "metadata": {},
   "outputs": [
    {
     "name": "stdout",
     "output_type": "stream",
     "text": [
      "Moving to directory '/home/za9132/scratch/romain/round9/fiducial'.\n"
     ]
    }
   ],
   "source": [
    "sim_round = 9\n",
    "sim_name = 'fiducial'\n",
    "dump = 54\n",
    "\n",
    "move_to_sim_dir(sim_round, sim_name)\n",
    "info = get_info(dump)\n",
    "os.chdir('output_%05d' % dump)\n"
   ]
  },
  {
   "cell_type": "code",
   "execution_count": 3,
   "id": "5731bda7",
   "metadata": {},
   "outputs": [],
   "source": [
    "def hilbert3d(x, y, z, bitlen):\n",
    "    \n",
    "    state_diagram = [ 1, 2, 3, 2, 4, 5, 3, 5,\n",
    "                      0, 1, 3, 2, 7, 6, 4, 5,\n",
    "                      2, 6, 0, 7, 8, 8, 0, 7,\n",
    "                      0, 7, 1, 6, 3, 4, 2, 5,\n",
    "                      0, 9, 10, 9, 1, 1, 11, 11,\n",
    "                      0, 3, 7, 4, 1, 2, 6, 5,\n",
    "                      6, 0, 6, 11, 9, 0, 9, 8,\n",
    "                      2, 3, 1, 0, 5, 4, 6, 7,\n",
    "                      11,11, 0, 7, 5, 9, 0, 7,\n",
    "                      4, 3, 5, 2, 7, 0, 6, 1,\n",
    "                      4, 4, 8, 8, 0, 6,10, 6,\n",
    "                      6, 5, 1, 2, 7, 4, 0, 3,\n",
    "                      5, 7, 5, 3, 1, 1,11,11,\n",
    "                      4, 7, 3, 0, 5, 6, 2, 1,\n",
    "                      6, 1, 6, 10, 9, 4, 9, 10,\n",
    "                      6, 7, 5, 4, 1, 0, 2, 3,\n",
    "                      10, 3, 1, 1, 10, 3, 5, 9,\n",
    "                      2, 5, 3, 4, 1, 6, 0, 7,\n",
    "                      4, 4, 8, 8, 2, 7, 2, 3,\n",
    "                      2, 1, 5, 6, 3, 0, 4, 7,\n",
    "                      7, 2,11, 2, 7, 5, 8, 5,\n",
    "                      4, 5, 7, 6, 3, 2, 0, 1,\n",
    "                      10, 3, 2, 6, 10, 3, 4, 4,\n",
    "                      6, 1, 7, 0, 5, 2, 4, 3]\n",
    "\n",
    "    state_diagram = np.array(state_diagram)\n",
    "    state_diagram = state_diagram.reshape((8, 2, 12), order='F')\n",
    "    order = np.zeros_like(x)\n",
    "    bit_mask = np.zeros(3*bitlen, dtype=bool)\n",
    "    \n",
    "    for i in range(len(x)):\n",
    "        \n",
    "        j = np.arange(bitlen)\n",
    "        bit_mask[2::3] = x[i] & (1 << np.arange(bitlen))\n",
    "        bit_mask[1::3] = y[i] & (1 << np.arange(bitlen))\n",
    "        bit_mask[0::3] = z[i] & (1 << np.arange(bitlen))\n",
    "\n",
    "        state = 0\n",
    "        for j in range(bitlen-1, -1, -1):\n",
    "            sdigit = np.sum(bit_mask[3*j:3*(j+1)] * 2**np.arange(3))\n",
    "            bit_mask[3*j:3*(j+1)] = state_diagram[sdigit, 1, state] & (1 << np.arange(3))\n",
    "            state = state_diagram[sdigit, 0, state]\n",
    "            \n",
    "        order[i] = np.sum(bit_mask * 2**np.arange(3*bitlen))\n",
    "\n",
    "    return order\n"
   ]
  },
  {
   "cell_type": "code",
   "execution_count": 284,
   "id": "256d22d8",
   "metadata": {},
   "outputs": [
    {
     "data": {
      "text/plain": [
       "array([ 1414745, 15362470,  7556404,  9220811,  3828134, 12949081,\n",
       "        4560473, 12216742])"
      ]
     },
     "execution_count": 284,
     "metadata": {},
     "output_type": "execute_result"
    }
   ],
   "source": [
    "radius = 10*const.kpc\n",
    "center = np.array([0, 0, 0])\n",
    "\n",
    "ndim = 3\n",
    "boxlen = info.aexp*100*const.Mpc/const.h0\n",
    "radius_code = radius/info.length_unit\n",
    "center_code = center/info.length_unit + np.array([0.5, 0.5, 0.5])\n",
    "\n",
    "level_min = np.max([1, math.floor(np.log2(1/radius_code/2))])\n",
    "level_max = info.amr_level_sim_max\n",
    "bitlen = level_min-1\n",
    "\n",
    "dkey = 2**(ndim*(level_max-level_min))\n",
    "ibound = [0, 0, 0, 0, 0, 0]\n",
    "\n",
    "if (bit_len > 0):\n",
    "    ibound[0:3] = np.array((center_code-radius_code)*2**bitlen, dtype=int)\n",
    "    ibound[3:6] = np.array((center_code+radius_code)*2**bitlen, dtype=int)\n",
    "    ndom = 8\n",
    "    idom = [ibound[0], ibound[3]]*4\n",
    "    jdom = ([ibound[1]]*2 + [ibound[4]]*2)*2\n",
    "    kdom = [ibound[2]]*4 + [ibound[5]]*4\n",
    "    order_min = hilbert3d(idom, jdom, kdom, bitlen)\n",
    "else:\n",
    "    ndom = 1\n",
    "    order_min = np.array([0.])\n",
    "    \n",
    "bounding_min = order_min*dkey\n",
    "bounding_max = (order_min+1)*dkey\n",
    "\n",
    "cpu_min = np.zeros(ndom, dtype=int)\n",
    "cpu_max = np.zeros(ndom, dtype=int)\n",
    "for idx_cpu in range(0, info.ncpu):\n",
    "    for idom in range(0, ndom):\n",
    "        if( (info.bound_key[icpu] <= bounding_min[idom]) and (info.bound_key[icpu+1] > bounding_min[idom]) ):\n",
    "            cpu_min[idom] = icpu+1\n",
    "        if( (info.bound_key[icpu] < bounding_max[idom]) and (info.bound_key[icpu+1] >= bounding_max[idom]) ):\n",
    "            cpu_max[idom] = icpu+1\n",
    "\n",
    "\n",
    "ncpu_read = 0\n",
    "cpu_read = np.zeros(ncpu, dtype=bool)\n",
    "cpu_list = []\n",
    "for idom in range(0,ndom):\n",
    "    for icpu in range(cpu_min[idom]-1,cpu_max[idom]):\n",
    "        if ( not cpu_read[icpu] ):\n",
    "            cpu_list.append(icpu+1)\n",
    "            ncpu_read = ncpu_read+1\n",
    "            cpu_read[icpu] = True\n"
   ]
  },
  {
   "cell_type": "code",
   "execution_count": 285,
   "id": "bc10d45f",
   "metadata": {},
   "outputs": [],
   "source": [
    "def get_cpu_list(center, radius):\n",
    "    \n",
    "    for i in range(0, info.nlevelmax):\n",
    "        dx = 1/2**ilevel\n",
    "        if (dx < 2*radius/info.boxlen):\n",
    "            break\n",
    "\n",
    "    levelmin = np.max([ilevel,1])\n",
    "    bit_length = levelmin-1\n",
    "    nmax = 2**bit_length\n",
    "    ndim = info.ndim\n",
    "    ncpu = info.ncpu\n",
    "    nlevelmax = info.nlevelmax\n",
    "    dkey = 2**(ndim*(nlevelmax+1-bit_length))\n",
    "    ibound = [0, 0, 0, 0, 0, 0]\n",
    "    if(bit_length > 0):\n",
    "        ibound[0:3] = (center-radius)*nmax/info.boxlen\n",
    "        ibound[3:6] = (center+radius)*nmax/info.boxlen\n",
    "        ibound[0:3] = np.array(ibound[0:3]).astype(int)\n",
    "        ibound[3:6] = np.array(ibound[3:6]).astype(int)\n",
    "        ndom = 8\n",
    "        idom = [ibound[0], ibound[3], ibound[0], ibound[3], ibound[0], ibound[3], ibound[0], ibound[3]]\n",
    "        jdom = [ibound[1], ibound[1], ibound[4], ibound[4], ibound[1], ibound[1], ibound[4], ibound[4]]\n",
    "        kdom = [ibound[2], ibound[2], ibound[2], ibound[2], ibound[5], ibound[5], ibound[5], ibound[5]]\n",
    "        order_min = hilbert3d(idom,jdom,kdom,bit_length)\n",
    "    else:\n",
    "        ndom = 1\n",
    "        order_min = np.array([0.])\n",
    "        \n",
    "    bounding_min = order_min*dkey\n",
    "    bounding_max = (order_min+1)*dkey\n",
    "\n",
    "    cpu_min = np.zeros(ndom, dtype=int)\n",
    "    cpu_max = np.zeros(ndom, dtype=int)\n",
    "    for icpu in range(0,ncpu):\n",
    "        for idom in range(0,ndom):\n",
    "            if( (info.bound_key[icpu] <= bounding_min[idom]) and (info.bound_key[icpu+1] > bounding_min[idom]) ):\n",
    "                cpu_min[idom] = icpu+1\n",
    "            if( (info.bound_key[icpu] < bounding_max[idom]) and (info.bound_key[icpu+1] >= bounding_max[idom]) ):\n",
    "                cpu_max[idom] = icpu+1\n",
    "\n",
    "\n",
    "    ncpu_read = 0\n",
    "    cpu_read = np.zeros(ncpu, dtype=bool)\n",
    "    cpu_list = []\n",
    "    for idom in range(0,ndom):\n",
    "        for icpu in range(cpu_min[idom]-1,cpu_max[idom]):\n",
    "            if ( not cpu_read[icpu] ):\n",
    "                cpu_list.append(icpu+1)\n",
    "                ncpu_read = ncpu_read+1\n",
    "                cpu_read[icpu] = True\n",
    "\n",
    "    return cpu_list\n"
   ]
  },
  {
   "cell_type": "code",
   "execution_count": 59,
   "id": "7660d29b",
   "metadata": {},
   "outputs": [
    {
     "ename": "AttributeError",
     "evalue": "'types.SimpleNamespace' object has no attribute 'nlevelmax'",
     "output_type": "error",
     "traceback": [
      "\u001b[0;31m---------------------------------------------------------------------------\u001b[0m",
      "\u001b[0;31mAttributeError\u001b[0m                            Traceback (most recent call last)",
      "Cell \u001b[0;32mIn[59], line 1\u001b[0m\n\u001b[0;32m----> 1\u001b[0m \u001b[43mget_cpu_list\u001b[49m\u001b[43m(\u001b[49m\u001b[38;5;241;43m0\u001b[39;49m\u001b[43m,\u001b[49m\u001b[43m \u001b[49m\u001b[38;5;241;43m10\u001b[39;49m\u001b[43m)\u001b[49m\n",
      "Cell \u001b[0;32mIn[58], line 3\u001b[0m, in \u001b[0;36mget_cpu_list\u001b[0;34m(center, radius)\u001b[0m\n\u001b[1;32m      1\u001b[0m \u001b[38;5;28;01mdef\u001b[39;00m \u001b[38;5;21mget_cpu_list\u001b[39m(center, radius):\n\u001b[0;32m----> 3\u001b[0m     \u001b[38;5;28;01mfor\u001b[39;00m i \u001b[38;5;129;01min\u001b[39;00m \u001b[38;5;28mrange\u001b[39m(\u001b[38;5;241m0\u001b[39m, \u001b[43minfo\u001b[49m\u001b[38;5;241;43m.\u001b[39;49m\u001b[43mnlevelmax\u001b[49m):\n\u001b[1;32m      4\u001b[0m         dx \u001b[38;5;241m=\u001b[39m \u001b[38;5;241m1\u001b[39m\u001b[38;5;241m/\u001b[39m\u001b[38;5;241m2\u001b[39m\u001b[38;5;241m*\u001b[39m\u001b[38;5;241m*\u001b[39milevel\n\u001b[1;32m      5\u001b[0m         \u001b[38;5;28;01mif\u001b[39;00m (dx \u001b[38;5;241m<\u001b[39m \u001b[38;5;241m2\u001b[39m\u001b[38;5;241m*\u001b[39mradius\u001b[38;5;241m/\u001b[39minfo\u001b[38;5;241m.\u001b[39mboxlen):\n",
      "\u001b[0;31mAttributeError\u001b[0m: 'types.SimpleNamespace' object has no attribute 'nlevelmax'"
     ]
    }
   ],
   "source": [
    "get_cpu_list(0, 10)\n"
   ]
  },
  {
   "cell_type": "code",
   "execution_count": 26,
   "id": "0ecff850",
   "metadata": {},
   "outputs": [],
   "source": [
    "id_star = np.array([])\n",
    "    tau_starbirth = np.array([])\n",
    "    for i in range(1, info.ncpu+1):\n",
    "        partfile = os.path.join(\"output_%.5d\" % dump, \"part_%.5d.out%.5d\" % (dump, i))\n",
    "        with FortranFile(partfile, 'r') as f:\n",
    "            _, _, _ = f.read_ints('i'), f.read_ints('i'), f.read_ints('i')\n",
    "            _, _, _, _, _ = f.read_reals('f8'), f.read_reals('f4'), f.read_reals('f8'), f.read_reals('f8'), f.read_reals('f4')\n",
    "            _, _, _ = f.read_reals('f8'), f.read_reals('f8'), f.read_reals('f8') # position\n",
    "            _, _, _ = f.read_reals('f8'), f.read_reals('f8'), f.read_reals('f8') # velocity\n",
    "            _ = f.read_reals('f8') # mass\n",
    "            id_part = f.read_ints('i') # id\n",
    "            _ = f.read_ints('i') # level\n",
    "            type_part = f.read_ints('b') # family\n",
    "            _ = f.read_ints('b') # tag\n",
    "            tau_partbirth = f.read_reals('f8') # birthtime\n",
    "            _ = f.read_reals('f8') # metallicity\n",
    "            id_star = np.concatenate((id_star, id_part[type_part==STAR]))\n",
    "            tau_starbirth = np.concatenate((tau_starbirth, tau_partbirth[type_part==STAR]))\n",
    "    integrand = lambda a: (info.Omega_m0 * a**(-1) + info.Omega_k0 + info.Omega_L0 * a**2)**(-1/2)\n",
    "    age_universe = quad(integrand, 0, 1)[0] / info.H0\n",
    "    time_starbirth = tau_starbirth / info.H0 + age_universe\n",
    "    return id_star, time_starbirth\n"
   ]
  },
  {
   "cell_type": "code",
   "execution_count": 31,
   "id": "7135149e",
   "metadata": {},
   "outputs": [
    {
     "ename": "NameError",
     "evalue": "name 'quad' is not defined",
     "output_type": "error",
     "traceback": [
      "\u001b[0;31m---------------------------------------------------------------------------\u001b[0m",
      "\u001b[0;31mNameError\u001b[0m                                 Traceback (most recent call last)",
      "Cell \u001b[0;32mIn[31], line 1\u001b[0m\n\u001b[0;32m----> 1\u001b[0m \u001b[43mread_partfile\u001b[49m\u001b[43m(\u001b[49m\u001b[38;5;241;43m54\u001b[39;49m\u001b[43m)\u001b[49m\n",
      "Cell \u001b[0;32mIn[26], line 32\u001b[0m, in \u001b[0;36mread_partfile\u001b[0;34m(dump)\u001b[0m\n\u001b[1;32m     30\u001b[0m         tau_starbirth \u001b[38;5;241m=\u001b[39m np\u001b[38;5;241m.\u001b[39mconcatenate((tau_starbirth, tau_partbirth[type_part\u001b[38;5;241m==\u001b[39mSTAR]))\n\u001b[1;32m     31\u001b[0m integrand \u001b[38;5;241m=\u001b[39m \u001b[38;5;28;01mlambda\u001b[39;00m a: (info\u001b[38;5;241m.\u001b[39mOmega_m0 \u001b[38;5;241m*\u001b[39m a\u001b[38;5;241m*\u001b[39m\u001b[38;5;241m*\u001b[39m(\u001b[38;5;241m-\u001b[39m\u001b[38;5;241m1\u001b[39m) \u001b[38;5;241m+\u001b[39m info\u001b[38;5;241m.\u001b[39mOmega_k0 \u001b[38;5;241m+\u001b[39m info\u001b[38;5;241m.\u001b[39mOmega_L0 \u001b[38;5;241m*\u001b[39m a\u001b[38;5;241m*\u001b[39m\u001b[38;5;241m*\u001b[39m\u001b[38;5;241m2\u001b[39m)\u001b[38;5;241m*\u001b[39m\u001b[38;5;241m*\u001b[39m(\u001b[38;5;241m-\u001b[39m\u001b[38;5;241m1\u001b[39m\u001b[38;5;241m/\u001b[39m\u001b[38;5;241m2\u001b[39m)\n\u001b[0;32m---> 32\u001b[0m age_universe \u001b[38;5;241m=\u001b[39m \u001b[43mquad\u001b[49m(integrand, \u001b[38;5;241m0\u001b[39m, \u001b[38;5;241m1\u001b[39m)[\u001b[38;5;241m0\u001b[39m] \u001b[38;5;241m/\u001b[39m info\u001b[38;5;241m.\u001b[39mH0\n\u001b[1;32m     33\u001b[0m time_starbirth \u001b[38;5;241m=\u001b[39m tau_starbirth \u001b[38;5;241m/\u001b[39m info\u001b[38;5;241m.\u001b[39mH0 \u001b[38;5;241m+\u001b[39m age_universe\n\u001b[1;32m     34\u001b[0m \u001b[38;5;28;01mreturn\u001b[39;00m id_star, time_starbirth\n",
      "\u001b[0;31mNameError\u001b[0m: name 'quad' is not defined"
     ]
    }
   ],
   "source": [
    "read_partfile(54)\n"
   ]
  },
  {
   "cell_type": "code",
   "execution_count": null,
   "id": "fe27af2e",
   "metadata": {},
   "outputs": [],
   "source": []
  }
 ],
 "metadata": {
  "kernelspec": {
   "display_name": "Python 3",
   "language": "python",
   "name": "python3"
  },
  "language_info": {
   "codemirror_mode": {
    "name": "ipython",
    "version": 3
   },
   "file_extension": ".py",
   "mimetype": "text/x-python",
   "name": "python",
   "nbconvert_exporter": "python",
   "pygments_lexer": "ipython3",
   "version": "3.10.9"
  }
 },
 "nbformat": 4,
 "nbformat_minor": 5
}
