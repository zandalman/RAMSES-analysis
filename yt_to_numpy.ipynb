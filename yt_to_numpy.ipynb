{
 "cells": [
  {
   "cell_type": "code",
   "execution_count": 31,
   "id": "e33418c3",
   "metadata": {},
   "outputs": [],
   "source": [
    "import os, subprocess, warnings\n",
    "from datetime import datetime\n",
    "from tabulate import tabulate\n",
    "\n",
    "import numpy as np\n",
    "import matplotlib.pyplot as plt\n",
    "from matplotlib.lines import Line2D\n",
    "\n",
    "from datetime import datetime\n",
    "from scipy.integrate import quad, quad_vec, trapz, cumtrapz\n",
    "from scipy.optimize import fsolve\n",
    "from scipy.ndimage import gaussian_filter\n",
    "from scipy.special import erf\n",
    "from scipy.interpolate import griddata, interpn\n",
    "from scipy.signal import welch\n",
    "\n",
    "from functools import cached_property\n",
    "\n",
    "from sim import *\n",
    "import const\n",
    "\n",
    "import yt\n"
   ]
  },
  {
   "cell_type": "code",
   "execution_count": 32,
   "id": "d4bb0061",
   "metadata": {},
   "outputs": [],
   "source": [
    "sim_idx = GAS\n"
   ]
  },
  {
   "cell_type": "code",
   "execution_count": 33,
   "id": "e5cc3e70",
   "metadata": {},
   "outputs": [],
   "source": [
    "sim_name = list_of_sim_name[sim_idx]\n",
    "sim_latex = list_of_sim_latex[sim_idx]\n",
    "sim_dir = os.path.join(sim_base_dir, sim_name)\n",
    "\n",
    "os.chdir(sim_dir)\n"
   ]
  },
  {
   "cell_type": "code",
   "execution_count": 34,
   "id": "bf9521c0",
   "metadata": {},
   "outputs": [],
   "source": [
    "def get_stdout(cmd):\n",
    "    ''' Return the standard output of a command line directive '''\n",
    "    stdout = subprocess.check_output(cmd, shell=True).decode()\n",
    "    return stdout\n"
   ]
  },
  {
   "cell_type": "code",
   "execution_count": 35,
   "id": "02c9d72e",
   "metadata": {},
   "outputs": [],
   "source": [
    "class Halo(object):\n",
    "    '''\n",
    "    Object for storing data from halo files.\n",
    "    \n",
    "    Args\n",
    "    stdout_split: standard output of a halo search command\n",
    "    \n",
    "    Attrs\n",
    "    idx (int): halo index\n",
    "    ncell (int): number of dark matter particles in the halo\n",
    "    coord: coordinates of the halo (in code units before running convert_to_cgs)\n",
    "    rho_max (float): max density in the halo in code units (in code units before running convert_to_cgs)\n",
    "    mass (float): mass of the halo in code units (in code units before running convert_to_cgs)\n",
    "    '''\n",
    "    def __init__(self, stdout_split):\n",
    "        \n",
    "        self.idx = int(stdout_split[0])\n",
    "        self.ncell = int(stdout_split[1])\n",
    "        self.coord = np.array(stdout_split[2:5], dtype=float)\n",
    "        self.rho_max = float(stdout_split[5])\n",
    "        self.mass = float(stdout_split[6])\n",
    "        \n",
    "    def convert_to_cgs(self):\n",
    "        ''' Convert attributes to cgs units. '''\n",
    "        self.coord *= length_unit\n",
    "        self.rho_max *= density_unit\n",
    "        self.mass *= mass_unit\n",
    "        \n",
    "        \n",
    "class Clump(object):\n",
    "    '''\n",
    "    Object for storing data from clump files.\n",
    "    \n",
    "    Args\n",
    "    stdout_split: standard output of a clump search command\n",
    "    \n",
    "    Attrs\n",
    "    idx (int): clump index\n",
    "    lev (int): number of merging iterations away from halo\n",
    "    parent_idx (int): index of the clump one level below\n",
    "    ncell (int): number of dark matter particles in the clump\n",
    "    coord: coordinates of the clump (in code units before running convert_to_cgs)\n",
    "    rho_border (float): max density on the clump boundary (in code units before running convert_to_cgs)\n",
    "    rho_max (float): max density in the clump (in code units before running convert_to_cgs)\n",
    "    mass (float): mass of the clump (in code units before running convert_to_cgs)\n",
    "    '''\n",
    "    def __init__(self, stdout_split):\n",
    "        \n",
    "        stdout_split = stdout.split()\n",
    "        \n",
    "        self.idx = int(stdout_split[0])\n",
    "        self.level = int(stdout_split[1])\n",
    "        self.parent_idx = int(stdout_split[2])\n",
    "        self.ncell = int(stdout_split[3])\n",
    "        self.coord = np.array(stdout_split[4:7], dtype=float)\n",
    "        self.rho_border = float(stdout_split[7])\n",
    "        self.rho_max = float(stdout_split[8])\n",
    "        self.mass = float(stdout_split[9])\n",
    "        \n",
    "    def convert_to_cgs(self):\n",
    "        ''' Convert attributes to cgs units. '''\n",
    "        self.coord *= length_unit\n",
    "        self.rho_border *= density_unit\n",
    "        self.rho_max *= density_unit\n",
    "        self.mass *= mass_unit\n",
    "        "
   ]
  },
  {
   "cell_type": "code",
   "execution_count": 39,
   "id": "edbc2684",
   "metadata": {},
   "outputs": [],
   "source": [
    "def get_biggest_halos(num, use_density=True):\n",
    "    '''\n",
    "    Find the biggest halos in the simulation and return a list of Halo objects.\n",
    "    \n",
    "    Args\n",
    "    num (int): number of halos to find\n",
    "    use_density (bool): use halo density to define \"biggest\", rather than halo mass\n",
    "    \n",
    "    Returns\n",
    "    list_of_halo: list of Halo objects\n",
    "    '''\n",
    "    biggest_halo_by_density_stdout = get_stdout(\"cat output*/halo* | sort -r -nk 2 | head -n 1\").split()\n",
    "    biggest_halo_by_density = Halo(biggest_halo_by_density_stdout)\n",
    "    \n",
    "    biggest_halo_by_mass_stdout = get_stdout(\"cat output*/halo* | sort -r -gk 7 | head -n 1\").split()\n",
    "    biggest_halo_by_mass = Halo(biggest_halo_by_mass_stdout)\n",
    "    \n",
    "    if use_density:\n",
    "        list_of_stdout_split = np.array(get_stdout(\"cat output*/halo* | sort -r -nk 2 | head -n %d\" % num).split()).reshape(-1, 7)\n",
    "    else:\n",
    "        list_of_stdout_split = np.array(get_stdout(\"cat output*/halo* | sort -r -gk 7 | head -n %d\" % num).split()).reshape(-1, 7)\n",
    "    \n",
    "    list_of_halo = [Halo(stdout_split) for stdout_split in list_of_stdout_split]\n",
    "        \n",
    "    if biggest_halo_by_density.idx != biggest_halo_by_mass.idx:\n",
    "        warnings.warn(\"Biggest density and biggest mass halo are not the same.\")\n",
    "    \n",
    "    if num == 1:\n",
    "        return list_of_halo[0]\n",
    "    else:\n",
    "        return list_of_halo\n",
    "        \n",
    "    return list_of_halo\n",
    "    "
   ]
  },
  {
   "cell_type": "code",
   "execution_count": 40,
   "id": "7489f1ec",
   "metadata": {},
   "outputs": [],
   "source": [
    "halo = get_biggest_halos(1, use_density=False)\n",
    "info_file = get_stdout(\"ls output*/info*\").split()[0]\n",
    "\n",
    "halo.xyz = np.array([5.105151466E-01, 5.127534424E-01, 4.929928780E-01])\n",
    "    "
   ]
  },
  {
   "cell_type": "code",
   "execution_count": 41,
   "id": "764b49c5",
   "metadata": {},
   "outputs": [
    {
     "name": "stderr",
     "output_type": "stream",
     "text": [
      "yt : [INFO     ] 2023-10-06 15:45:04,351 Parameters: current_time              = 4.006925024948247\n",
      "yt : [INFO     ] 2023-10-06 15:45:04,352 Parameters: domain_dimensions         = [128 128 128]\n",
      "yt : [INFO     ] 2023-10-06 15:45:04,352 Parameters: domain_left_edge          = [0. 0. 0.]\n",
      "yt : [INFO     ] 2023-10-06 15:45:04,353 Parameters: domain_right_edge         = [1. 1. 1.]\n",
      "yt : [INFO     ] 2023-10-06 15:45:04,353 Parameters: cosmological_simulation   = 1\n",
      "yt : [INFO     ] 2023-10-06 15:45:04,353 Parameters: current_redshift          = 8.999851699314442\n",
      "yt : [INFO     ] 2023-10-06 15:45:04,354 Parameters: omega_lambda              = 0.723999977111816\n",
      "yt : [INFO     ] 2023-10-06 15:45:04,354 Parameters: omega_matter              = 0.275999993085861\n",
      "yt : [INFO     ] 2023-10-06 15:45:04,354 Parameters: omega_radiation           = 0.0\n",
      "yt : [INFO     ] 2023-10-06 15:45:04,354 Parameters: hubble_constant           = 0.703000030517578\n"
     ]
    }
   ],
   "source": [
    "ds = yt.load(info_file)\n"
   ]
  },
  {
   "cell_type": "code",
   "execution_count": 9,
   "id": "2beae83d",
   "metadata": {},
   "outputs": [
    {
     "ename": "NameError",
     "evalue": "name 'ds' is not defined",
     "output_type": "error",
     "traceback": [
      "\u001b[0;31m---------------------------------------------------------------------------\u001b[0m",
      "\u001b[0;31mNameError\u001b[0m                                 Traceback (most recent call last)",
      "Cell \u001b[0;32mIn[9], line 1\u001b[0m\n\u001b[0;32m----> 1\u001b[0m a_exp \u001b[38;5;241m=\u001b[39m \u001b[43mds\u001b[49m[\u001b[38;5;124m\"\u001b[39m\u001b[38;5;124maexp\u001b[39m\u001b[38;5;124m\"\u001b[39m]\n\u001b[1;32m      2\u001b[0m H0 \u001b[38;5;241m=\u001b[39m ds[\u001b[38;5;124m\"\u001b[39m\u001b[38;5;124mH0\u001b[39m\u001b[38;5;124m\"\u001b[39m] \u001b[38;5;241m*\u001b[39m const\u001b[38;5;241m.\u001b[39mkm \u001b[38;5;241m/\u001b[39m const\u001b[38;5;241m.\u001b[39mMpc\n\u001b[1;32m      3\u001b[0m Omega_m0 \u001b[38;5;241m=\u001b[39m ds[\u001b[38;5;124m\"\u001b[39m\u001b[38;5;124momega_m\u001b[39m\u001b[38;5;124m\"\u001b[39m]\n",
      "\u001b[0;31mNameError\u001b[0m: name 'ds' is not defined"
     ]
    }
   ],
   "source": [
    "a_exp = ds[\"aexp\"]\n",
    "H0 = ds[\"H0\"] * const.km / const.Mpc\n",
    "Omega_m0 = ds[\"omega_m\"]\n",
    "Omega_L0 = ds[\"omega_l\"]\n",
    "Omega_k0 = ds[\"omega_k\"]\n",
    "Omega_b0 = ds[\"omega_b\"]\n",
    "\n",
    "length_unit = ds[\"unit_l\"]\n",
    "density_unit = ds[\"unit_d\"]\n",
    "time_unit = ds[\"unit_t\"]\n",
    "\n",
    "max_amr_level = 13\n",
    "box_size = 2 * const.kpc\n",
    "left_edge = halo.coord - box_size / 2\n",
    "N = int(box_size / length_unit * ds.domain_dimensions[0] * 2**amr_level)\n"
   ]
  },
  {
   "cell_type": "code",
   "execution_count": 77,
   "id": "1c5ff4f1",
   "metadata": {},
   "outputs": [],
   "source": [
    "data = ds.covering_grid(level=amr_level, left_edge=left_edge, dims=[N]*3)\n"
   ]
  },
  {
   "cell_type": "code",
   "execution_count": 8,
   "id": "607c2537",
   "metadata": {},
   "outputs": [
    {
     "ename": "NameError",
     "evalue": "name 'a_exp_to_proper_time' is not defined",
     "output_type": "error",
     "traceback": [
      "\u001b[0;31m---------------------------------------------------------------------------\u001b[0m",
      "\u001b[0;31mNameError\u001b[0m                                 Traceback (most recent call last)",
      "Cell \u001b[0;32mIn[8], line 1\u001b[0m\n\u001b[0;32m----> 1\u001b[0m \u001b[43ma_exp_to_proper_time\u001b[49m(\u001b[38;5;241m1.\u001b[39m)\n",
      "\u001b[0;31mNameError\u001b[0m: name 'a_exp_to_proper_time' is not defined"
     ]
    }
   ],
   "source": [
    "a_exp_to_proper_time(1.)\n"
   ]
  },
  {
   "cell_type": "code",
   "execution_count": 78,
   "id": "b4950c2c",
   "metadata": {},
   "outputs": [
    {
     "name": "stderr",
     "output_type": "stream",
     "text": [
      "yt : [WARNING  ] 2023-09-27 10:11:38,011 The DM particle filter already exists. Overriding.\n",
      "yt : [WARNING  ] 2023-09-27 10:11:38,012 The star particle filter already exists. Overriding.\n",
      "yt : [WARNING  ] 2023-09-27 10:11:38,013 The cloud particle filter already exists. Overriding.\n",
      "yt : [WARNING  ] 2023-09-27 10:11:38,013 The dust particle filter already exists. Overriding.\n",
      "yt : [WARNING  ] 2023-09-27 10:11:38,014 The star_tracer particle filter already exists. Overriding.\n",
      "yt : [WARNING  ] 2023-09-27 10:11:38,014 The cloud_tracer particle filter already exists. Overriding.\n",
      "yt : [WARNING  ] 2023-09-27 10:11:38,014 The dust_tracer particle filter already exists. Overriding.\n",
      "yt : [WARNING  ] 2023-09-27 10:11:38,014 The gas_tracer particle filter already exists. Overriding.\n",
      "yt : [INFO     ] 2023-09-27 10:11:38,015 Adding particle_type: DM\n",
      "yt : [INFO     ] 2023-09-27 10:11:38,025 Adding particle_type: star\n",
      "yt : [INFO     ] 2023-09-27 10:11:38,035 Adding particle_type: cloud\n",
      "yt : [INFO     ] 2023-09-27 10:11:38,044 Adding particle_type: dust\n",
      "yt : [INFO     ] 2023-09-27 10:11:38,054 Adding particle_type: star_tracer\n",
      "yt : [INFO     ] 2023-09-27 10:11:38,063 Adding particle_type: cloud_tracer\n",
      "yt : [INFO     ] 2023-09-27 10:11:38,073 Adding particle_type: dust_tracer\n",
      "yt : [INFO     ] 2023-09-27 10:11:38,083 Adding particle_type: gas_tracer\n"
     ]
    }
   ],
   "source": [
    "particle_type = data[\"io\", \"particle_family\"].value.astype(int)\n",
    "is_dm = particle_type == DM\n",
    "is_star = particle_type == STAR\n",
    "\n",
    "coord_dm = (np.array([data[\"io\", \"particle_position_x\"].value[is_dm], data[\"io\", \"particle_position_y\"].value[is_dm], data[\"io\", \"particle_position_z\"].value[is_dm]]) - left_edge[:, None]) * length_unit - box_size / 2\n",
    "mass_dm = data[\"io\", \"particle_mass\"][is_dm] * mass_unit\n",
    "\n",
    "universe_age = a_exp_to_proper_time(1.)\n",
    "star_coord = (np.array([data[\"io\", \"particle_position_x\"].value[is_star], data[\"io\", \"particle_position_y\"].value[is_star], data[\"io\", \"particle_position_z\"].value[is_star]]) - left_edge[:, None]) * length_unit - box_size / 2\n",
    "star_mass = data[\"io\", \"particle_mass\"][is_star] * mass_unit\n",
    "star_birth_time = (data[\"io\", \"conformal_birth_time\"][is_star].value / H0 + universe_age)\n"
   ]
  },
  {
   "cell_type": "code",
   "execution_count": 79,
   "id": "d331c9eb",
   "metadata": {},
   "outputs": [],
   "source": [
    "coord = (np.array([data[\"index\", \"x\"].value, data[\"index\", \"y\"].value, data[\"index\", \"z\"].value]) - left_edge[:, None, None, None] - box_size / 2) * length_unit\n",
    "coord1d = np.array([coord[X, :, N//2, N//2], coord[Y, N//2, :, N//2], coord[Z, N//2, N//2, :]])\n",
    "density = data[\"ramses\", \"Density\"].value * density_unit\n",
    "metallicity = data[\"ramses\", \"Metallicity\"].value \n",
    "pressure = data[\"ramses\", \"Pressure\"].value * energy_density_unit\n",
    "turb_energy = data[\"ramses\", \"hydro_scalar_01\"].value * velocity_unit**2\n",
    "refinement_criterion = data[\"ramses\", \"hydro_scalar_02\"].value\n",
    "vel_vec = np.array([data[\"ramses\", \"x-velocity\"].value, data[\"ramses\", \"y-velocity\"].value, data[\"ramses\", \"z-velocity\"].value]) * velocity_unit\n"
   ]
  },
  {
   "cell_type": "code",
   "execution_count": 80,
   "id": "23b6c9d7",
   "metadata": {},
   "outputs": [],
   "source": [
    "r = np.sqrt(np.sum(coord**2, axis=0))\n",
    "r_dm = np.sqrt(np.sum(dm_coord**2, axis=0))\n",
    "r_star = np.sqrt(np.sum(star_coord**2, axis=0))\n",
    "temperature = pressure / density * const.m_H / const.k_B\n",
    "vel = np.sqrt(np.sum(vel_vec**2, axis=0))\n"
   ]
  },
  {
   "cell_type": "code",
   "execution_count": 81,
   "id": "b02a8a69",
   "metadata": {},
   "outputs": [],
   "source": [
    "np.savez(\n",
    "    file=\"gridded_data_small\",\n",
    "    halo_idx=halo.index,\n",
    "    halo_mass=halo.mass*mass_unit,\n",
    "    a_exp=a_exp,\n",
    "    redshift=redshift,\n",
    "    current_time=current_time,\n",
    "    H0=H0,\n",
    "    Omega_m0=Omega_m0,\n",
    "    Omega_L0=Omega_L0,\n",
    "    Omega_k0=Omega_k0,\n",
    "    Omega_b0=Omega_b0,\n",
    "    H=H,\n",
    "    rho_crit=rho_crit,\n",
    "    length_unit=length_unit,\n",
    "    density_unit=density_unit,\n",
    "    time_unit=time_unit,\n",
    "    mass_unit=mass_unit,\n",
    "    velocity_unit=velocity_unit,\n",
    "    energy_unit=energy_unit,\n",
    "    energy_density_unit=energy_density_unit,\n",
    "    amr_level=13,\n",
    "    box_size=box_size,\n",
    "    left_edge=left_edge,\n",
    "    N=N,\n",
    "    dx=dx,\n",
    "    dV=dV,\n",
    "    dm_coord=dm_coord,\n",
    "    dm_mass=dm_mass,\n",
    "    star_coord=star_coord,\n",
    "    star_mass=star_mass,\n",
    "    star_birth_time=star_birth_time,\n",
    "    coord=coord,\n",
    "    coord1d=coord1d,\n",
    "    density=density,\n",
    "    metallicity=metallicity,\n",
    "    pressure=pressure,\n",
    "    turb_energy=turb_energy,\n",
    "    refinement_criterion=refinement_criterion,\n",
    "    vel_vec=vel_vec,\n",
    "    r=r,\n",
    "    r_dm=r_dm,\n",
    "    r_star=r_star,\n",
    "    temperature=temperature,\n",
    "    vel=vel\n",
    ")\n"
   ]
  },
  {
   "cell_type": "code",
   "execution_count": null,
   "id": "62f21d37",
   "metadata": {},
   "outputs": [],
   "source": []
  },
  {
   "cell_type": "code",
   "execution_count": null,
   "id": "9e4d0345",
   "metadata": {},
   "outputs": [],
   "source": []
  },
  {
   "cell_type": "code",
   "execution_count": null,
   "id": "ac2c48a6",
   "metadata": {},
   "outputs": [],
   "source": []
  }
 ],
 "metadata": {
  "kernelspec": {
   "display_name": "Python 3 (ipykernel)",
   "language": "python",
   "name": "python3"
  },
  "language_info": {
   "codemirror_mode": {
    "name": "ipython",
    "version": 3
   },
   "file_extension": ".py",
   "mimetype": "text/x-python",
   "name": "python",
   "nbconvert_exporter": "python",
   "pygments_lexer": "ipython3",
   "version": "3.10.9"
  }
 },
 "nbformat": 4,
 "nbformat_minor": 5
}
