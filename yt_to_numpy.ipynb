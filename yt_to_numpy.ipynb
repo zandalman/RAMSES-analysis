{
 "cells": [
  {
   "cell_type": "code",
   "execution_count": 1,
   "id": "aeb42dc8",
   "metadata": {},
   "outputs": [],
   "source": [
    "%load_ext autoreload\n",
    "%autoreload 2\n"
   ]
  },
  {
   "cell_type": "code",
   "execution_count": 2,
   "id": "e33418c3",
   "metadata": {},
   "outputs": [],
   "source": [
    "import yt\n",
    "from yt.units import dimensions\n",
    "from yt.visualization.fixed_resolution import FixedResolutionBuffer\n",
    "\n",
    "from modules import *\n",
    "from sim import *\n",
    "from read_ramses import *\n"
   ]
  },
  {
   "cell_type": "code",
   "execution_count": 56,
   "id": "d4bb0061",
   "metadata": {},
   "outputs": [
    {
     "name": "stdout",
     "output_type": "stream",
     "text": [
      "Moving to directory '/home/za9132/scratch/romain/round8/bturbfunc'.\n",
      "\n",
      "Dump: 11\n",
      "a_exp: 0.0653\n",
      "Maximum AMR level: 13\n"
     ]
    }
   ],
   "source": [
    "# choose simulation\n",
    "sim_round = 8\n",
    "sim_name = \"bturbfunc\"\n",
    "sim_dir = move_to_sim_dir(sim_round, sim_name)\n",
    "print()\n",
    "\n",
    "dump = get_dump(a_exp=0.1)\n",
    "info = get_info(dump)\n",
    "\n",
    "print(\"Dump: %d\" % dump)\n",
    "print(\"a_exp: %.3g\" % info.a_exp)\n",
    "print(\"Maximum AMR level: %d\" % info.amr_level_max)\n"
   ]
  },
  {
   "cell_type": "code",
   "execution_count": 57,
   "id": "3da49bf4",
   "metadata": {},
   "outputs": [
    {
     "name": "stdout",
     "output_type": "stream",
     "text": [
      "Halo coord (mass): (0.50763, 0.50888, 0.49572)\n",
      "Halo coord (cubic): (0.50764, 0.50892, 0.49576)\n"
     ]
    }
   ],
   "source": [
    "use_cubic = False\n",
    "use_override = False\n",
    "\n",
    "halo_cat = get_halo_cat(dump, cgs=True)\n",
    "biggest_halo_idx = np.argmax(halo_cat.mass)\n",
    "biggest_halo_coord_mass = halo_cat.coord[:, biggest_halo_idx]\n",
    "biggest_halo_coord_cubic = get_biggest_halo_coord_cubic(info.a_exp) * info.length_unit\n",
    "biggest_halo_coord_override = np.array([0.51053163, 0.51277185, 0.49297882]) * info.length_unit\n",
    "\n",
    "print(\"Halo coord (mass): (%.5g, %.5g, %.5g)\" % tuple(biggest_halo_coord_mass / info.length_unit))\n",
    "print(\"Halo coord (cubic): (%.5g, %.5g, %.5g)\" % tuple(biggest_halo_coord_cubic / info.length_unit))\n",
    "\n",
    "if use_override: \n",
    "    biggest_halo_coord = biggest_halo_coord_override\n",
    "elif use_cubic:\n",
    "    biggest_halo_coord = biggest_halo_coord_cubic\n",
    "else:\n",
    "    biggest_halo_coord = biggest_halo_coord_mass\n",
    "    \n",
    "biggest_halo_coord_code = biggest_halo_coord / info.length_unit\n"
   ]
  },
  {
   "cell_type": "code",
   "execution_count": 58,
   "id": "764b49c5",
   "metadata": {},
   "outputs": [
    {
     "name": "stderr",
     "output_type": "stream",
     "text": [
      "yt : [INFO     ] 2023-12-15 10:20:22,217 Parameters: current_time              = 4.954672323431511\n",
      "yt : [INFO     ] 2023-12-15 10:20:22,218 Parameters: domain_dimensions         = [128 128 128]\n",
      "yt : [INFO     ] 2023-12-15 10:20:22,219 Parameters: domain_left_edge          = [0. 0. 0.]\n",
      "yt : [INFO     ] 2023-12-15 10:20:22,219 Parameters: domain_right_edge         = [1. 1. 1.]\n",
      "yt : [INFO     ] 2023-12-15 10:20:22,220 Parameters: cosmological_simulation   = 1\n",
      "yt : [INFO     ] 2023-12-15 10:20:22,220 Parameters: current_redshift          = 14.307624008890196\n",
      "yt : [INFO     ] 2023-12-15 10:20:22,220 Parameters: omega_lambda              = 0.723999977111816\n",
      "yt : [INFO     ] 2023-12-15 10:20:22,220 Parameters: omega_matter              = 0.275999993085861\n",
      "yt : [INFO     ] 2023-12-15 10:20:22,221 Parameters: omega_radiation           = 0.0\n",
      "yt : [INFO     ] 2023-12-15 10:20:22,221 Parameters: hubble_constant           = 0.703000030517578\n"
     ]
    }
   ],
   "source": [
    "info_file = os.path.join(\"output_%.5d\" % dump, \"info_%.5d.txt\" % dump)\n",
    "ds = yt.load(info_file)\n"
   ]
  },
  {
   "cell_type": "code",
   "execution_count": 60,
   "id": "4322cd5b",
   "metadata": {
    "scrolled": true
   },
   "outputs": [
    {
     "name": "stdout",
     "output_type": "stream",
     "text": [
      "Grid size: 282\n",
      "Lowres factor: 2\n"
     ]
    }
   ],
   "source": [
    "# define size and resolution of the region of interest\n",
    "\n",
    "# tiny grid\n",
    "# amr_level = 13\n",
    "# box_size = 2 * const.kpc\n",
    "\n",
    "# small grid\n",
    "amr_level = 12\n",
    "box_size = 5 * const.kpc\n",
    "\n",
    "# medium grid\n",
    "# amr_level = 10\n",
    "# box_size = 20 * const.kpc\n",
    "\n",
    "# large grid\n",
    "# amr_level = 8\n",
    "# box_size = 100 * const.kpc\n",
    "\n",
    "left_edge = biggest_halo_coord - box_size / 2\n",
    "N = int(box_size / info.length_unit * ds.domain_dimensions[0] * 2**amr_level)\n",
    "lowres = 2**(info.amr_level_max - amr_level)\n",
    "\n",
    "print(\"Grid size: %d\" % N)\n",
    "print(\"Lowres factor: %d\" % lowres)\n"
   ]
  },
  {
   "cell_type": "code",
   "execution_count": 61,
   "id": "1c5ff4f1",
   "metadata": {},
   "outputs": [],
   "source": [
    "# get raw yt data from the region of interest\n",
    "\n",
    "smooth_grid = True\n",
    "\n",
    "if smooth_grid:\n",
    "    data = ds.smoothed_covering_grid(level=amr_level, left_edge=(left_edge / info.length_unit), dims=[N]*3)\n",
    "else:\n",
    "    data = ds.covering_grid(level=amr_level, left_edge=(left_edge / info.length_unit), dims=[N]*3)\n"
   ]
  },
  {
   "cell_type": "code",
   "execution_count": 12,
   "id": "3a699f8d",
   "metadata": {},
   "outputs": [
    {
     "name": "stderr",
     "output_type": "stream",
     "text": [
      "yt : [INFO     ] 2023-12-14 09:43:15,398 Adding particle_type: DM\n",
      "yt : [INFO     ] 2023-12-14 09:43:15,408 Adding particle_type: star\n",
      "yt : [INFO     ] 2023-12-14 09:43:15,417 Adding particle_type: cloud\n",
      "yt : [INFO     ] 2023-12-14 09:43:15,427 Adding particle_type: dust\n",
      "yt : [INFO     ] 2023-12-14 09:43:15,436 Adding particle_type: star_tracer\n",
      "yt : [INFO     ] 2023-12-14 09:43:15,445 Adding particle_type: cloud_tracer\n",
      "yt : [INFO     ] 2023-12-14 09:43:15,455 Adding particle_type: dust_tracer\n",
      "yt : [INFO     ] 2023-12-14 09:43:15,465 Adding particle_type: gas_tracer\n"
     ]
    },
    {
     "name": "stdout",
     "output_type": "stream",
     "text": [
      "density max: [0.50738734 0.50860802 0.49582879]\n",
      "star barycenter: [0.50738766 0.50860804 0.49582879]\n",
      "dm barycenter: [0.5073805  0.50859445 0.49583633]\n"
     ]
    },
    {
     "data": {
      "text/plain": [
       "<matplotlib.legend.Legend at 0x14cb83b46da0>"
      ]
     },
     "execution_count": 12,
     "metadata": {},
     "output_type": "execute_result"
    },
    {
     "data": {
      "image/png": "[encoded data removed]",
      "text/plain": [
       "<Figure size 640x480 with 1 Axes>"
      ]
     },
     "metadata": {},
     "output_type": "display_data"
    }
   ],
   "source": [
    "# quick look at the data\n",
    "\n",
    "slice = X\n",
    "\n",
    "particle_type = data[\"io\", \"particle_family\"].value.astype(int)\n",
    "is_dm = particle_type == DM\n",
    "is_star = particle_type == STAR\n",
    "\n",
    "coord_star_code = (np.array([data[\"io\", \"particle_position_x\"].value[is_star], data[\"io\", \"particle_position_y\"].value[is_star], data[\"io\", \"particle_position_z\"].value[is_star]]))\n",
    "mass_star_code = data[\"io\", \"particle_mass\"][is_star].value\n",
    "\n",
    "coord_dm_code = (np.array([data[\"io\", \"particle_position_x\"].value[is_dm], data[\"io\", \"particle_position_y\"].value[is_dm], data[\"io\", \"particle_position_z\"].value[is_dm]]))\n",
    "mass_dm_code = data[\"io\", \"particle_mass\"][is_dm].value\n",
    "\n",
    "coord_code = np.array([data[\"index\", \"x\"].value, data[\"index\", \"y\"].value, data[\"index\", \"z\"].value])\n",
    "density_code = data[\"ramses\", \"Density\"].value\n",
    "\n",
    "plt.imshow(np.log10(np.sum(density_code, axis=X)), extent=[0, 1, 0, 1], origin='lower')\n",
    "\n",
    "x_idx, y_idx, z_idx = np.array(np.where(density_code == np.max(density_code))).T[0]\n",
    "coord_code_density_max = coord_code[:, x_idx, y_idx, z_idx]\n",
    "coord_code_star_barycenter = np.sum(coord_star_code * mass_star_code, axis=(1)) / np.sum(mass_star_code)\n",
    "coord_code_dm_barycenter = np.sum(coord_dm_code * mass_dm_code, axis=(1)) / np.sum(mass_dm_code)\n",
    "\n",
    "print(\"density max: %s\" % coord_code_density_max)\n",
    "print(\"star barycenter: %s\" % coord_code_star_barycenter)\n",
    "print(\"dm barycenter: %s\" % coord_code_dm_barycenter)\n",
    "\n",
    "plt.plot(0.5, 0.5, '.', color='red', label='center')\n",
    "plt.plot(coord_code_density_max[Y], coord_code_density_max[Z], '.', color='purple', label='density max')\n",
    "plt.plot(coord_code_star_barycenter[Y], coord_code_star_barycenter[Z], '.', color='green', label='star barycenter')\n",
    "plt.plot(coord_code_star_barycenter[Y], coord_code_star_barycenter[Z], '.', color='blue', label='dm barycenter')\n",
    "plt.plot(biggest_halo_coord_cubic[Y] / info.length_unit, biggest_halo_coord_cubic[Z] / info.length_unit, '.', color='orange', label='cubic fit')\n",
    "plt.legend()\n"
   ]
  },
  {
   "cell_type": "code",
   "execution_count": 64,
   "id": "b4950c2c",
   "metadata": {},
   "outputs": [],
   "source": [
    "# read particle data from yt\n",
    "\n",
    "particle_type = data[\"io\", \"particle_family\"].value.astype(int)\n",
    "is_dm = particle_type == DM\n",
    "is_star = particle_type == STAR\n",
    "\n",
    "coord_dm = (np.array([data[\"io\", \"particle_position_x\"].value[is_dm], data[\"io\", \"particle_position_y\"].value[is_dm], data[\"io\", \"particle_position_z\"].value[is_dm]])) * info.length_unit - left_edge[:, None] - box_size / 2\n",
    "mass_dm = data[\"io\", \"particle_mass\"][is_dm] * info.mass_unit\n",
    "\n",
    "coord_star = (np.array([data[\"io\", \"particle_position_x\"].value[is_star], data[\"io\", \"particle_position_y\"].value[is_star], data[\"io\", \"particle_position_z\"].value[is_star]])) * info.length_unit - left_edge[:, None] - box_size / 2\n",
    "mass_star = data[\"io\", \"particle_mass\"][is_star].value * info.mass_unit\n",
    "tau_starbirth = data[\"io\", \"conformal_birth_time\"][is_star].value\n",
    "id_star = data[\"io\", \"particle_identity\"][is_star].value.astype(int)\n"
   ]
  },
  {
   "cell_type": "code",
   "execution_count": 65,
   "id": "d331c9eb",
   "metadata": {},
   "outputs": [],
   "source": [
    "# read gas data from yt\n",
    "\n",
    "coord = (np.array([data[\"index\", \"x\"].value, data[\"index\", \"y\"].value, data[\"index\", \"z\"].value])) * info.length_unit - left_edge[:, None, None, None] - box_size / 2\n",
    "density = data[\"ramses\", \"Density\"].value * info.density_unit\n",
    "metallicity = data[\"ramses\", \"Metallicity\"].value \n",
    "pressure = data[\"ramses\", \"Pressure\"].value * info.energy_density_unit\n",
    "energy_turb = data[\"ramses\", \"hydro_scalar_01\"].value * info.vel_unit**2\n",
    "ref_crit = data[\"ramses\", \"hydro_scalar_02\"].value\n",
    "b_turb = data[\"ramses\", \"hydro_scalar_03\"].value\n",
    "vel_vec = np.array([data[\"ramses\", \"x-velocity\"].value, data[\"ramses\", \"y-velocity\"].value, data[\"ramses\", \"z-velocity\"].value]) * info.vel_unit\n"
   ]
  },
  {
   "cell_type": "code",
   "execution_count": 66,
   "id": "1a502d51",
   "metadata": {},
   "outputs": [
    {
     "ename": "NameError",
     "evalue": "name 'coord_code' is not defined",
     "output_type": "error",
     "traceback": [
      "\u001b[0;31m---------------------------------------------------------------------------\u001b[0m",
      "\u001b[0;31mNameError\u001b[0m                                 Traceback (most recent call last)",
      "Cell \u001b[0;32mIn[66], line 4\u001b[0m\n\u001b[1;32m      1\u001b[0m \u001b[38;5;66;03m# compute local dx\u001b[39;00m\n\u001b[1;32m      3\u001b[0m dx_local \u001b[38;5;241m=\u001b[39m np\u001b[38;5;241m.\u001b[39mzeros((N, N, N))\n\u001b[0;32m----> 4\u001b[0m \u001b[38;5;28;01mfor\u001b[39;00m i, z \u001b[38;5;129;01min\u001b[39;00m \u001b[38;5;28menumerate\u001b[39m(\u001b[43mcoord_code\u001b[49m[Z][\u001b[38;5;241m0\u001b[39m, \u001b[38;5;241m0\u001b[39m, :]):\n\u001b[1;32m      5\u001b[0m     sl \u001b[38;5;241m=\u001b[39m ds\u001b[38;5;241m.\u001b[39mslice(Z, z)\n\u001b[1;32m      6\u001b[0m     bounds \u001b[38;5;241m=\u001b[39m (left_edge[X]\u001b[38;5;241m/\u001b[39minfo\u001b[38;5;241m.\u001b[39mlength_unit, (left_edge[X]\u001b[38;5;241m+\u001b[39mbox_size)\u001b[38;5;241m/\u001b[39minfo\u001b[38;5;241m.\u001b[39mlength_unit, left_edge[Y]\u001b[38;5;241m/\u001b[39minfo\u001b[38;5;241m.\u001b[39mlength_unit, (left_edge[Y]\u001b[38;5;241m+\u001b[39mbox_size)\u001b[38;5;241m/\u001b[39minfo\u001b[38;5;241m.\u001b[39mlength_unit)\n",
      "\u001b[0;31mNameError\u001b[0m: name 'coord_code' is not defined"
     ]
    }
   ],
   "source": [
    "# compute local dx\n",
    "\n",
    "dx_local = np.zeros((N, N, N))\n",
    "for i, z in enumerate(coord_code[Z][0, 0, :]):\n",
    "    sl = ds.slice(Z, z)\n",
    "    bounds = (left_edge[X]/info.length_unit, (left_edge[X]+box_size)/info.length_unit, left_edge[Y]/info.length_unit, (left_edge[Y]+box_size)/info.length_unit)\n",
    "    frb = FixedResolutionBuffer(sl, bounds, (N, N))\n",
    "    dx_local[:, :, i] = frb[\"dx\"]\n"
   ]
  },
  {
   "cell_type": "code",
   "execution_count": 68,
   "id": "8d13af37",
   "metadata": {},
   "outputs": [
    {
     "name": "stdout",
     "output_type": "stream",
     "text": [
      "filename: data_d11_l2_b5.npz\n"
     ]
    }
   ],
   "source": [
    "grid_name = \"data_d%d_l%d_b%d\" % (dump, lowres, int(box_size / const.kpc))\n",
    "print(\"filename: %s.npz\" % grid_name)"
   ]
  },
  {
   "cell_type": "code",
   "execution_count": 71,
   "id": "b02a8a69",
   "metadata": {},
   "outputs": [
    {
     "name": "stdout",
     "output_type": "stream",
     "text": [
      "File 'data_d11_l2_b5' already exists. Would you like to overwrite? [yes/no]: yes\n",
      "Overwriting file.\n"
     ]
    }
   ],
   "source": [
    "safe_savez(\n",
    "    grid_name,\n",
    "    halo_idx=halo_cat.idx[biggest_halo_idx],\n",
    "    halo_mass=halo_cat.mass[biggest_halo_idx],\n",
    "    box_size=box_size,\n",
    "    left_edge=left_edge,\n",
    "    N=N,\n",
    "    coord_dm=coord_dm,\n",
    "    mass_dm=mass_dm,\n",
    "    coord_star=coord_star,\n",
    "    mass_star=mass_star,\n",
    "    tau_starbirth=tau_starbirth,\n",
    "    id_star=id_star,\n",
    "    coord=coord,\n",
    "    density=density,\n",
    "    metallicity=metallicity,\n",
    "    pressure=pressure,\n",
    "    energy_turb=energy_turb,\n",
    "    ref_crit=ref_crit,\n",
    "    b_turb_loc=b_turb,\n",
    "    vel_vec=vel_vec,\n",
    "    lowres=lowres,\n",
    "    dx_local=dx_local,\n",
    "    **info.__dict__\n",
    ")\n"
   ]
  },
  {
   "cell_type": "code",
   "execution_count": null,
   "id": "8de458e4",
   "metadata": {},
   "outputs": [],
   "source": []
  }
 ],
 "metadata": {
  "kernelspec": {
   "display_name": "Python 3",
   "language": "python",
   "name": "python3"
  },
  "language_info": {
   "codemirror_mode": {
    "name": "ipython",
    "version": 3
   },
   "file_extension": ".py",
   "mimetype": "text/x-python",
   "name": "python",
   "nbconvert_exporter": "python",
   "pygments_lexer": "ipython3",
   "version": "3.10.9"
  }
 },
 "nbformat": 4,
 "nbformat_minor": 5
}
