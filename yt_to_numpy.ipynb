{
 "cells": [
  {
   "cell_type": "code",
   "execution_count": 1,
   "id": "aeb42dc8",
   "metadata": {},
   "outputs": [],
   "source": [
    "%load_ext autoreload\n",
    "%autoreload 2\n"
   ]
  },
  {
   "cell_type": "code",
   "execution_count": 2,
   "id": "e33418c3",
   "metadata": {},
   "outputs": [],
   "source": [
    "import yt\n",
    "from yt.units import dimensions\n",
    "from yt.visualization.fixed_resolution import FixedResolutionBuffer\n",
    "\n",
    "import numpy as np\n",
    "import matplotlib.pyplot as plt\n",
    "\n",
    "from sim import *\n",
    "from read_ramses import *\n",
    "from functions import *\n",
    "import const\n"
   ]
  },
  {
   "cell_type": "code",
   "execution_count": 48,
   "id": "d4bb0061",
   "metadata": {},
   "outputs": [
    {
     "name": "stdout",
     "output_type": "stream",
     "text": [
      "Moving to directory '/home/za9132/scratch/romain/round9/mstar0p2'.\n",
      "\n",
      "Dump: 19\n",
      "a_exp: 0.072\n",
      "Maximum AMR level: 13\n"
     ]
    }
   ],
   "source": [
    "# choose simulation\n",
    "sim_round = 9\n",
    "sim_name = \"mstar0p2\"\n",
    "sim_dir = move_to_sim_dir(sim_round, sim_name)\n",
    "print()\n",
    "\n",
    "dump = get_dump(aexp=0.0722)\n",
    "info = get_info(dump)\n",
    "\n",
    "print(\"Dump: %d\" % dump)\n",
    "print(\"a_exp: %.3g\" % info.aexp)\n",
    "print(\"Maximum AMR level: %d\" % info.amr_level_max)\n"
   ]
  },
  {
   "cell_type": "code",
   "execution_count": 49,
   "id": "764b49c5",
   "metadata": {},
   "outputs": [
    {
     "name": "stderr",
     "output_type": "stream",
     "text": [
      "yt : [INFO     ] 2024-03-13 13:55:28,287 Parameters: current_time              = 4.720988205248286\n",
      "yt : [INFO     ] 2024-03-13 13:55:28,288 Parameters: domain_dimensions         = [128 128 128]\n",
      "yt : [INFO     ] 2024-03-13 13:55:28,288 Parameters: domain_left_edge          = [0. 0. 0.]\n",
      "yt : [INFO     ] 2024-03-13 13:55:28,289 Parameters: domain_right_edge         = [1. 1. 1.]\n",
      "yt : [INFO     ] 2024-03-13 13:55:28,289 Parameters: cosmological_simulation   = 1\n",
      "yt : [INFO     ] 2024-03-13 13:55:28,289 Parameters: current_redshift          = 12.891839142107644\n",
      "yt : [INFO     ] 2024-03-13 13:55:28,289 Parameters: omega_lambda              = 0.723999977111816\n",
      "yt : [INFO     ] 2024-03-13 13:55:28,290 Parameters: omega_matter              = 0.275999993085861\n",
      "yt : [INFO     ] 2024-03-13 13:55:28,290 Parameters: omega_radiation           = 0.0\n",
      "yt : [INFO     ] 2024-03-13 13:55:28,290 Parameters: hubble_constant           = 0.703000030517578\n"
     ]
    }
   ],
   "source": [
    "info_file = os.path.join(\"output_%.5d\" % dump, \"info_%.5d.txt\" % dump)\n",
    "ds = yt.load(info_file)\n"
   ]
  },
  {
   "cell_type": "code",
   "execution_count": 55,
   "id": "3da49bf4",
   "metadata": {},
   "outputs": [
    {
     "name": "stdout",
     "output_type": "stream",
     "text": [
      "Halo coord (mass): (0.50816, 0.50962, 0.49526)\n",
      "Halo coord (cubic): (0.50816, 0.50959, 0.49532)\n"
     ]
    }
   ],
   "source": [
    "use_cubic = True\n",
    "use_override = True\n",
    "\n",
    "halo_cat = get_halo_cat(dump, cgs=True)\n",
    "biggest_halo_idx = np.argmax(halo_cat.mass)\n",
    "biggest_halo_coord_mass = halo_cat.coord[:, biggest_halo_idx]\n",
    "biggest_halo_coord_cubic = get_biggest_halo_coord_cubic(info.aexp) * info.length_unit\n",
    "biggest_halo_coord_override = np.array([0.50812159, 0.50966531, 0.49525266]) * info.length_unit\n",
    "\n",
    "print(\"Halo coord (mass): (%.5g, %.5g, %.5g)\" % tuple(biggest_halo_coord_mass / info.length_unit))\n",
    "print(\"Halo coord (cubic): (%.5g, %.5g, %.5g)\" % tuple(biggest_halo_coord_cubic / info.length_unit))\n",
    "\n",
    "if use_override: \n",
    "    biggest_halo_coord = biggest_halo_coord_override\n",
    "elif use_cubic:\n",
    "    biggest_halo_coord = biggest_halo_coord_cubic\n",
    "else:\n",
    "    biggest_halo_coord = biggest_halo_coord_mass\n",
    "    \n",
    "biggest_halo_coord_code = biggest_halo_coord / info.length_unit\n"
   ]
  },
  {
   "cell_type": "code",
   "execution_count": 56,
   "id": "4322cd5b",
   "metadata": {
    "scrolled": true
   },
   "outputs": [
    {
     "name": "stdout",
     "output_type": "stream",
     "text": [
      "Grid size: 256\n",
      "Lowres factor: 2\n"
     ]
    }
   ],
   "source": [
    "# define size and resolution of the region of interest\n",
    "\n",
    "# tiny grid\n",
    "amr_level = 12\n",
    "box_size = 5 * const.kpc\n",
    "\n",
    "# small grid\n",
    "#amr_level = 12\n",
    "# box_size = 8 * const.kpc\n",
    "\n",
    "# medium grid\n",
    "#amr_level = 11\n",
    "#box_size = 20 * const.kpc\n",
    "\n",
    "# large grid\n",
    "# amr_level = 8\n",
    "# box_size = 100 * const.kpc\n",
    "\n",
    "left_edge = biggest_halo_coord - box_size / 2\n",
    "left_edge_code = left_edge / info.length_unit\n",
    "N = int(box_size / info.length_unit * ds.domain_dimensions[0] * 2**amr_level)\n",
    "lowres = 2**(info.amr_level_max - amr_level)\n",
    "\n",
    "print(\"Grid size: %d\" % N)\n",
    "print(\"Lowres factor: %d\" % lowres)\n"
   ]
  },
  {
   "cell_type": "code",
   "execution_count": 57,
   "id": "1c5ff4f1",
   "metadata": {},
   "outputs": [],
   "source": [
    "# get raw yt data from the region of interest\n",
    "\n",
    "smooth_grid = True\n",
    "\n",
    "if smooth_grid:\n",
    "    data = ds.smoothed_covering_grid(level=amr_level, left_edge=left_edge_code, dims=[N]*3)\n",
    "else:\n",
    "    data = ds.covering_grid(level=amr_level, left_edge=left_edge_code, dims=[N]*3)\n"
   ]
  },
  {
   "cell_type": "code",
   "execution_count": 58,
   "id": "3a699f8d",
   "metadata": {},
   "outputs": [
    {
     "name": "stdout",
     "output_type": "stream",
     "text": [
      "density max: [0.50815875 0.50962045 0.49526312]\n",
      "star barycenter: [0.50812158 0.50966531 0.49525266]\n",
      "dm barycenter: [0.50812404 0.50965347 0.49526917]\n"
     ]
    },
    {
     "data": {
      "text/plain": [
       "<matplotlib.colorbar.Colorbar at 0x150fa5dca5f0>"
      ]
     },
     "execution_count": 58,
     "metadata": {},
     "output_type": "execute_result"
    },
    {
     "data": {
      "image/png": "[encoded data removed]",
      "text/plain": [
       "<Figure size 640x480 with 2 Axes>"
      ]
     },
     "metadata": {},
     "output_type": "display_data"
    }
   ],
   "source": [
    "# quick look at the data\n",
    "\n",
    "idx_slice = Y\n",
    "idx_coord1, idx_coord2 = np.sort([(idx_slice+1)%3, (idx_slice+2)%3])\n",
    "\n",
    "particle_type = data[\"io\", \"particle_family\"].value.astype(int)\n",
    "is_dm = particle_type == DM\n",
    "is_star = particle_type == STAR\n",
    "\n",
    "coord_star_code = (np.array([data[\"io\", \"particle_position_x\"].value[is_star], data[\"io\", \"particle_position_y\"].value[is_star], data[\"io\", \"particle_position_z\"].value[is_star]]))\n",
    "mass_star_code = data[\"io\", \"particle_mass\"][is_star].value\n",
    "\n",
    "coord_dm_code = (np.array([data[\"io\", \"particle_position_x\"].value[is_dm], data[\"io\", \"particle_position_y\"].value[is_dm], data[\"io\", \"particle_position_z\"].value[is_dm]]))\n",
    "mass_dm_code = data[\"io\", \"particle_mass\"][is_dm].value\n",
    "\n",
    "coord_code = np.array([data[\"index\", \"x\"].value, data[\"index\", \"y\"].value, data[\"index\", \"z\"].value])\n",
    "density_code = data[\"ramses\", \"Density\"].value\n",
    "\n",
    "plt.imshow(np.log10(np.sum(density_code, axis=idx_slice)).T, extent=[left_edge_code[idx_coord1], left_edge_code[idx_coord1] + box_size / info.length_unit, left_edge_code[idx_coord2], left_edge_code[idx_coord2] + box_size / info.length_unit], origin='lower', vmin=4, vmax=7.5)\n",
    "\n",
    "x_idx, y_idx, z_idx = np.array(np.where(density_code == np.max(density_code))).T[0]\n",
    "coord_code_density_max = coord_code[:, x_idx, y_idx, z_idx]\n",
    "coord_code_star_barycenter = np.sum(coord_star_code * mass_star_code, axis=(1)) / np.sum(mass_star_code)\n",
    "coord_code_dm_barycenter = np.sum(coord_dm_code * mass_dm_code, axis=(1)) / np.sum(mass_dm_code)\n",
    "coord_code_com = np.sum(coord_code*density_code, axis=(1,2,3)) / np.sum(density_code)\n",
    "\n",
    "print(\"density max: %s\" % coord_code_density_max)\n",
    "print(\"star barycenter: %s\" % coord_code_star_barycenter)\n",
    "print(\"dm barycenter: %s\" % coord_code_dm_barycenter)\n",
    "\n",
    "plt.plot(left_edge_code[idx_coord1] + box_size / info.length_unit / 2, left_edge_code[idx_coord2] + box_size / info.length_unit / 2, '.', color='red', label='center')\n",
    "plt.plot(coord_code_density_max[idx_coord1], coord_code_density_max[idx_coord2], '.', color='purple', label='density max')\n",
    "plt.plot(coord_code_star_barycenter[idx_coord1], coord_code_star_barycenter[idx_coord2], '.', color='green', label='star barycenter')\n",
    "plt.plot(coord_code_dm_barycenter[idx_coord1], coord_code_dm_barycenter[idx_coord2], '.', color='blue', label='dm barycenter')\n",
    "plt.plot(biggest_halo_coord_cubic[idx_coord1] / info.length_unit, biggest_halo_coord_cubic[idx_coord2] / info.length_unit, '.', color='orange', label='cubic fit')\n",
    "plt.plot(coord_code_com[idx_coord1], coord_code_com[idx_coord2], '.', color='cyan', label='center of mass')\n",
    "plt.legend()\n",
    "plt.colorbar()\n"
   ]
  },
  {
   "cell_type": "code",
   "execution_count": 59,
   "id": "b4950c2c",
   "metadata": {},
   "outputs": [],
   "source": [
    "# read particle data from yt\n",
    "\n",
    "particle_type = data[\"io\", \"particle_family\"].value.astype(int)\n",
    "is_dm = particle_type == DM\n",
    "is_star = particle_type == STAR\n",
    "\n",
    "coord_dm = (np.array([data[\"io\", \"particle_position_x\"].value[is_dm], data[\"io\", \"particle_position_y\"].value[is_dm], data[\"io\", \"particle_position_z\"].value[is_dm]])) * info.length_unit - left_edge[:, None] - box_size / 2\n",
    "mass_dm = data[\"io\", \"particle_mass\"][is_dm] * info.mass_unit\n",
    "\n",
    "coord_star = (np.array([data[\"io\", \"particle_position_x\"].value[is_star], data[\"io\", \"particle_position_y\"].value[is_star], data[\"io\", \"particle_position_z\"].value[is_star]])) * info.length_unit - left_edge[:, None] - box_size / 2\n",
    "mass_star = data[\"io\", \"particle_mass\"][is_star].value * info.mass_unit\n",
    "tau_starbirth = data[\"io\", \"conformal_birth_time\"][is_star].value\n",
    "id_star = data[\"io\", \"particle_identity\"][is_star].value.astype(int)\n"
   ]
  },
  {
   "cell_type": "code",
   "execution_count": 60,
   "id": "d331c9eb",
   "metadata": {},
   "outputs": [],
   "source": [
    "# read gas data from yt\n",
    "\n",
    "coord = (np.array([data[\"index\", \"x\"].value, data[\"index\", \"y\"].value, data[\"index\", \"z\"].value])) * info.length_unit - left_edge[:, None, None, None] - box_size / 2\n",
    "density = data[\"ramses\", \"Density\"].value * info.density_unit\n",
    "metallicity = data[\"ramses\", \"Metallicity\"].value \n",
    "pressure = data[\"ramses\", \"Pressure\"].value * info.energy_density_unit\n",
    "energy_turb = data[\"ramses\", \"hydro_scalar_01\"].value * info.vel_unit**2\n",
    "ref_crit = data[\"ramses\", \"hydro_scalar_02\"].value\n",
    "b_turb = data[\"ramses\", \"hydro_scalar_03\"].value\n",
    "vel_vec = np.array([data[\"ramses\", \"x-velocity\"].value, data[\"ramses\", \"y-velocity\"].value, data[\"ramses\", \"z-velocity\"].value]) * info.vel_unit\n",
    "dx_local = np.zeros((N, N, N))\n"
   ]
  },
  {
   "cell_type": "code",
   "execution_count": 61,
   "id": "1a502d51",
   "metadata": {},
   "outputs": [
    {
     "name": "stderr",
     "output_type": "stream",
     "text": [
      "yt : [INFO     ] 2024-03-13 13:58:00,071 Making a fixed resolution buffer of (dx) 256 by 256\n"
     ]
    },
    {
     "name": "stdout",
     "output_type": "stream",
     "text": [
      "0123456789101112131415161718192021222324252627282930313233343536373839404142434445464748495051525354555657585960616263646566676869707172737475767778798081828384858687888990919293949596979899100101102103104105106107108109110111112113114115116117118119120121122123124125126127128129130131132133134135136137138139140141142143144145146147148149150151152153154155156157158159160161162163164165166167168169170171172173174175176177178179180181182183184185186187188189190191192193194195196197198199200201202203204205206207208209210211212213214215216217218219220221222223224225226227228229230231232233234235236237238239240241242243244245246247248249250251252253254255"
     ]
    }
   ],
   "source": [
    "# compute local dx\n",
    "\n",
    "for i, z in enumerate(coord_code[Z][0, 0, :]):\n",
    "    sl = ds.slice(Z, z)\n",
    "    bounds = (left_edge[X]/info.length_unit, (left_edge[X]+box_size)/info.length_unit, left_edge[Y]/info.length_unit, (left_edge[Y]+box_size)/info.length_unit)\n",
    "    frb = FixedResolutionBuffer(sl, bounds, (N, N))\n",
    "    dx_local[:, :, i] = frb[\"dx\"]\n",
    "    print(i, end=\"\")\n"
   ]
  },
  {
   "cell_type": "code",
   "execution_count": 62,
   "id": "8d13af37",
   "metadata": {},
   "outputs": [
    {
     "name": "stdout",
     "output_type": "stream",
     "text": [
      "filename: data_d19_l2_b5.npz\n"
     ]
    }
   ],
   "source": [
    "grid_name = \"data_d%d_l%d_b%d\" % (dump, lowres, int(box_size / const.kpc))\n",
    "print(\"filename: %s.npz\" % grid_name)"
   ]
  },
  {
   "cell_type": "code",
   "execution_count": 63,
   "id": "b02a8a69",
   "metadata": {},
   "outputs": [],
   "source": [
    "safe_savez(\n",
    "    grid_name,\n",
    "    halo_idx=halo_cat.idx[biggest_halo_idx],\n",
    "    halo_mass=halo_cat.mass[biggest_halo_idx],\n",
    "    box_size=box_size,\n",
    "    left_edge=left_edge,\n",
    "    N=N,\n",
    "    coord_dm=coord_dm,\n",
    "    mass_dm=mass_dm,\n",
    "    coord_star=coord_star,\n",
    "    mass_star=mass_star,\n",
    "    tau_starbirth=tau_starbirth,\n",
    "    id_star=id_star,\n",
    "    coord=coord,\n",
    "    density=density,\n",
    "    metallicity=metallicity,\n",
    "    pressure=pressure,\n",
    "    energy_turb=energy_turb,\n",
    "    ref_crit=ref_crit,\n",
    "    b_turb=b_turb,\n",
    "    vel_vec=vel_vec,\n",
    "    lowres=lowres,\n",
    "    dx_local=dx_local,\n",
    "    **info.__dict__\n",
    ")\n"
   ]
  },
  {
   "cell_type": "code",
   "execution_count": null,
   "id": "8de458e4",
   "metadata": {},
   "outputs": [],
   "source": []
  },
  {
   "cell_type": "code",
   "execution_count": null,
   "id": "a8db62c1",
   "metadata": {},
   "outputs": [],
   "source": []
  },
  {
   "cell_type": "code",
   "execution_count": null,
   "id": "1159d900",
   "metadata": {},
   "outputs": [],
   "source": []
  }
 ],
 "metadata": {
  "kernelspec": {
   "display_name": "Python 3",
   "language": "python",
   "name": "python3"
  },
  "language_info": {
   "codemirror_mode": {
    "name": "ipython",
    "version": 3
   },
   "file_extension": ".py",
   "mimetype": "text/x-python",
   "name": "python",
   "nbconvert_exporter": "python",
   "pygments_lexer": "ipython3",
   "version": "3.10.9"
  }
 },
 "nbformat": 4,
 "nbformat_minor": 5
}
