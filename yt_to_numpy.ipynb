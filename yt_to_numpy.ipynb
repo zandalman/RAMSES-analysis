{
 "cells": [
  {
   "cell_type": "code",
   "execution_count": 3,
   "id": "e33418c3",
   "metadata": {},
   "outputs": [],
   "source": [
    "import numpy as np\n",
    "import matplotlib.pyplot as plt\n",
    "from mpl_toolkits.axes_grid1 import AxesGrid\n",
    "import os, subprocess\n",
    "import yt\n",
    "import unyt\n",
    "import warnings\n",
    "import const\n",
    "from scipy.integrate import quad\n"
   ]
  },
  {
   "cell_type": "code",
   "execution_count": 102,
   "id": "d4bb0061",
   "metadata": {},
   "outputs": [],
   "source": [
    "X, Y, Z = 0, 1, 2\n",
    "ALPHA_EPS0P01, ALPHA_EPS0P1, ALPHA_EPS1P0, DMO, GAS = 0, 1, 2, 3, 4\n",
    "HYDRO, DM, STAR = 0, 1, 2\n",
    "epsilon = 1e-30\n",
    "\n",
    "sim_idx = GAS\n"
   ]
  },
  {
   "cell_type": "code",
   "execution_count": 103,
   "id": "e5cc3e70",
   "metadata": {},
   "outputs": [],
   "source": [
    "analysis_dir = \"home/za9132/analysis\"\n",
    "sim_base_dir = \"/home/za9132/scratch/romain\"\n",
    "sim_name = [\"alpha_eps0p01\", \"alpha_eps0p1\", \"alpha_eps1p0\", \"dmo\", \"gas\"][sim_idx]\n",
    "sim_title = [r\"$\\varepsilon_{\\rm SF} = 0.01$\", r\"$\\varepsilon_{\\rm SF} = 0.1$\", r\"$\\varepsilon_{\\rm SF} = 1.0$\", \"Dark Matter Only\", \"Multi-Freefall Model\"][sim_idx]\n",
    "sim_dir = os.path.join(sim_base_dir, sim_name)\n",
    "\n",
    "os.chdir(sim_dir)\n"
   ]
  },
  {
   "cell_type": "code",
   "execution_count": 104,
   "id": "bf9521c0",
   "metadata": {},
   "outputs": [],
   "source": [
    "def get_stdout(cmd):\n",
    "    ''' Return the standard output of a command line directive '''\n",
    "    stdout = subprocess.check_output(cmd, shell=True).decode()\n",
    "    return stdout\n"
   ]
  },
  {
   "cell_type": "code",
   "execution_count": 105,
   "id": "02c9d72e",
   "metadata": {},
   "outputs": [],
   "source": [
    "class Halo(object):\n",
    "    \n",
    "    def __init__(self, stdout_split):\n",
    "        \n",
    "        self.index = int(stdout_split[0])\n",
    "        self.ncell = int(stdout_split[1])\n",
    "        self.xyz = np.array(stdout_split[2:5], dtype=float)\n",
    "        self.rho_max = float(stdout_split[5])\n",
    "        self.mass = float(stdout_split[6])\n",
    "        \n",
    "class Clump(object):\n",
    "    \n",
    "    def __init__(self, stdout_split):\n",
    "        \n",
    "        stdout_split = stdout.split()\n",
    "        \n",
    "        self.index = int(stdout_split[0])\n",
    "        self.level = int(stdout_split[1])\n",
    "        self.parent_index = int(stdout_split[2])\n",
    "        self.ncell = int(stdout_split[3])\n",
    "        self.xyz = np.array(stdout_split[4:7], dtype=float)\n",
    "        self.rho_border = float(stdout_split[7])\n",
    "        self.rho_max = float(stdout_split[8])\n",
    "        self.mass = float(stdout_split[9])\n",
    "        "
   ]
  },
  {
   "cell_type": "code",
   "execution_count": 106,
   "id": "94eb917f",
   "metadata": {},
   "outputs": [],
   "source": [
    "def a_exp_to_proper_time(a):\n",
    "    '''Convert expansion factor to proper time.'''\n",
    "    integrand = lambda a: (Omega_m0 * a**(-1) + Omega_k0 + Omega_L0 * a**2)**(-1/2)\n",
    "    t = quad(integrand, 0, a)[0] / H0\n",
    "    \n",
    "    return t\n",
    "\n",
    "def a_exp_to_conformal_time(a):\n",
    "    '''Convert expansion factor to conformal time.'''\n",
    "    integrand = lambda a: (Omega_m0 * a + Omega_k0 * a**2 + Omega_L0 * a**4)**(-1/2)\n",
    "    tau = const.c * quad(integrand, 0, a)[0] / H0\n",
    "    \n",
    "    return tau\n",
    "\n",
    "def proper_time_to_a_exp(t):\n",
    "    '''Convert proper time to expansion rate.'''\n",
    "    a = fsolve(lambda a: (a_exp_to_proper_time(a) - t) * H0, a_exp)\n",
    "    \n",
    "    return a\n",
    "\n",
    "def conformal_time_to_a_exp(tau):\n",
    "    '''Convert conformal time to expansion rate.'''\n",
    "    a = fsolve(lambda a: (a_exp_to_conformal_time(a) - tau) * H0, a_exp)\n",
    "    \n",
    "    return a\n"
   ]
  },
  {
   "cell_type": "code",
   "execution_count": 107,
   "id": "edbc2684",
   "metadata": {},
   "outputs": [],
   "source": [
    "def get_biggest_obj(num, find_halos=True, use_mass=True):\n",
    "    \n",
    "    list_of_obj_density = []\n",
    "    list_of_obj_mass = []\n",
    "    \n",
    "    if find_halos:\n",
    "        \n",
    "        list_of_stdout_density = np.array(get_stdout(\"cat output*/halo* | sort -r -nk 2 | head -n %d\" % num).split()).reshape(-1, 7)\n",
    "        list_of_stdout_mass = np.array(get_stdout(\"cat output*/halo* | sort -r -gk 7 | head -n %d\" % num).split()).reshape(-1, 7)\n",
    "    \n",
    "        for i in range(num):\n",
    "            list_of_obj_density.append(Halo(list_of_stdout_density[i]))\n",
    "            list_of_obj_mass.append(Halo(list_of_stdout_mass[i]))\n",
    "    \n",
    "    else:\n",
    "        \n",
    "        list_of_stdout_density = np.array(get_stdout(\"cat output*/clump* | sort -r -nk 2 | head -n %d\" % num).split()).reshape(-1, 11)\n",
    "        list_of_stdout_mass = np.array(get_stdout(\"cat output*/clump* | sort -r -gk 7 | head -n %d\" % num).split()).reshape(-1, 11)\n",
    "        \n",
    "        for i in range(num):\n",
    "            list_of_obj_density.append(Clump(list_of_stdout_density[i]))\n",
    "            list_of_obj_mass.append(Clump(list_of_stdout_mass[i]))\n",
    "        \n",
    "    if list_of_obj_density[0].index != list_of_obj_mass[0].index:\n",
    "        warnings.warn(\"Max density and max mass %s are not the same.\" % [\"clumps\", \"halos\"][find_halos])\n",
    "    \n",
    "    if use_mass:\n",
    "        list_of_obj = list_of_obj_mass\n",
    "    else:\n",
    "        list_of_obj = list_of_obj_density\n",
    "        \n",
    "    return list_of_obj\n",
    "    "
   ]
  },
  {
   "cell_type": "code",
   "execution_count": 108,
   "id": "7489f1ec",
   "metadata": {},
   "outputs": [],
   "source": [
    "halo = get_biggest_obj(1, find_halos=True, use_mass=True)[0]\n",
    "info_file = get_stdout(\"ls output*/info*\").split()[0]\n"
   ]
  },
  {
   "cell_type": "code",
   "execution_count": 109,
   "id": "764b49c5",
   "metadata": {},
   "outputs": [
    {
     "name": "stderr",
     "output_type": "stream",
     "text": [
      "yt : [INFO     ] 2023-09-25 16:32:44,002 Parameters: current_time              = 4.006925024948247\n",
      "yt : [INFO     ] 2023-09-25 16:32:44,003 Parameters: domain_dimensions         = [128 128 128]\n",
      "yt : [INFO     ] 2023-09-25 16:32:44,004 Parameters: domain_left_edge          = [0. 0. 0.]\n",
      "yt : [INFO     ] 2023-09-25 16:32:44,004 Parameters: domain_right_edge         = [1. 1. 1.]\n",
      "yt : [INFO     ] 2023-09-25 16:32:44,005 Parameters: cosmological_simulation   = 1\n",
      "yt : [INFO     ] 2023-09-25 16:32:44,005 Parameters: current_redshift          = 8.999851699314442\n",
      "yt : [INFO     ] 2023-09-25 16:32:44,005 Parameters: omega_lambda              = 0.723999977111816\n",
      "yt : [INFO     ] 2023-09-25 16:32:44,006 Parameters: omega_matter              = 0.275999993085861\n",
      "yt : [INFO     ] 2023-09-25 16:32:44,006 Parameters: omega_radiation           = 0.0\n",
      "yt : [INFO     ] 2023-09-25 16:32:44,006 Parameters: hubble_constant           = 0.703000030517578\n"
     ]
    }
   ],
   "source": [
    "ds = yt.load(info_file)\n"
   ]
  },
  {
   "cell_type": "code",
   "execution_count": 117,
   "id": "2beae83d",
   "metadata": {},
   "outputs": [],
   "source": [
    "a_exp = ds[\"aexp\"]\n",
    "redshift = 1 / a_exp - 1\n",
    "\n",
    "H0 = ds[\"H0\"] * const.km / const.Mpc\n",
    "Omega_m0 = ds[\"omega_m\"]\n",
    "Omega_L0 = ds[\"omega_l\"]\n",
    "Omega_k0 = ds[\"omega_k\"]\n",
    "Omega_b0 = ds[\"omega_b\"]\n",
    "H = H0 * np.sqrt(Omega_m0 / a_exp**3 + Omega_k0 / a_exp**2 + Omega_L0)\n",
    "rho_crit = 3 * H**2 / (8 * np.pi * const.G)\n",
    "current_time = a_exp_to_proper_time(a_exp)\n",
    "\n",
    "length_unit = ds[\"unit_l\"]\n",
    "density_unit = ds[\"unit_d\"]\n",
    "time_unit = ds[\"unit_t\"]\n",
    "mass_unit = density_unit * length_unit**3\n",
    "velocity_unit = length_unit / time_unit\n",
    "energy_unit = mass_unit * velocity_unit**2\n",
    "energy_density_unit = density_unit * velocity_unit**2\n",
    "\n",
    "amr_level = 13\n",
    "# box_size = 10 * const.kpc / length_unit\n",
    "box_size = 2 * const.kpc / length_unit\n",
    "# left_edge = halo.xyz - box_size/2\n",
    "left_edge = np.array([5.105151466E-01, 5.127534424E-01, 4.929928780E-01]) - box_size / 2\n",
    "N = int(box_size * ds.domain_dimensions[0] * 2**amr_level)\n",
    "\n",
    "dx = box_size / N * length_unit\n",
    "dV = dx**3\n"
   ]
  },
  {
   "cell_type": "code",
   "execution_count": 118,
   "id": "1c5ff4f1",
   "metadata": {},
   "outputs": [],
   "source": [
    "data = ds.covering_grid(level=amr_level, left_edge=left_edge, dims=[N]*3)\n"
   ]
  },
  {
   "cell_type": "code",
   "execution_count": 119,
   "id": "b4950c2c",
   "metadata": {},
   "outputs": [
    {
     "name": "stderr",
     "output_type": "stream",
     "text": [
      "yt : [WARNING  ] 2023-09-25 16:35:25,354 The DM particle filter already exists. Overriding.\n",
      "yt : [WARNING  ] 2023-09-25 16:35:25,355 The star particle filter already exists. Overriding.\n",
      "yt : [WARNING  ] 2023-09-25 16:35:25,355 The cloud particle filter already exists. Overriding.\n",
      "yt : [WARNING  ] 2023-09-25 16:35:25,355 The dust particle filter already exists. Overriding.\n",
      "yt : [WARNING  ] 2023-09-25 16:35:25,356 The star_tracer particle filter already exists. Overriding.\n",
      "yt : [WARNING  ] 2023-09-25 16:35:25,356 The cloud_tracer particle filter already exists. Overriding.\n",
      "yt : [WARNING  ] 2023-09-25 16:35:25,356 The dust_tracer particle filter already exists. Overriding.\n",
      "yt : [WARNING  ] 2023-09-25 16:35:25,356 The gas_tracer particle filter already exists. Overriding.\n",
      "yt : [INFO     ] 2023-09-25 16:35:25,357 Adding particle_type: DM\n",
      "yt : [INFO     ] 2023-09-25 16:35:25,366 Adding particle_type: star\n",
      "yt : [INFO     ] 2023-09-25 16:35:25,375 Adding particle_type: cloud\n",
      "yt : [INFO     ] 2023-09-25 16:35:25,385 Adding particle_type: dust\n",
      "yt : [INFO     ] 2023-09-25 16:35:25,395 Adding particle_type: star_tracer\n",
      "yt : [INFO     ] 2023-09-25 16:35:25,404 Adding particle_type: cloud_tracer\n",
      "yt : [INFO     ] 2023-09-25 16:35:25,414 Adding particle_type: dust_tracer\n",
      "yt : [INFO     ] 2023-09-25 16:35:25,424 Adding particle_type: gas_tracer\n"
     ]
    }
   ],
   "source": [
    "particle_type = data[\"io\", \"particle_family\"].value.astype(int)\n",
    "is_dm = particle_type == DM\n",
    "is_star = particle_type == STAR\n",
    "\n",
    "dm_coord = (np.array([data[\"io\", \"particle_position_x\"].value[is_dm], data[\"io\", \"particle_position_y\"].value[is_dm], data[\"io\", \"particle_position_z\"].value[is_dm]]) - left_edge[:, None] - box_size / 2) * length_unit\n",
    "dm_mass = data[\"io\", \"particle_mass\"][is_dm] * mass_unit\n",
    "\n",
    "universe_age = a_exp_to_proper_time(1.)\n",
    "star_coord = (np.array([data[\"io\", \"particle_position_x\"].value[is_star], data[\"io\", \"particle_position_y\"].value[is_star], data[\"io\", \"particle_position_z\"].value[is_star]]) - left_edge[:, None] - box_size / 2) * length_unit\n",
    "star_mass = data[\"io\", \"particle_mass\"][is_star] * mass_unit\n",
    "star_birth_time = (data[\"io\", \"conformal_birth_time\"][is_star].value / H0 + universe_age)\n"
   ]
  },
  {
   "cell_type": "code",
   "execution_count": 120,
   "id": "d331c9eb",
   "metadata": {},
   "outputs": [],
   "source": [
    "coord = (np.array([data[\"index\", \"x\"].value, data[\"index\", \"y\"].value, data[\"index\", \"z\"].value]) - left_edge[:, None, None, None] - box_size / 2) * length_unit\n",
    "density = data[\"ramses\", \"Density\"].value * density_unit\n",
    "metallicity = data[\"ramses\", \"Metallicity\"].value \n",
    "pressure = data[\"ramses\", \"Pressure\"].value * energy_density_unit\n",
    "turb_energy = data[\"ramses\", \"hydro_scalar_01\"].value * velocity_unit**2\n",
    "refinement_criterion = data[\"ramses\", \"hydro_scalar_02\"].value\n"
   ]
  },
  {
   "cell_type": "code",
   "execution_count": 121,
   "id": "23b6c9d7",
   "metadata": {},
   "outputs": [],
   "source": [
    "r = np.sqrt(np.sum(coord**2, axis=0))\n",
    "r_dm = np.sqrt(np.sum(dm_coord**2, axis=0))\n",
    "r_star = np.sqrt(np.sum(star_coord**2, axis=0))\n",
    "temperature = pressure / density * const.m_H / const.k_B\n"
   ]
  },
  {
   "cell_type": "code",
   "execution_count": 122,
   "id": "b02a8a69",
   "metadata": {},
   "outputs": [],
   "source": [
    "np.savez(\n",
    "    file=\"gridded_data_romain\",\n",
    "    halo_idx=halo.index,\n",
    "    halo_mass=halo.mass*mass_unit,\n",
    "    a_exp=a_exp,\n",
    "    redshift=redshift,\n",
    "    current_time=current_time,\n",
    "    H0=H0,\n",
    "    Omega_m0=Omega_m0,\n",
    "    Omega_L0=Omega_L0,\n",
    "    Omega_k0=Omega_k0,\n",
    "    Omega_b0=Omega_b0,\n",
    "    H=H,\n",
    "    rho_crit=rho_crit,\n",
    "    length_unit=length_unit,\n",
    "    density_unit=density_unit,\n",
    "    time_unit=time_unit,\n",
    "    mass_unit=mass_unit,\n",
    "    velocity_unit=velocity_unit,\n",
    "    energy_unit=energy_unit,\n",
    "    energy_density_unit=energy_density_unit,\n",
    "    amr_level=13,\n",
    "    box_size=box_size,\n",
    "    left_edge=left_edge,\n",
    "    N=N,\n",
    "    dx=dx,\n",
    "    dV=dV,\n",
    "    dm_coord=dm_coord,\n",
    "    dm_mass=dm_mass,\n",
    "    star_coord=star_coord,\n",
    "    star_mass=star_mass,\n",
    "    star_birth_time=star_birth_time,\n",
    "    coord=coord,\n",
    "    density=density,\n",
    "    metallicity=metallicity,\n",
    "    pressure=pressure,\n",
    "    turb_energy=turb_energy,\n",
    "    refinement_criterion=refinement_criterion,\n",
    "    r=r,\n",
    "    r_dm=r_dm,\n",
    "    r_star=r_star,\n",
    "    temperature=temperature\n",
    ")\n"
   ]
  },
  {
   "cell_type": "code",
   "execution_count": null,
   "id": "e4ea83b2",
   "metadata": {},
   "outputs": [],
   "source": []
  },
  {
   "cell_type": "code",
   "execution_count": null,
   "id": "1e48a1cf",
   "metadata": {},
   "outputs": [],
   "source": []
  }
 ],
 "metadata": {
  "kernelspec": {
   "display_name": "Python 3 (ipykernel)",
   "language": "python",
   "name": "python3"
  },
  "language_info": {
   "codemirror_mode": {
    "name": "ipython",
    "version": 3
   },
   "file_extension": ".py",
   "mimetype": "text/x-python",
   "name": "python",
   "nbconvert_exporter": "python",
   "pygments_lexer": "ipython3",
   "version": "3.10.9"
  }
 },
 "nbformat": 4,
 "nbformat_minor": 5
}
