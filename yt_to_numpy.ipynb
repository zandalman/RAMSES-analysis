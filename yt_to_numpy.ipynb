{
 "cells": [
  {
   "cell_type": "code",
   "execution_count": 1,
   "id": "aeb42dc8",
   "metadata": {},
   "outputs": [],
   "source": [
    "%load_ext autoreload\n",
    "%autoreload 2\n"
   ]
  },
  {
   "cell_type": "code",
   "execution_count": 2,
   "id": "e33418c3",
   "metadata": {},
   "outputs": [],
   "source": [
    "import yt\n",
    "from yt.units import dimensions\n",
    "from yt.visualization.fixed_resolution import FixedResolutionBuffer\n",
    "\n",
    "import numpy as np\n",
    "import matplotlib.pyplot as plt\n",
    "\n",
    "from sim import *\n",
    "from read_ramses import *\n",
    "from functions import *\n",
    "import const\n"
   ]
  },
  {
   "cell_type": "code",
   "execution_count": 34,
   "id": "d4bb0061",
   "metadata": {},
   "outputs": [
    {
     "name": "stdout",
     "output_type": "stream",
     "text": [
      "\n",
      "Dump: 11\n",
      "a_exp: 0.0645\n",
      "Maximum AMR level: 13\n"
     ]
    }
   ],
   "source": [
    "# choose simulation\n",
    "sim_round = 9\n",
    "sim_name = \"fiducial\"\n",
    "sim_dir = move_to_sim_dir(sim_round, sim_name)\n",
    "print()\n",
    "\n",
    "#dump = get_dump(aexp=0.1)\n",
    "dump = 11\n",
    "info = get_info(dump)\n",
    "\n",
    "print(\"Dump: %d\" % dump)\n",
    "print(\"a_exp: %.3g\" % info.aexp)\n",
    "print(\"Maximum AMR level: %d\" % info.amr_level_max)\n"
   ]
  },
  {
   "cell_type": "code",
   "execution_count": 36,
   "id": "764b49c5",
   "metadata": {},
   "outputs": [
    {
     "name": "stderr",
     "output_type": "stream",
     "text": [
      "yt : [INFO     ] 2025-01-23 09:59:17,431 Parameters: current_time              = 4.986446468616874\n",
      "yt : [INFO     ] 2025-01-23 09:59:17,432 Parameters: domain_dimensions         = [128 128 128]\n",
      "yt : [INFO     ] 2025-01-23 09:59:17,432 Parameters: domain_left_edge          = [0. 0. 0.]\n",
      "yt : [INFO     ] 2025-01-23 09:59:17,432 Parameters: domain_right_edge         = [1. 1. 1.]\n",
      "yt : [INFO     ] 2025-01-23 09:59:17,433 Parameters: cosmological_simulation   = 1\n",
      "yt : [INFO     ] 2025-01-23 09:59:17,433 Parameters: current_redshift          = 14.508240570988766\n",
      "yt : [INFO     ] 2025-01-23 09:59:17,433 Parameters: omega_lambda              = 0.723999977111816\n",
      "yt : [INFO     ] 2025-01-23 09:59:17,433 Parameters: omega_matter              = 0.275999993085861\n",
      "yt : [INFO     ] 2025-01-23 09:59:17,434 Parameters: omega_radiation           = 0.0\n",
      "yt : [INFO     ] 2025-01-23 09:59:17,434 Parameters: hubble_constant           = 0.703000030517578\n"
     ]
    }
   ],
   "source": [
    "info_file = os.path.join(\"output_%.5d\" % dump, \"info_%.5d.txt\" % dump)\n",
    "ds = yt.load(info_file)\n"
   ]
  },
  {
   "cell_type": "code",
   "execution_count": 37,
   "id": "3da49bf4",
   "metadata": {},
   "outputs": [
    {
     "name": "stdout",
     "output_type": "stream",
     "text": [
      "Halo coord (mass): (0.50761, 0.50875, 0.49581)\n",
      "Halo coord (cubic): (0.50757, 0.50883, 0.49581)\n"
     ]
    }
   ],
   "source": [
    "use_cubic = True\n",
    "use_override = True\n",
    "\n",
    "halo_cat = get_halo_cat(dump, cgs=True)\n",
    "biggest_halo_idx = np.argmax(halo_cat.mass)\n",
    "biggest_halo_coord_mass = halo_cat.coord[:, biggest_halo_idx]\n",
    "biggest_halo_coord_cubic = get_biggest_halo_coord_cubic(info.aexp) * info.length_unit\n",
    "biggest_halo_coord_override = np.array([0.50761237,0.50874747,0.49581154]) * info.length_unit\n",
    "\n",
    "print(\"Halo coord (mass): (%.5g, %.5g, %.5g)\" % tuple(biggest_halo_coord_mass / info.length_unit))\n",
    "print(\"Halo coord (cubic): (%.5g, %.5g, %.5g)\" % tuple(biggest_halo_coord_cubic / info.length_unit))\n",
    "\n",
    "if use_override: \n",
    "    biggest_halo_coord = biggest_halo_coord_override\n",
    "elif use_cubic:\n",
    "    biggest_halo_coord = biggest_halo_coord_cubic\n",
    "else:\n",
    "    biggest_halo_coord = biggest_halo_coord_mass\n",
    "    \n",
    "biggest_halo_coord_code = biggest_halo_coord / info.length_unit\n"
   ]
  },
  {
   "cell_type": "code",
   "execution_count": 40,
   "id": "4322cd5b",
   "metadata": {
    "scrolled": true,
    "tags": []
   },
   "outputs": [
    {
     "name": "stdout",
     "output_type": "stream",
     "text": [
      "Grid size: 285\n",
      "Lowres factor: 32\n"
     ]
    }
   ],
   "source": [
    "# define size and resolution of the region of interest\n",
    "\n",
    "# tiny grid\n",
    "amr_level = 13\n",
    "box_size = 5 * const.kpc\n",
    "\n",
    "# small grid\n",
    "# amr_level = 12\n",
    "# box_size = 8 * const.kpc\n",
    "\n",
    "# medium grid\n",
    "amr_level = 10\n",
    "box_size = 20 * const.kpc\n",
    "\n",
    "# large grid\n",
    "amr_level = 8\n",
    "box_size = 80 * const.kpc\n",
    "\n",
    "left_edge = biggest_halo_coord - box_size / 2\n",
    "left_edge_code = left_edge / info.length_unit\n",
    "N = int(box_size / info.length_unit * ds.domain_dimensions[0] * 2**amr_level)\n",
    "lowres = 2**(info.amr_level_max - amr_level)\n",
    "\n",
    "print(\"Grid size: %d\" % N)\n",
    "print(\"Lowres factor: %d\" % lowres)\n"
   ]
  },
  {
   "cell_type": "code",
   "execution_count": 41,
   "id": "1c5ff4f1",
   "metadata": {},
   "outputs": [],
   "source": [
    "# get raw yt data from the region of interest\n",
    "\n",
    "smooth_grid = False\n",
    "\n",
    "if smooth_grid:\n",
    "    data = ds.smoothed_covering_grid(level=amr_level, left_edge=left_edge_code, dims=[N]*3)\n",
    "else:\n",
    "    data = ds.covering_grid(level=amr_level, left_edge=left_edge_code, dims=[N]*3)\n"
   ]
  },
  {
   "cell_type": "code",
   "execution_count": 42,
   "id": "3a699f8d",
   "metadata": {},
   "outputs": [
    {
     "name": "stderr",
     "output_type": "stream",
     "text": [
      "yt : [WARNING  ] 2025-01-23 09:59:46,901 The DM particle filter already exists. Overriding.\n",
      "yt : [WARNING  ] 2025-01-23 09:59:46,902 The star particle filter already exists. Overriding.\n",
      "yt : [WARNING  ] 2025-01-23 09:59:46,902 The cloud particle filter already exists. Overriding.\n",
      "yt : [WARNING  ] 2025-01-23 09:59:46,903 The dust particle filter already exists. Overriding.\n",
      "yt : [WARNING  ] 2025-01-23 09:59:46,903 The star_tracer particle filter already exists. Overriding.\n",
      "yt : [WARNING  ] 2025-01-23 09:59:46,903 The cloud_tracer particle filter already exists. Overriding.\n",
      "yt : [WARNING  ] 2025-01-23 09:59:46,903 The dust_tracer particle filter already exists. Overriding.\n",
      "yt : [WARNING  ] 2025-01-23 09:59:46,904 The gas_tracer particle filter already exists. Overriding.\n",
      "yt : [INFO     ] 2025-01-23 09:59:46,904 Adding particle_type: DM\n",
      "yt : [INFO     ] 2025-01-23 09:59:46,914 Adding particle_type: star\n",
      "yt : [INFO     ] 2025-01-23 09:59:46,923 Adding particle_type: cloud\n",
      "yt : [INFO     ] 2025-01-23 09:59:46,932 Adding particle_type: dust\n",
      "yt : [INFO     ] 2025-01-23 09:59:46,942 Adding particle_type: star_tracer\n",
      "yt : [INFO     ] 2025-01-23 09:59:46,951 Adding particle_type: cloud_tracer\n",
      "yt : [INFO     ] 2025-01-23 09:59:46,961 Adding particle_type: dust_tracer\n",
      "yt : [INFO     ] 2025-01-23 09:59:46,971 Adding particle_type: gas_tracer\n"
     ]
    },
    {
     "name": "stdout",
     "output_type": "stream",
     "text": [
      "density max: [0.50759975 0.50873485 0.49579892]\n",
      "star barycenter: [0.50576972 0.50735381 0.49649662]\n",
      "dm barycenter: [0.507926   0.50891326 0.49598259]\n",
      "center of mass: [0.50783498 0.50877959 0.4961011 ]\n"
     ]
    },
    {
     "data": {
      "text/plain": [
       "<matplotlib.colorbar.Colorbar at 0x148d632e4fd0>"
      ]
     },
     "execution_count": 42,
     "metadata": {},
     "output_type": "execute_result"
    },
    {
     "data": {
      "image/png": "[encoded data removed]",
      "text/plain": [
       "<Figure size 640x480 with 2 Axes>"
      ]
     },
     "metadata": {},
     "output_type": "display_data"
    }
   ],
   "source": [
    "# quick look at the data\n",
    "\n",
    "idx_slice = X\n",
    "idx_coord1, idx_coord2 = np.sort([(idx_slice+1)%3, (idx_slice+2)%3])\n",
    "\n",
    "particle_type = data[\"io\", \"particle_family\"].value.astype(int)\n",
    "is_dm = particle_type == DM\n",
    "is_star = particle_type == STAR\n",
    "\n",
    "coord_star_code = (np.array([data[\"io\", \"particle_position_x\"].value[is_star], data[\"io\", \"particle_position_y\"].value[is_star], data[\"io\", \"particle_position_z\"].value[is_star]]))\n",
    "mass_star_code = data[\"io\", \"particle_mass\"][is_star].value\n",
    "\n",
    "coord_dm_code = (np.array([data[\"io\", \"particle_position_x\"].value[is_dm], data[\"io\", \"particle_position_y\"].value[is_dm], data[\"io\", \"particle_position_z\"].value[is_dm]]))\n",
    "mass_dm_code = data[\"io\", \"particle_mass\"][is_dm].value\n",
    "\n",
    "coord_code = np.array([data[\"index\", \"x\"].value, data[\"index\", \"y\"].value, data[\"index\", \"z\"].value])\n",
    "density_code = data[\"ramses\", \"Density\"].value\n",
    "\n",
    "plt.imshow(np.log10(np.sum(density_code, axis=idx_slice)).T, extent=[left_edge_code[idx_coord1], left_edge_code[idx_coord1] + box_size / info.length_unit, left_edge_code[idx_coord2], left_edge_code[idx_coord2] + box_size / info.length_unit], origin='lower', vmin=4, vmax=7.5)\n",
    "\n",
    "x_idx, y_idx, z_idx = np.array(np.where(density_code == np.max(density_code))).T[0]\n",
    "coord_code_density_max = coord_code[:, x_idx, y_idx, z_idx]\n",
    "coord_code_star_barycenter = np.sum(coord_star_code * mass_star_code, axis=(1)) / np.sum(mass_star_code)\n",
    "coord_code_dm_barycenter = np.sum(coord_dm_code * mass_dm_code, axis=(1)) / np.sum(mass_dm_code)\n",
    "coord_code_com = np.sum(coord_code*density_code, axis=(1,2,3)) / np.sum(density_code)\n",
    "\n",
    "print(\"density max: %s\" % coord_code_density_max)\n",
    "print(\"star barycenter: %s\" % coord_code_star_barycenter)\n",
    "print(\"dm barycenter: %s\" % coord_code_dm_barycenter)\n",
    "print(\"center of mass: %s\" % coord_code_com)\n",
    "\n",
    "plt.plot(left_edge_code[idx_coord1] + box_size / info.length_unit / 2, left_edge_code[idx_coord2] + box_size / info.length_unit / 2, '.', color='red', label='center')\n",
    "plt.plot(coord_code_density_max[idx_coord1], coord_code_density_max[idx_coord2], '.', color='purple', label='density max')\n",
    "plt.plot(coord_code_star_barycenter[idx_coord1], coord_code_star_barycenter[idx_coord2], '.', color='green', label='star barycenter')\n",
    "plt.plot(coord_code_dm_barycenter[idx_coord1], coord_code_dm_barycenter[idx_coord2], '.', color='blue', label='dm barycenter')\n",
    "plt.plot(biggest_halo_coord_cubic[idx_coord1] / info.length_unit, biggest_halo_coord_cubic[idx_coord2] / info.length_unit, '.', color='orange', label='cubic fit')\n",
    "plt.plot(coord_code_com[idx_coord1], coord_code_com[idx_coord2], '.', color='cyan', label='center of mass')\n",
    "plt.legend()\n",
    "plt.colorbar()\n"
   ]
  },
  {
   "cell_type": "code",
   "execution_count": 43,
   "id": "b4950c2c",
   "metadata": {},
   "outputs": [],
   "source": [
    "# read particle data from yt\n",
    "\n",
    "particle_type = data[\"io\", \"particle_family\"].value.astype(int)\n",
    "is_dm = particle_type == DM\n",
    "is_star = particle_type == STAR\n",
    "\n",
    "coord_dm = (np.array([data[\"io\", \"particle_position_x\"].value[is_dm], data[\"io\", \"particle_position_y\"].value[is_dm], data[\"io\", \"particle_position_z\"].value[is_dm]])) * info.length_unit - left_edge[:, None] - box_size / 2\n",
    "mass_dm = data[\"io\", \"particle_mass\"][is_dm] * info.mass_unit\n",
    "\n",
    "coord_star = (np.array([data[\"io\", \"particle_position_x\"].value[is_star], data[\"io\", \"particle_position_y\"].value[is_star], data[\"io\", \"particle_position_z\"].value[is_star]])) * info.length_unit - left_edge[:, None] - box_size / 2\n",
    "mass_star = data[\"io\", \"particle_mass\"][is_star].value * info.mass_unit\n",
    "metallicity_star = data[\"io\", \"particle_metallicity\"][is_star].value\n",
    "tau_starbirth = data[\"io\", \"conformal_birth_time\"][is_star].value\n",
    "id_star = data[\"io\", \"particle_identity\"][is_star].value.astype(int)\n",
    "vel_star = (np.array([data[\"io\", \"particle_velocity_x\"].value[is_star], data[\"io\", \"particle_velocity_y\"].value[is_star], data[\"io\", \"particle_velocity_z\"].value[is_star]])) * info.length_unit/info.time_unit\n"
   ]
  },
  {
   "cell_type": "code",
   "execution_count": 44,
   "id": "d331c9eb",
   "metadata": {},
   "outputs": [],
   "source": [
    "# read gas data from yt\n",
    "\n",
    "coord = (np.array([data[\"index\", \"x\"].value, data[\"index\", \"y\"].value, data[\"index\", \"z\"].value])) * info.length_unit - left_edge[:, None, None, None] - box_size / 2\n",
    "density = data[\"ramses\", \"Density\"].value * info.density_unit\n",
    "metallicity = data[\"ramses\", \"Metallicity\"].value \n",
    "pressure = data[\"ramses\", \"Pressure\"].value * info.energy_density_unit\n",
    "energy_turb = data[\"ramses\", \"hydro_scalar_01\"].value * info.vel_unit**2\n",
    "ref_crit = data[\"ramses\", \"hydro_scalar_02\"].value\n",
    "b_turb = data[\"ramses\", \"hydro_scalar_03\"].value\n",
    "vel_vec = np.array([data[\"ramses\", \"x-velocity\"].value, data[\"ramses\", \"y-velocity\"].value, data[\"ramses\", \"z-velocity\"].value]) * info.vel_unit\n",
    "dx_local = np.zeros((N, N, N))\n"
   ]
  },
  {
   "cell_type": "code",
   "execution_count": 45,
   "id": "1a502d51",
   "metadata": {},
   "outputs": [],
   "source": [
    "# compute local dx\n",
    "\n",
    "# for i, z in enumerate(coord_code[Z][0, 0, :]):\n",
    "#     sl = ds.slice(Z, z)\n",
    "#     bounds = (left_edge[X]/info.length_unit, (left_edge[X]+box_size)/info.length_unit, left_edge[Y]/info.length_unit, (left_edge[Y]+box_size)/info.length_unit)\n",
    "#     frb = FixedResolutionBuffer(sl, bounds, (N, N))\n",
    "#     dx_local[:, :, i] = frb[\"dx\"]\n",
    "#     print(i, end=\"\")\n"
   ]
  },
  {
   "cell_type": "code",
   "execution_count": 46,
   "id": "8d13af37",
   "metadata": {},
   "outputs": [
    {
     "name": "stdout",
     "output_type": "stream",
     "text": [
      "filename: data_d11_l32_b80.npz\n"
     ]
    }
   ],
   "source": [
    "grid_name = \"data_d%d_l%d_b%d\" % (dump, lowres, int(box_size / const.kpc))\n",
    "print(\"filename: %s.npz\" % grid_name)"
   ]
  },
  {
   "cell_type": "code",
   "execution_count": 47,
   "id": "b02a8a69",
   "metadata": {},
   "outputs": [],
   "source": [
    "safe_savez(\n",
    "    grid_name,\n",
    "    halo_idx=halo_cat.idx[biggest_halo_idx],\n",
    "    halo_mass=halo_cat.mass[biggest_halo_idx],\n",
    "    box_size=box_size,\n",
    "    left_edge=left_edge,\n",
    "    N=N,\n",
    "    coord_dm=coord_dm,\n",
    "    mass_dm=mass_dm,\n",
    "    coord_star=coord_star,\n",
    "    vel_star=vel_star,\n",
    "    mass_star=mass_star,\n",
    "    metallicity_star=metallicity_star,\n",
    "    tau_starbirth=tau_starbirth,\n",
    "    id_star=id_star,\n",
    "    coord=coord,\n",
    "    density=density,\n",
    "    metallicity=metallicity,\n",
    "    pressure=pressure,\n",
    "    energy_turb=energy_turb,\n",
    "    ref_crit=ref_crit,\n",
    "    b_turb=b_turb,\n",
    "    vel_vec=vel_vec,\n",
    "    lowres=lowres,\n",
    "    dx_local=dx_local,\n",
    "    **info.__dict__\n",
    ")\n"
   ]
  },
  {
   "cell_type": "code",
   "execution_count": null,
   "id": "1159d900",
   "metadata": {},
   "outputs": [],
   "source": [
    "\n"
   ]
  },
  {
   "cell_type": "code",
   "execution_count": 52,
   "id": "b948563e-54ac-4db5-8261-5f24d56f2c30",
   "metadata": {},
   "outputs": [
    {
     "name": "stderr",
     "output_type": "stream",
     "text": [
      "yt : [INFO     ] 2025-01-23 10:44:42,473 Parameters: current_time              = 4.170032659531777\n",
      "yt : [INFO     ] 2025-01-23 10:44:42,474 Parameters: domain_dimensions         = [128 128 128]\n",
      "yt : [INFO     ] 2025-01-23 10:44:42,475 Parameters: domain_left_edge          = [0. 0. 0.]\n",
      "yt : [INFO     ] 2025-01-23 10:44:42,475 Parameters: domain_right_edge         = [1. 1. 1.]\n",
      "yt : [INFO     ] 2025-01-23 10:44:42,476 Parameters: cosmological_simulation   = 1\n",
      "yt : [INFO     ] 2025-01-23 10:44:42,476 Parameters: current_redshift          = 9.831222799862129\n",
      "yt : [INFO     ] 2025-01-23 10:44:42,476 Parameters: omega_lambda              = 0.723999977111816\n",
      "yt : [INFO     ] 2025-01-23 10:44:42,477 Parameters: omega_matter              = 0.275999993085861\n",
      "yt : [INFO     ] 2025-01-23 10:44:42,477 Parameters: omega_radiation           = 0.0\n",
      "yt : [INFO     ] 2025-01-23 10:44:42,477 Parameters: hubble_constant           = 0.703000030517578\n",
      "yt : [WARNING  ] 2025-01-23 10:44:59,626 The DM particle filter already exists. Overriding.\n",
      "yt : [WARNING  ] 2025-01-23 10:44:59,628 The star particle filter already exists. Overriding.\n",
      "yt : [WARNING  ] 2025-01-23 10:44:59,628 The cloud particle filter already exists. Overriding.\n",
      "yt : [WARNING  ] 2025-01-23 10:44:59,628 The dust particle filter already exists. Overriding.\n",
      "yt : [WARNING  ] 2025-01-23 10:44:59,629 The star_tracer particle filter already exists. Overriding.\n",
      "yt : [WARNING  ] 2025-01-23 10:44:59,629 The cloud_tracer particle filter already exists. Overriding.\n",
      "yt : [WARNING  ] 2025-01-23 10:44:59,629 The dust_tracer particle filter already exists. Overriding.\n",
      "yt : [WARNING  ] 2025-01-23 10:44:59,629 The gas_tracer particle filter already exists. Overriding.\n",
      "yt : [INFO     ] 2025-01-23 10:44:59,630 Adding particle_type: DM\n",
      "yt : [INFO     ] 2025-01-23 10:44:59,639 Adding particle_type: star\n",
      "yt : [INFO     ] 2025-01-23 10:44:59,648 Adding particle_type: cloud\n",
      "yt : [INFO     ] 2025-01-23 10:44:59,658 Adding particle_type: dust\n",
      "yt : [INFO     ] 2025-01-23 10:44:59,668 Adding particle_type: star_tracer\n",
      "yt : [INFO     ] 2025-01-23 10:44:59,677 Adding particle_type: cloud_tracer\n",
      "yt : [INFO     ] 2025-01-23 10:44:59,687 Adding particle_type: dust_tracer\n",
      "yt : [INFO     ] 2025-01-23 10:44:59,697 Adding particle_type: gas_tracer\n"
     ]
    },
    {
     "name": "stdout",
     "output_type": "stream",
     "text": [
      "Finished dump 42\n"
     ]
    },
    {
     "name": "stderr",
     "output_type": "stream",
     "text": [
      "yt : [INFO     ] 2025-01-23 10:46:15,304 Parameters: current_time              = 4.1616010899590945\n",
      "yt : [INFO     ] 2025-01-23 10:46:15,306 Parameters: domain_dimensions         = [128 128 128]\n",
      "yt : [INFO     ] 2025-01-23 10:46:15,307 Parameters: domain_left_edge          = [0. 0. 0.]\n",
      "yt : [INFO     ] 2025-01-23 10:46:15,308 Parameters: domain_right_edge         = [1. 1. 1.]\n",
      "yt : [INFO     ] 2025-01-23 10:46:15,308 Parameters: cosmological_simulation   = 1\n",
      "yt : [INFO     ] 2025-01-23 10:46:15,308 Parameters: current_redshift          = 9.78743111682458\n",
      "yt : [INFO     ] 2025-01-23 10:46:15,309 Parameters: omega_lambda              = 0.723999977111816\n",
      "yt : [INFO     ] 2025-01-23 10:46:15,309 Parameters: omega_matter              = 0.275999993085861\n",
      "yt : [INFO     ] 2025-01-23 10:46:15,309 Parameters: omega_radiation           = 0.0\n",
      "yt : [INFO     ] 2025-01-23 10:46:15,310 Parameters: hubble_constant           = 0.703000030517578\n",
      "yt : [WARNING  ] 2025-01-23 10:46:34,031 The DM particle filter already exists. Overriding.\n",
      "yt : [WARNING  ] 2025-01-23 10:46:34,032 The star particle filter already exists. Overriding.\n",
      "yt : [WARNING  ] 2025-01-23 10:46:34,033 The cloud particle filter already exists. Overriding.\n",
      "yt : [WARNING  ] 2025-01-23 10:46:34,034 The dust particle filter already exists. Overriding.\n",
      "yt : [WARNING  ] 2025-01-23 10:46:34,034 The star_tracer particle filter already exists. Overriding.\n",
      "yt : [WARNING  ] 2025-01-23 10:46:34,034 The cloud_tracer particle filter already exists. Overriding.\n",
      "yt : [WARNING  ] 2025-01-23 10:46:34,034 The dust_tracer particle filter already exists. Overriding.\n",
      "yt : [WARNING  ] 2025-01-23 10:46:34,035 The gas_tracer particle filter already exists. Overriding.\n",
      "yt : [INFO     ] 2025-01-23 10:46:34,035 Adding particle_type: DM\n",
      "yt : [INFO     ] 2025-01-23 10:46:34,046 Adding particle_type: star\n",
      "yt : [INFO     ] 2025-01-23 10:46:34,056 Adding particle_type: cloud\n",
      "yt : [INFO     ] 2025-01-23 10:46:34,067 Adding particle_type: dust\n",
      "yt : [INFO     ] 2025-01-23 10:46:34,077 Adding particle_type: star_tracer\n",
      "yt : [INFO     ] 2025-01-23 10:46:34,088 Adding particle_type: cloud_tracer\n",
      "yt : [INFO     ] 2025-01-23 10:46:34,098 Adding particle_type: dust_tracer\n",
      "yt : [INFO     ] 2025-01-23 10:46:34,108 Adding particle_type: gas_tracer\n"
     ]
    },
    {
     "name": "stdout",
     "output_type": "stream",
     "text": [
      "Finished dump 43\n"
     ]
    },
    {
     "name": "stderr",
     "output_type": "stream",
     "text": [
      "yt : [INFO     ] 2025-01-23 10:47:51,168 Parameters: current_time              = 4.135775994637324\n",
      "yt : [INFO     ] 2025-01-23 10:47:51,173 Parameters: domain_dimensions         = [128 128 128]\n",
      "yt : [INFO     ] 2025-01-23 10:47:51,173 Parameters: domain_left_edge          = [0. 0. 0.]\n",
      "yt : [INFO     ] 2025-01-23 10:47:51,174 Parameters: domain_right_edge         = [1. 1. 1.]\n",
      "yt : [INFO     ] 2025-01-23 10:47:51,174 Parameters: cosmological_simulation   = 1\n",
      "yt : [INFO     ] 2025-01-23 10:47:51,175 Parameters: current_redshift          = 9.653791453559027\n",
      "yt : [INFO     ] 2025-01-23 10:47:51,175 Parameters: omega_lambda              = 0.723999977111816\n",
      "yt : [INFO     ] 2025-01-23 10:47:51,175 Parameters: omega_matter              = 0.275999993085861\n",
      "yt : [INFO     ] 2025-01-23 10:47:51,175 Parameters: omega_radiation           = 0.0\n",
      "yt : [INFO     ] 2025-01-23 10:47:51,175 Parameters: hubble_constant           = 0.703000030517578\n",
      "yt : [WARNING  ] 2025-01-23 10:48:08,217 The DM particle filter already exists. Overriding.\n",
      "yt : [WARNING  ] 2025-01-23 10:48:08,219 The star particle filter already exists. Overriding.\n",
      "yt : [WARNING  ] 2025-01-23 10:48:08,219 The cloud particle filter already exists. Overriding.\n",
      "yt : [WARNING  ] 2025-01-23 10:48:08,220 The dust particle filter already exists. Overriding.\n",
      "yt : [WARNING  ] 2025-01-23 10:48:08,220 The star_tracer particle filter already exists. Overriding.\n",
      "yt : [WARNING  ] 2025-01-23 10:48:08,220 The cloud_tracer particle filter already exists. Overriding.\n",
      "yt : [WARNING  ] 2025-01-23 10:48:08,220 The dust_tracer particle filter already exists. Overriding.\n",
      "yt : [WARNING  ] 2025-01-23 10:48:08,221 The gas_tracer particle filter already exists. Overriding.\n",
      "yt : [INFO     ] 2025-01-23 10:48:08,221 Adding particle_type: DM\n",
      "yt : [INFO     ] 2025-01-23 10:48:08,231 Adding particle_type: star\n",
      "yt : [INFO     ] 2025-01-23 10:48:08,240 Adding particle_type: cloud\n",
      "yt : [INFO     ] 2025-01-23 10:48:08,250 Adding particle_type: dust\n",
      "yt : [INFO     ] 2025-01-23 10:48:08,260 Adding particle_type: star_tracer\n",
      "yt : [INFO     ] 2025-01-23 10:48:08,269 Adding particle_type: cloud_tracer\n",
      "yt : [INFO     ] 2025-01-23 10:48:08,279 Adding particle_type: dust_tracer\n",
      "yt : [INFO     ] 2025-01-23 10:48:08,289 Adding particle_type: gas_tracer\n"
     ]
    },
    {
     "name": "stdout",
     "output_type": "stream",
     "text": [
      "Finished dump 44\n"
     ]
    },
    {
     "name": "stderr",
     "output_type": "stream",
     "text": [
      "yt : [INFO     ] 2025-01-23 10:51:09,135 Parameters: current_time              = 4.109245114377646\n",
      "yt : [INFO     ] 2025-01-23 10:51:09,136 Parameters: domain_dimensions         = [128 128 128]\n",
      "yt : [INFO     ] 2025-01-23 10:51:09,137 Parameters: domain_left_edge          = [0. 0. 0.]\n",
      "yt : [INFO     ] 2025-01-23 10:51:09,137 Parameters: domain_right_edge         = [1. 1. 1.]\n",
      "yt : [INFO     ] 2025-01-23 10:51:09,138 Parameters: cosmological_simulation   = 1\n",
      "yt : [INFO     ] 2025-01-23 10:51:09,138 Parameters: current_redshift          = 9.51745677111818\n",
      "yt : [INFO     ] 2025-01-23 10:51:09,139 Parameters: omega_lambda              = 0.723999977111816\n",
      "yt : [INFO     ] 2025-01-23 10:51:09,139 Parameters: omega_matter              = 0.275999993085861\n",
      "yt : [INFO     ] 2025-01-23 10:51:09,139 Parameters: omega_radiation           = 0.0\n",
      "yt : [INFO     ] 2025-01-23 10:51:09,139 Parameters: hubble_constant           = 0.703000030517578\n",
      "yt : [WARNING  ] 2025-01-23 10:51:26,098 The DM particle filter already exists. Overriding.\n",
      "yt : [WARNING  ] 2025-01-23 10:51:26,099 The star particle filter already exists. Overriding.\n",
      "yt : [WARNING  ] 2025-01-23 10:51:26,099 The cloud particle filter already exists. Overriding.\n",
      "yt : [WARNING  ] 2025-01-23 10:51:26,100 The dust particle filter already exists. Overriding.\n",
      "yt : [WARNING  ] 2025-01-23 10:51:26,100 The star_tracer particle filter already exists. Overriding.\n",
      "yt : [WARNING  ] 2025-01-23 10:51:26,100 The cloud_tracer particle filter already exists. Overriding.\n",
      "yt : [WARNING  ] 2025-01-23 10:51:26,100 The dust_tracer particle filter already exists. Overriding.\n",
      "yt : [WARNING  ] 2025-01-23 10:51:26,101 The gas_tracer particle filter already exists. Overriding.\n",
      "yt : [INFO     ] 2025-01-23 10:51:26,101 Adding particle_type: DM\n",
      "yt : [INFO     ] 2025-01-23 10:51:26,111 Adding particle_type: star\n",
      "yt : [INFO     ] 2025-01-23 10:51:26,120 Adding particle_type: cloud\n",
      "yt : [INFO     ] 2025-01-23 10:51:27,654 Adding particle_type: dust\n",
      "yt : [INFO     ] 2025-01-23 10:51:27,665 Adding particle_type: star_tracer\n",
      "yt : [INFO     ] 2025-01-23 10:51:27,675 Adding particle_type: cloud_tracer\n",
      "yt : [INFO     ] 2025-01-23 10:51:27,685 Adding particle_type: dust_tracer\n",
      "yt : [INFO     ] 2025-01-23 10:51:27,696 Adding particle_type: gas_tracer\n"
     ]
    },
    {
     "name": "stdout",
     "output_type": "stream",
     "text": [
      "Finished dump 45\n"
     ]
    },
    {
     "name": "stderr",
     "output_type": "stream",
     "text": [
      "yt : [INFO     ] 2025-01-23 10:53:00,840 Parameters: current_time              = 4.099365045714909\n",
      "yt : [INFO     ] 2025-01-23 10:53:00,842 Parameters: domain_dimensions         = [128 128 128]\n",
      "yt : [INFO     ] 2025-01-23 10:53:00,842 Parameters: domain_left_edge          = [0. 0. 0.]\n",
      "yt : [INFO     ] 2025-01-23 10:53:00,842 Parameters: domain_right_edge         = [1. 1. 1.]\n",
      "yt : [INFO     ] 2025-01-23 10:53:00,843 Parameters: cosmological_simulation   = 1\n",
      "yt : [INFO     ] 2025-01-23 10:53:00,843 Parameters: current_redshift          = 9.466882762860076\n",
      "yt : [INFO     ] 2025-01-23 10:53:00,843 Parameters: omega_lambda              = 0.723999977111816\n",
      "yt : [INFO     ] 2025-01-23 10:53:00,844 Parameters: omega_matter              = 0.275999993085861\n",
      "yt : [INFO     ] 2025-01-23 10:53:00,844 Parameters: omega_radiation           = 0.0\n",
      "yt : [INFO     ] 2025-01-23 10:53:00,844 Parameters: hubble_constant           = 0.703000030517578\n",
      "yt : [WARNING  ] 2025-01-23 10:53:17,735 The DM particle filter already exists. Overriding.\n",
      "yt : [WARNING  ] 2025-01-23 10:53:17,736 The star particle filter already exists. Overriding.\n",
      "yt : [WARNING  ] 2025-01-23 10:53:17,736 The cloud particle filter already exists. Overriding.\n",
      "yt : [WARNING  ] 2025-01-23 10:53:17,737 The dust particle filter already exists. Overriding.\n",
      "yt : [WARNING  ] 2025-01-23 10:53:17,737 The star_tracer particle filter already exists. Overriding.\n",
      "yt : [WARNING  ] 2025-01-23 10:53:17,737 The cloud_tracer particle filter already exists. Overriding.\n",
      "yt : [WARNING  ] 2025-01-23 10:53:17,737 The dust_tracer particle filter already exists. Overriding.\n",
      "yt : [WARNING  ] 2025-01-23 10:53:17,738 The gas_tracer particle filter already exists. Overriding.\n",
      "yt : [INFO     ] 2025-01-23 10:53:17,738 Adding particle_type: DM\n",
      "yt : [INFO     ] 2025-01-23 10:53:17,748 Adding particle_type: star\n",
      "yt : [INFO     ] 2025-01-23 10:53:17,758 Adding particle_type: cloud\n",
      "yt : [INFO     ] 2025-01-23 10:53:17,767 Adding particle_type: dust\n",
      "yt : [INFO     ] 2025-01-23 10:53:17,777 Adding particle_type: star_tracer\n",
      "yt : [INFO     ] 2025-01-23 10:53:17,786 Adding particle_type: cloud_tracer\n",
      "yt : [INFO     ] 2025-01-23 10:53:17,796 Adding particle_type: dust_tracer\n",
      "yt : [INFO     ] 2025-01-23 10:53:17,806 Adding particle_type: gas_tracer\n"
     ]
    },
    {
     "name": "stdout",
     "output_type": "stream",
     "text": [
      "Finished dump 46\n"
     ]
    },
    {
     "name": "stderr",
     "output_type": "stream",
     "text": [
      "yt : [INFO     ] 2025-01-23 10:54:49,352 Parameters: current_time              = 4.084420156003825\n",
      "yt : [INFO     ] 2025-01-23 10:54:49,353 Parameters: domain_dimensions         = [128 128 128]\n",
      "yt : [INFO     ] 2025-01-23 10:54:49,354 Parameters: domain_left_edge          = [0. 0. 0.]\n",
      "yt : [INFO     ] 2025-01-23 10:54:49,354 Parameters: domain_right_edge         = [1. 1. 1.]\n",
      "yt : [INFO     ] 2025-01-23 10:54:49,354 Parameters: cosmological_simulation   = 1\n",
      "yt : [INFO     ] 2025-01-23 10:54:49,355 Parameters: current_redshift          = 9.390664448775713\n",
      "yt : [INFO     ] 2025-01-23 10:54:49,355 Parameters: omega_lambda              = 0.723999977111816\n",
      "yt : [INFO     ] 2025-01-23 10:54:49,355 Parameters: omega_matter              = 0.275999993085861\n",
      "yt : [INFO     ] 2025-01-23 10:54:49,355 Parameters: omega_radiation           = 0.0\n",
      "yt : [INFO     ] 2025-01-23 10:54:49,356 Parameters: hubble_constant           = 0.703000030517578\n",
      "yt : [WARNING  ] 2025-01-23 10:55:06,175 The DM particle filter already exists. Overriding.\n",
      "yt : [WARNING  ] 2025-01-23 10:55:06,177 The star particle filter already exists. Overriding.\n",
      "yt : [WARNING  ] 2025-01-23 10:55:06,177 The cloud particle filter already exists. Overriding.\n",
      "yt : [WARNING  ] 2025-01-23 10:55:06,177 The dust particle filter already exists. Overriding.\n",
      "yt : [WARNING  ] 2025-01-23 10:55:06,177 The star_tracer particle filter already exists. Overriding.\n",
      "yt : [WARNING  ] 2025-01-23 10:55:06,178 The cloud_tracer particle filter already exists. Overriding.\n",
      "yt : [WARNING  ] 2025-01-23 10:55:06,178 The dust_tracer particle filter already exists. Overriding.\n",
      "yt : [WARNING  ] 2025-01-23 10:55:06,178 The gas_tracer particle filter already exists. Overriding.\n",
      "yt : [INFO     ] 2025-01-23 10:55:06,178 Adding particle_type: DM\n",
      "yt : [INFO     ] 2025-01-23 10:55:06,188 Adding particle_type: star\n",
      "yt : [INFO     ] 2025-01-23 10:55:06,198 Adding particle_type: cloud\n",
      "yt : [INFO     ] 2025-01-23 10:55:06,208 Adding particle_type: dust\n",
      "yt : [INFO     ] 2025-01-23 10:55:06,218 Adding particle_type: star_tracer\n",
      "yt : [INFO     ] 2025-01-23 10:55:06,228 Adding particle_type: cloud_tracer\n",
      "yt : [INFO     ] 2025-01-23 10:55:06,237 Adding particle_type: dust_tracer\n",
      "yt : [INFO     ] 2025-01-23 10:55:06,247 Adding particle_type: gas_tracer\n"
     ]
    },
    {
     "name": "stdout",
     "output_type": "stream",
     "text": [
      "Finished dump 47\n"
     ]
    },
    {
     "name": "stderr",
     "output_type": "stream",
     "text": [
      "yt : [INFO     ] 2025-01-23 10:56:20,081 Parameters: current_time              = 4.059049004711398\n",
      "yt : [INFO     ] 2025-01-23 10:56:20,082 Parameters: domain_dimensions         = [128 128 128]\n",
      "yt : [INFO     ] 2025-01-23 10:56:20,083 Parameters: domain_left_edge          = [0. 0. 0.]\n",
      "yt : [INFO     ] 2025-01-23 10:56:20,083 Parameters: domain_right_edge         = [1. 1. 1.]\n",
      "yt : [INFO     ] 2025-01-23 10:56:20,084 Parameters: cosmological_simulation   = 1\n",
      "yt : [INFO     ] 2025-01-23 10:56:20,084 Parameters: current_redshift          = 9.261829470593653\n",
      "yt : [INFO     ] 2025-01-23 10:56:20,084 Parameters: omega_lambda              = 0.723999977111816\n",
      "yt : [INFO     ] 2025-01-23 10:56:20,085 Parameters: omega_matter              = 0.275999993085861\n",
      "yt : [INFO     ] 2025-01-23 10:56:20,085 Parameters: omega_radiation           = 0.0\n",
      "yt : [INFO     ] 2025-01-23 10:56:20,085 Parameters: hubble_constant           = 0.703000030517578\n",
      "yt : [WARNING  ] 2025-01-23 10:56:37,715 The DM particle filter already exists. Overriding.\n",
      "yt : [WARNING  ] 2025-01-23 10:56:37,716 The star particle filter already exists. Overriding.\n",
      "yt : [WARNING  ] 2025-01-23 10:56:37,717 The cloud particle filter already exists. Overriding.\n",
      "yt : [WARNING  ] 2025-01-23 10:56:37,717 The dust particle filter already exists. Overriding.\n",
      "yt : [WARNING  ] 2025-01-23 10:56:37,717 The star_tracer particle filter already exists. Overriding.\n",
      "yt : [WARNING  ] 2025-01-23 10:56:37,717 The cloud_tracer particle filter already exists. Overriding.\n",
      "yt : [WARNING  ] 2025-01-23 10:56:37,718 The dust_tracer particle filter already exists. Overriding.\n",
      "yt : [WARNING  ] 2025-01-23 10:56:37,718 The gas_tracer particle filter already exists. Overriding.\n",
      "yt : [INFO     ] 2025-01-23 10:56:37,718 Adding particle_type: DM\n",
      "yt : [INFO     ] 2025-01-23 10:56:37,729 Adding particle_type: star\n",
      "yt : [INFO     ] 2025-01-23 10:56:37,739 Adding particle_type: cloud\n",
      "yt : [INFO     ] 2025-01-23 10:56:37,749 Adding particle_type: dust\n",
      "yt : [INFO     ] 2025-01-23 10:56:37,758 Adding particle_type: star_tracer\n",
      "yt : [INFO     ] 2025-01-23 10:56:37,768 Adding particle_type: cloud_tracer\n",
      "yt : [INFO     ] 2025-01-23 10:56:37,779 Adding particle_type: dust_tracer\n",
      "yt : [INFO     ] 2025-01-23 10:56:37,789 Adding particle_type: gas_tracer\n"
     ]
    },
    {
     "name": "stdout",
     "output_type": "stream",
     "text": [
      "Finished dump 48\n"
     ]
    },
    {
     "name": "stderr",
     "output_type": "stream",
     "text": [
      "yt : [INFO     ] 2025-01-23 10:57:48,151 Parameters: current_time              = 4.037810499267919\n",
      "yt : [INFO     ] 2025-01-23 10:57:48,153 Parameters: domain_dimensions         = [128 128 128]\n",
      "yt : [INFO     ] 2025-01-23 10:57:48,154 Parameters: domain_left_edge          = [0. 0. 0.]\n",
      "yt : [INFO     ] 2025-01-23 10:57:48,154 Parameters: domain_right_edge         = [1. 1. 1.]\n",
      "yt : [INFO     ] 2025-01-23 10:57:48,155 Parameters: cosmological_simulation   = 1\n",
      "yt : [INFO     ] 2025-01-23 10:57:48,155 Parameters: current_redshift          = 9.15465210397236\n",
      "yt : [INFO     ] 2025-01-23 10:57:48,156 Parameters: omega_lambda              = 0.723999977111816\n",
      "yt : [INFO     ] 2025-01-23 10:57:48,156 Parameters: omega_matter              = 0.275999993085861\n",
      "yt : [INFO     ] 2025-01-23 10:57:48,156 Parameters: omega_radiation           = 0.0\n",
      "yt : [INFO     ] 2025-01-23 10:57:48,156 Parameters: hubble_constant           = 0.703000030517578\n",
      "yt : [WARNING  ] 2025-01-23 10:58:05,527 The DM particle filter already exists. Overriding.\n",
      "yt : [WARNING  ] 2025-01-23 10:58:05,528 The star particle filter already exists. Overriding.\n",
      "yt : [WARNING  ] 2025-01-23 10:58:05,529 The cloud particle filter already exists. Overriding.\n",
      "yt : [WARNING  ] 2025-01-23 10:58:05,529 The dust particle filter already exists. Overriding.\n",
      "yt : [WARNING  ] 2025-01-23 10:58:05,529 The star_tracer particle filter already exists. Overriding.\n",
      "yt : [WARNING  ] 2025-01-23 10:58:05,530 The cloud_tracer particle filter already exists. Overriding.\n",
      "yt : [WARNING  ] 2025-01-23 10:58:05,530 The dust_tracer particle filter already exists. Overriding.\n",
      "yt : [WARNING  ] 2025-01-23 10:58:05,530 The gas_tracer particle filter already exists. Overriding.\n",
      "yt : [INFO     ] 2025-01-23 10:58:05,531 Adding particle_type: DM\n",
      "yt : [INFO     ] 2025-01-23 10:58:05,541 Adding particle_type: star\n",
      "yt : [INFO     ] 2025-01-23 10:58:05,552 Adding particle_type: cloud\n",
      "yt : [INFO     ] 2025-01-23 10:58:05,561 Adding particle_type: dust\n",
      "yt : [INFO     ] 2025-01-23 10:58:05,571 Adding particle_type: star_tracer\n",
      "yt : [INFO     ] 2025-01-23 10:58:05,581 Adding particle_type: cloud_tracer\n",
      "yt : [INFO     ] 2025-01-23 10:58:05,591 Adding particle_type: dust_tracer\n",
      "yt : [INFO     ] 2025-01-23 10:58:05,601 Adding particle_type: gas_tracer\n"
     ]
    },
    {
     "name": "stdout",
     "output_type": "stream",
     "text": [
      "Finished dump 49\n"
     ]
    },
    {
     "name": "stderr",
     "output_type": "stream",
     "text": [
      "yt : [INFO     ] 2025-01-23 10:59:13,402 Parameters: current_time              = 4.033945983367195\n",
      "yt : [INFO     ] 2025-01-23 10:59:13,403 Parameters: domain_dimensions         = [128 128 128]\n",
      "yt : [INFO     ] 2025-01-23 10:59:13,404 Parameters: domain_left_edge          = [0. 0. 0.]\n",
      "yt : [INFO     ] 2025-01-23 10:59:13,404 Parameters: domain_right_edge         = [1. 1. 1.]\n",
      "yt : [INFO     ] 2025-01-23 10:59:13,405 Parameters: cosmological_simulation   = 1\n",
      "yt : [INFO     ] 2025-01-23 10:59:13,405 Parameters: current_redshift          = 9.135272563306033\n",
      "yt : [INFO     ] 2025-01-23 10:59:13,405 Parameters: omega_lambda              = 0.723999977111816\n",
      "yt : [INFO     ] 2025-01-23 10:59:13,405 Parameters: omega_matter              = 0.275999993085861\n",
      "yt : [INFO     ] 2025-01-23 10:59:13,406 Parameters: omega_radiation           = 0.0\n",
      "yt : [INFO     ] 2025-01-23 10:59:13,406 Parameters: hubble_constant           = 0.703000030517578\n",
      "yt : [WARNING  ] 2025-01-23 10:59:33,388 The DM particle filter already exists. Overriding.\n",
      "yt : [WARNING  ] 2025-01-23 10:59:33,389 The star particle filter already exists. Overriding.\n",
      "yt : [WARNING  ] 2025-01-23 10:59:33,390 The cloud particle filter already exists. Overriding.\n",
      "yt : [WARNING  ] 2025-01-23 10:59:33,390 The dust particle filter already exists. Overriding.\n",
      "yt : [WARNING  ] 2025-01-23 10:59:33,390 The star_tracer particle filter already exists. Overriding.\n",
      "yt : [WARNING  ] 2025-01-23 10:59:33,391 The cloud_tracer particle filter already exists. Overriding.\n",
      "yt : [WARNING  ] 2025-01-23 10:59:33,391 The dust_tracer particle filter already exists. Overriding.\n",
      "yt : [WARNING  ] 2025-01-23 10:59:33,391 The gas_tracer particle filter already exists. Overriding.\n",
      "yt : [INFO     ] 2025-01-23 10:59:33,391 Adding particle_type: DM\n",
      "yt : [INFO     ] 2025-01-23 10:59:33,402 Adding particle_type: star\n",
      "yt : [INFO     ] 2025-01-23 10:59:33,412 Adding particle_type: cloud\n",
      "yt : [INFO     ] 2025-01-23 10:59:33,421 Adding particle_type: dust\n",
      "yt : [INFO     ] 2025-01-23 10:59:33,431 Adding particle_type: star_tracer\n",
      "yt : [INFO     ] 2025-01-23 10:59:33,440 Adding particle_type: cloud_tracer\n",
      "yt : [INFO     ] 2025-01-23 10:59:33,450 Adding particle_type: dust_tracer\n",
      "yt : [INFO     ] 2025-01-23 10:59:33,460 Adding particle_type: gas_tracer\n"
     ]
    },
    {
     "name": "stdout",
     "output_type": "stream",
     "text": [
      "Finished dump 50\n"
     ]
    },
    {
     "name": "stderr",
     "output_type": "stream",
     "text": [
      "yt : [INFO     ] 2025-01-23 11:00:41,676 Parameters: current_time              = 4.009803442978253\n",
      "yt : [INFO     ] 2025-01-23 11:00:41,678 Parameters: domain_dimensions         = [128 128 128]\n",
      "yt : [INFO     ] 2025-01-23 11:00:41,679 Parameters: domain_left_edge          = [0. 0. 0.]\n",
      "yt : [INFO     ] 2025-01-23 11:00:41,679 Parameters: domain_right_edge         = [1. 1. 1.]\n",
      "yt : [INFO     ] 2025-01-23 11:00:41,680 Parameters: cosmological_simulation   = 1\n",
      "yt : [INFO     ] 2025-01-23 11:00:41,680 Parameters: current_redshift          = 9.014154059952185\n",
      "yt : [INFO     ] 2025-01-23 11:00:41,681 Parameters: omega_lambda              = 0.723999977111816\n",
      "yt : [INFO     ] 2025-01-23 11:00:41,681 Parameters: omega_matter              = 0.275999993085861\n",
      "yt : [INFO     ] 2025-01-23 11:00:41,681 Parameters: omega_radiation           = 0.0\n",
      "yt : [INFO     ] 2025-01-23 11:00:41,681 Parameters: hubble_constant           = 0.703000030517578\n",
      "yt : [WARNING  ] 2025-01-23 11:00:59,527 The DM particle filter already exists. Overriding.\n",
      "yt : [WARNING  ] 2025-01-23 11:00:59,529 The star particle filter already exists. Overriding.\n",
      "yt : [WARNING  ] 2025-01-23 11:00:59,529 The cloud particle filter already exists. Overriding.\n",
      "yt : [WARNING  ] 2025-01-23 11:00:59,529 The dust particle filter already exists. Overriding.\n",
      "yt : [WARNING  ] 2025-01-23 11:00:59,530 The star_tracer particle filter already exists. Overriding.\n",
      "yt : [WARNING  ] 2025-01-23 11:00:59,530 The cloud_tracer particle filter already exists. Overriding.\n",
      "yt : [WARNING  ] 2025-01-23 11:00:59,530 The dust_tracer particle filter already exists. Overriding.\n",
      "yt : [WARNING  ] 2025-01-23 11:00:59,530 The gas_tracer particle filter already exists. Overriding.\n",
      "yt : [INFO     ] 2025-01-23 11:00:59,530 Adding particle_type: DM\n",
      "yt : [INFO     ] 2025-01-23 11:00:59,541 Adding particle_type: star\n",
      "yt : [INFO     ] 2025-01-23 11:00:59,550 Adding particle_type: cloud\n",
      "yt : [INFO     ] 2025-01-23 11:00:59,559 Adding particle_type: dust\n",
      "yt : [INFO     ] 2025-01-23 11:00:59,569 Adding particle_type: star_tracer\n",
      "yt : [INFO     ] 2025-01-23 11:00:59,579 Adding particle_type: cloud_tracer\n",
      "yt : [INFO     ] 2025-01-23 11:00:59,589 Adding particle_type: dust_tracer\n",
      "yt : [INFO     ] 2025-01-23 11:00:59,599 Adding particle_type: gas_tracer\n"
     ]
    },
    {
     "name": "stdout",
     "output_type": "stream",
     "text": [
      "Finished dump 51\n"
     ]
    },
    {
     "name": "stderr",
     "output_type": "stream",
     "text": [
      "yt : [INFO     ] 2025-01-23 11:02:09,474 Parameters: current_time              = 4.006908651932941\n",
      "yt : [INFO     ] 2025-01-23 11:02:09,475 Parameters: domain_dimensions         = [128 128 128]\n",
      "yt : [INFO     ] 2025-01-23 11:02:09,475 Parameters: domain_left_edge          = [0. 0. 0.]\n",
      "yt : [INFO     ] 2025-01-23 11:02:09,475 Parameters: domain_right_edge         = [1. 1. 1.]\n",
      "yt : [INFO     ] 2025-01-23 11:02:09,476 Parameters: cosmological_simulation   = 1\n",
      "yt : [INFO     ] 2025-01-23 11:02:09,476 Parameters: current_redshift          = 8.999770892704936\n",
      "yt : [INFO     ] 2025-01-23 11:02:09,476 Parameters: omega_lambda              = 0.723999977111816\n",
      "yt : [INFO     ] 2025-01-23 11:02:09,477 Parameters: omega_matter              = 0.275999993085861\n",
      "yt : [INFO     ] 2025-01-23 11:02:09,477 Parameters: omega_radiation           = 0.0\n",
      "yt : [INFO     ] 2025-01-23 11:02:09,477 Parameters: hubble_constant           = 0.703000030517578\n",
      "yt : [WARNING  ] 2025-01-23 11:02:29,058 The DM particle filter already exists. Overriding.\n",
      "yt : [WARNING  ] 2025-01-23 11:02:29,059 The star particle filter already exists. Overriding.\n",
      "yt : [WARNING  ] 2025-01-23 11:02:29,059 The cloud particle filter already exists. Overriding.\n",
      "yt : [WARNING  ] 2025-01-23 11:02:29,060 The dust particle filter already exists. Overriding.\n",
      "yt : [WARNING  ] 2025-01-23 11:02:29,060 The star_tracer particle filter already exists. Overriding.\n",
      "yt : [WARNING  ] 2025-01-23 11:02:29,060 The cloud_tracer particle filter already exists. Overriding.\n",
      "yt : [WARNING  ] 2025-01-23 11:02:29,060 The dust_tracer particle filter already exists. Overriding.\n",
      "yt : [WARNING  ] 2025-01-23 11:02:29,060 The gas_tracer particle filter already exists. Overriding.\n",
      "yt : [INFO     ] 2025-01-23 11:02:29,061 Adding particle_type: DM\n",
      "yt : [INFO     ] 2025-01-23 11:02:29,071 Adding particle_type: star\n",
      "yt : [INFO     ] 2025-01-23 11:02:29,080 Adding particle_type: cloud\n",
      "yt : [INFO     ] 2025-01-23 11:02:29,090 Adding particle_type: dust\n",
      "yt : [INFO     ] 2025-01-23 11:02:29,100 Adding particle_type: star_tracer\n",
      "yt : [INFO     ] 2025-01-23 11:02:29,110 Adding particle_type: cloud_tracer\n",
      "yt : [INFO     ] 2025-01-23 11:02:29,120 Adding particle_type: dust_tracer\n",
      "yt : [INFO     ] 2025-01-23 11:02:29,131 Adding particle_type: gas_tracer\n"
     ]
    },
    {
     "name": "stdout",
     "output_type": "stream",
     "text": [
      "Finished dump 52\n"
     ]
    }
   ],
   "source": [
    "for dump in range(42, 53):\n",
    "    \n",
    "    sim = Sim(9, \"fiducial\", f\"data_d{dump}_l1_b5.npz\")\n",
    "    coord_code = (sim.left_edge + sim.box_size/2)\n",
    "    \n",
    "    info = get_info(dump)\n",
    "    info_file = os.path.join(\"output_%.5d\" % dump, \"info_%.5d.txt\" % dump)\n",
    "    ds = yt.load(info_file)\n",
    "    \n",
    "    amr_level = 9\n",
    "    box_size = 80 * const.kpc\n",
    "\n",
    "    left_edge = coord_code - box_size / 2\n",
    "    left_edge_code = left_edge / info.length_unit\n",
    "    N = int(box_size / info.length_unit * ds.domain_dimensions[0] * 2**amr_level)\n",
    "    lowres = 2**(info.amr_level_max - amr_level)\n",
    "    \n",
    "    data = ds.covering_grid(level=amr_level, left_edge=left_edge_code, dims=[N]*3)\n",
    "    \n",
    "    particle_type = data[\"io\", \"particle_family\"].value.astype(int)\n",
    "    is_dm = particle_type == DM\n",
    "    is_star = particle_type == STAR\n",
    "\n",
    "    coord_dm = (np.array([data[\"io\", \"particle_position_x\"].value[is_dm], data[\"io\", \"particle_position_y\"].value[is_dm], data[\"io\", \"particle_position_z\"].value[is_dm]])) * info.length_unit - left_edge[:, None] - box_size / 2\n",
    "    mass_dm = data[\"io\", \"particle_mass\"][is_dm] * info.mass_unit\n",
    "\n",
    "    coord_star = (np.array([data[\"io\", \"particle_position_x\"].value[is_star], data[\"io\", \"particle_position_y\"].value[is_star], data[\"io\", \"particle_position_z\"].value[is_star]])) * info.length_unit - left_edge[:, None] - box_size / 2\n",
    "    mass_star = data[\"io\", \"particle_mass\"][is_star].value * info.mass_unit\n",
    "    metallicity_star = data[\"io\", \"particle_metallicity\"][is_star].value\n",
    "    tau_starbirth = data[\"io\", \"conformal_birth_time\"][is_star].value\n",
    "    id_star = data[\"io\", \"particle_identity\"][is_star].value.astype(int)\n",
    "    vel_star = (np.array([data[\"io\", \"particle_velocity_x\"].value[is_star], data[\"io\", \"particle_velocity_y\"].value[is_star], data[\"io\", \"particle_velocity_z\"].value[is_star]])) * info.length_unit/info.time_unit\n",
    "\n",
    "    coord = (np.array([data[\"index\", \"x\"].value, data[\"index\", \"y\"].value, data[\"index\", \"z\"].value])) * info.length_unit - left_edge[:, None, None, None] - box_size / 2\n",
    "    density = data[\"ramses\", \"Density\"].value * info.density_unit\n",
    "    metallicity = data[\"ramses\", \"Metallicity\"].value \n",
    "    pressure = data[\"ramses\", \"Pressure\"].value * info.energy_density_unit\n",
    "    energy_turb = data[\"ramses\", \"hydro_scalar_01\"].value * info.vel_unit**2\n",
    "    ref_crit = data[\"ramses\", \"hydro_scalar_02\"].value\n",
    "    b_turb = data[\"ramses\", \"hydro_scalar_03\"].value\n",
    "    vel_vec = np.array([data[\"ramses\", \"x-velocity\"].value, data[\"ramses\", \"y-velocity\"].value, data[\"ramses\", \"z-velocity\"].value]) * info.vel_unit\n",
    "    dx_local = np.zeros((N, N, N))\n",
    "    \n",
    "    grid_name = \"data_d%d_l%d_b%d\" % (dump, lowres, int(box_size / const.kpc))\n",
    "    np.savez(\n",
    "        grid_name,\n",
    "        halo_idx=halo_cat.idx[biggest_halo_idx],\n",
    "        halo_mass=halo_cat.mass[biggest_halo_idx],\n",
    "        box_size=box_size,\n",
    "        left_edge=left_edge,\n",
    "        N=N,\n",
    "        coord_dm=coord_dm,\n",
    "        mass_dm=mass_dm,\n",
    "        coord_star=coord_star,\n",
    "        vel_star=vel_star,\n",
    "        mass_star=mass_star,\n",
    "        metallicity_star=metallicity_star,\n",
    "        tau_starbirth=tau_starbirth,\n",
    "        id_star=id_star,\n",
    "        coord=coord,\n",
    "        density=density,\n",
    "        metallicity=metallicity,\n",
    "        pressure=pressure,\n",
    "        energy_turb=energy_turb,\n",
    "        ref_crit=ref_crit,\n",
    "        b_turb=b_turb,\n",
    "        vel_vec=vel_vec,\n",
    "        lowres=lowres,\n",
    "        dx_local=dx_local,\n",
    "        **info.__dict__\n",
    "    )\n",
    "    \n",
    "    print(f\"Finished dump {dump}\")\n",
    "    "
   ]
  },
  {
   "cell_type": "code",
   "execution_count": null,
   "id": "e40f4f25-90e8-4b00-82d8-d458cb61ea06",
   "metadata": {},
   "outputs": [],
   "source": []
  }
 ],
 "metadata": {
  "kernelspec": {
   "display_name": "Python 3",
   "language": "python",
   "name": "python3"
  },
  "language_info": {
   "codemirror_mode": {
    "name": "ipython",
    "version": 3
   },
   "file_extension": ".py",
   "mimetype": "text/x-python",
   "name": "python",
   "nbconvert_exporter": "python",
   "pygments_lexer": "ipython3",
   "version": "3.10.9"
  }
 },
 "nbformat": 4,
 "nbformat_minor": 5
}
