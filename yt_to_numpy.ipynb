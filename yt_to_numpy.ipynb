{
 "cells": [
  {
   "cell_type": "code",
   "execution_count": 16,
   "id": "aeb42dc8",
   "metadata": {},
   "outputs": [],
   "source": [
    "%load_ext autoreload\n",
    "%autoreload 2\n"
   ]
  },
  {
   "cell_type": "code",
   "execution_count": 17,
   "id": "e33418c3",
   "metadata": {},
   "outputs": [],
   "source": [
    "import yt\n",
    "\n",
    "from modules import *\n",
    "from sim import *\n",
    "from read_ramses import *\n"
   ]
  },
  {
   "cell_type": "code",
   "execution_count": 20,
   "id": "d4bb0061",
   "metadata": {},
   "outputs": [
    {
     "name": "stdout",
     "output_type": "stream",
     "text": [
      "Moving to directory '/home/za9132/scratch/romain/round3/alpha_eps1p0'.\n",
      "\n",
      "Dump: 41\n",
      "a_exp: 0.1\n",
      "Maximum AMR level: 13\n"
     ]
    }
   ],
   "source": [
    "# choose simulation\n",
    "sim_round = 3\n",
    "sim_name = \"alpha_eps1p0\"\n",
    "sim_dir = move_to_sim_dir(sim_round, sim_name)\n",
    "print()\n",
    "\n",
    "dump = get_dump(a_exp=0.1)\n",
    "info = get_info(dump)\n",
    "\n",
    "print(\"Dump: %d\" % dump)\n",
    "print(\"a_exp: %.3g\" % info.a_exp)\n",
    "print(\"Maximum AMR level: %d\" % info.amr_level_max)\n"
   ]
  },
  {
   "cell_type": "code",
   "execution_count": 21,
   "id": "3da49bf4",
   "metadata": {},
   "outputs": [
    {
     "name": "stdout",
     "output_type": "stream",
     "text": [
      "Halo coord (cubic): (0.51053, 0.51273, 0.49297)\n",
      "Halo coord (mass): (0.51052, 0.51275, 0.49298)\n"
     ]
    }
   ],
   "source": [
    "use_cubic = False\n",
    "\n",
    "halo_cat = get_halo_cat(dump, cgs=True)\n",
    "biggest_halo_idx = np.argmax(halo_cat.mass)\n",
    "biggest_halo_coord_cubic = get_biggest_halo_coord_cubic(info.a_exp) * info.length_unit\n",
    "\n",
    "print(\"Halo coord (cubic): (%.5g, %.5g, %.5g)\" % tuple(biggest_halo_coord_cubic / info.length_unit))\n",
    "print(\"Halo coord (mass): (%.5g, %.5g, %.5g)\" % tuple(halo_cat.coord[:, biggest_halo_idx] / info.length_unit))\n",
    "if use_cubic: halo_cat.coord[:, biggest_halo_idx] = biggest_halo_coord_cubic\n"
   ]
  },
  {
   "cell_type": "code",
   "execution_count": 22,
   "id": "764b49c5",
   "metadata": {},
   "outputs": [
    {
     "name": "stderr",
     "output_type": "stream",
     "text": [
      "yt : [INFO     ] 2023-11-15 13:21:58,224 Parameters: current_time              = 4.006944779175115\n",
      "yt : [INFO     ] 2023-11-15 13:21:58,225 Parameters: domain_dimensions         = [128 128 128]\n",
      "yt : [INFO     ] 2023-11-15 13:21:58,225 Parameters: domain_left_edge          = [0. 0. 0.]\n",
      "yt : [INFO     ] 2023-11-15 13:21:58,226 Parameters: domain_right_edge         = [1. 1. 1.]\n",
      "yt : [INFO     ] 2023-11-15 13:21:58,226 Parameters: cosmological_simulation   = 1\n",
      "yt : [INFO     ] 2023-11-15 13:21:58,227 Parameters: current_redshift          = 8.999949195095816\n",
      "yt : [INFO     ] 2023-11-15 13:21:58,227 Parameters: omega_lambda              = 0.723999977111816\n",
      "yt : [INFO     ] 2023-11-15 13:21:58,227 Parameters: omega_matter              = 0.275999993085861\n",
      "yt : [INFO     ] 2023-11-15 13:21:58,227 Parameters: omega_radiation           = 0.0\n",
      "yt : [INFO     ] 2023-11-15 13:21:58,228 Parameters: hubble_constant           = 0.703000030517578\n"
     ]
    }
   ],
   "source": [
    "info_file = os.path.join(\"output_%.5d\" % dump, \"info_%.5d.txt\" % dump)\n",
    "ds = yt.load(info_file)\n"
   ]
  },
  {
   "cell_type": "code",
   "execution_count": 23,
   "id": "4322cd5b",
   "metadata": {},
   "outputs": [
    {
     "name": "stdout",
     "output_type": "stream",
     "text": [
      "Grid size: 147\n",
      "Lowres factor: 1\n"
     ]
    }
   ],
   "source": [
    "# define size and resolution of the region of interest\n",
    "\n",
    "# small grid\n",
    "amr_level = 13\n",
    "box_size = 2 * const.kpc\n",
    "\n",
    "# medium grid\n",
    "#amr_level = 10\n",
    "#box_size = 20 * const.kpc\n",
    "\n",
    "# large grid\n",
    "#amr_level = 7\n",
    "#box_size = 100 * const.kpc\n",
    "\n",
    "left_edge = halo_cat.coord[:, biggest_halo_idx] - box_size / 2\n",
    "N = int(box_size / info.length_unit * ds.domain_dimensions[0] * 2**amr_level)\n",
    "lowres = 2**(info.amr_level_max - amr_level)\n",
    "\n",
    "print(\"Grid size: %d\" % N)\n",
    "print(\"Lowres factor: %d\" % lowres)\n"
   ]
  },
  {
   "cell_type": "code",
   "execution_count": 24,
   "id": "1c5ff4f1",
   "metadata": {},
   "outputs": [],
   "source": [
    "# get raw yt data from the region of interest\n",
    "\n",
    "smooth_grid = True\n",
    "\n",
    "if smooth_grid:\n",
    "    data = ds.smoothed_covering_grid(level=amr_level, left_edge=(left_edge / info.length_unit), dims=[N]*3)\n",
    "else:\n",
    "    data = ds.covering_grid(level=amr_level, left_edge=(left_edge / info.length_unit), dims=[N]*3)\n"
   ]
  },
  {
   "cell_type": "code",
   "execution_count": 25,
   "id": "b4950c2c",
   "metadata": {},
   "outputs": [
    {
     "name": "stderr",
     "output_type": "stream",
     "text": [
      "yt : [WARNING  ] 2023-11-15 13:22:34,633 The DM particle filter already exists. Overriding.\n",
      "yt : [WARNING  ] 2023-11-15 13:22:34,634 The star particle filter already exists. Overriding.\n",
      "yt : [WARNING  ] 2023-11-15 13:22:34,635 The cloud particle filter already exists. Overriding.\n",
      "yt : [WARNING  ] 2023-11-15 13:22:34,635 The dust particle filter already exists. Overriding.\n",
      "yt : [WARNING  ] 2023-11-15 13:22:34,635 The star_tracer particle filter already exists. Overriding.\n",
      "yt : [WARNING  ] 2023-11-15 13:22:34,635 The cloud_tracer particle filter already exists. Overriding.\n",
      "yt : [WARNING  ] 2023-11-15 13:22:34,636 The dust_tracer particle filter already exists. Overriding.\n",
      "yt : [WARNING  ] 2023-11-15 13:22:34,636 The gas_tracer particle filter already exists. Overriding.\n",
      "yt : [INFO     ] 2023-11-15 13:22:34,636 Adding particle_type: DM\n",
      "yt : [INFO     ] 2023-11-15 13:22:34,646 Adding particle_type: star\n",
      "yt : [INFO     ] 2023-11-15 13:22:34,655 Adding particle_type: cloud\n",
      "yt : [INFO     ] 2023-11-15 13:22:34,665 Adding particle_type: dust\n",
      "yt : [INFO     ] 2023-11-15 13:22:34,674 Adding particle_type: star_tracer\n",
      "yt : [INFO     ] 2023-11-15 13:22:34,684 Adding particle_type: cloud_tracer\n",
      "yt : [INFO     ] 2023-11-15 13:22:34,693 Adding particle_type: dust_tracer\n",
      "yt : [INFO     ] 2023-11-15 13:22:34,703 Adding particle_type: gas_tracer\n"
     ]
    }
   ],
   "source": [
    "# read particle data from yt\n",
    "\n",
    "particle_type = data[\"io\", \"particle_family\"].value.astype(int)\n",
    "is_dm = particle_type == DM\n",
    "is_star = particle_type == STAR\n",
    "\n",
    "coord_dm = (np.array([data[\"io\", \"particle_position_x\"].value[is_dm], data[\"io\", \"particle_position_y\"].value[is_dm], data[\"io\", \"particle_position_z\"].value[is_dm]])) * info.length_unit - left_edge[:, None] - box_size / 2\n",
    "mass_dm = data[\"io\", \"particle_mass\"][is_dm] * info.mass_unit\n",
    "\n",
    "coord_star = (np.array([data[\"io\", \"particle_position_x\"].value[is_star], data[\"io\", \"particle_position_y\"].value[is_star], data[\"io\", \"particle_position_z\"].value[is_star]])) * info.length_unit - left_edge[:, None] - box_size / 2\n",
    "mass_star = data[\"io\", \"particle_mass\"][is_star] * info.mass_unit\n",
    "tau_starbirth = data[\"io\", \"conformal_birth_time\"][is_star].value\n",
    "id_star = data[\"io\", \"particle_identity\"][is_star].value.astype(int)\n"
   ]
  },
  {
   "cell_type": "code",
   "execution_count": 26,
   "id": "d331c9eb",
   "metadata": {},
   "outputs": [],
   "source": [
    "# read gas data from yt\n",
    "\n",
    "coord = (np.array([data[\"index\", \"x\"].value, data[\"index\", \"y\"].value, data[\"index\", \"z\"].value])) * info.length_unit - left_edge[:, None, None, None] - box_size / 2\n",
    "density = data[\"ramses\", \"Density\"].value * info.density_unit\n",
    "metallicity = data[\"ramses\", \"Metallicity\"].value \n",
    "pressure = data[\"ramses\", \"Pressure\"].value * info.energy_density_unit\n",
    "energy_turb = data[\"ramses\", \"hydro_scalar_01\"].value * info.vel_unit**2\n",
    "ref_crit = data[\"ramses\", \"hydro_scalar_02\"].value\n",
    "vel_vec = np.array([data[\"ramses\", \"x-velocity\"].value, data[\"ramses\", \"y-velocity\"].value, data[\"ramses\", \"z-velocity\"].value]) * info.vel_unit\n"
   ]
  },
  {
   "cell_type": "code",
   "execution_count": 27,
   "id": "8d13af37",
   "metadata": {},
   "outputs": [
    {
     "name": "stdout",
     "output_type": "stream",
     "text": [
      "filename: data_d41_l1_b2.npz\n"
     ]
    }
   ],
   "source": [
    "grid_name = \"data_d%d_l%d_b%d\" % (dump, lowres, int(box_size / const.kpc))\n",
    "print(\"filename: %s.npz\" % grid_name)"
   ]
  },
  {
   "cell_type": "code",
   "execution_count": 28,
   "id": "b02a8a69",
   "metadata": {},
   "outputs": [],
   "source": [
    "safe_savez(\n",
    "    grid_name,\n",
    "    halo_idx=halo_cat.idx[biggest_halo_idx],\n",
    "    halo_mass=halo_cat.mass[biggest_halo_idx],\n",
    "    box_size=box_size,\n",
    "    left_edge=left_edge,\n",
    "    N=N,\n",
    "    coord_dm=coord_dm,\n",
    "    mass_dm=mass_dm,\n",
    "    coord_star=coord_star,\n",
    "    mass_star=mass_star,\n",
    "    tau_starbirth=tau_starbirth,\n",
    "    id_star=id_star,\n",
    "    coord=coord,\n",
    "    density=density,\n",
    "    metallicity=metallicity,\n",
    "    pressure=pressure,\n",
    "    energy_turb=energy_turb,\n",
    "    ref_crit=ref_crit,\n",
    "    vel_vec=vel_vec,\n",
    "    lowres=lowres,\n",
    "    **info.__dict__\n",
    ")\n"
   ]
  },
  {
   "cell_type": "code",
   "execution_count": null,
   "id": "6f3802a0",
   "metadata": {},
   "outputs": [],
   "source": [
    "\n"
   ]
  }
 ],
 "metadata": {
  "kernelspec": {
   "display_name": "Python 3 (ipykernel)",
   "language": "python",
   "name": "python3"
  },
  "language_info": {
   "codemirror_mode": {
    "name": "ipython",
    "version": 3
   },
   "file_extension": ".py",
   "mimetype": "text/x-python",
   "name": "python",
   "nbconvert_exporter": "python",
   "pygments_lexer": "ipython3",
   "version": "3.10.9"
  }
 },
 "nbformat": 4,
 "nbformat_minor": 5
}
