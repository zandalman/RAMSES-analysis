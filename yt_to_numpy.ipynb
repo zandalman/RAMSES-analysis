{
 "cells": [
  {
   "cell_type": "code",
   "execution_count": 1,
   "id": "aeb42dc8",
   "metadata": {},
   "outputs": [],
   "source": [
    "%load_ext autoreload\n",
    "%autoreload 2\n"
   ]
  },
  {
   "cell_type": "code",
   "execution_count": 19,
   "id": "e33418c3",
   "metadata": {},
   "outputs": [],
   "source": [
    "import yt\n",
    "\n",
    "from modules import *\n",
    "from sim import *\n",
    "from read_ramses import *\n"
   ]
  },
  {
   "cell_type": "code",
   "execution_count": 41,
   "id": "d4bb0061",
   "metadata": {},
   "outputs": [
    {
     "name": "stdout",
     "output_type": "stream",
     "text": [
      "a_exp = 0.0644\n"
     ]
    }
   ],
   "source": [
    "# choose simulation\n",
    "sim_round = 1\n",
    "sim_name = \"alpha_eps0p1\"\n",
    "\n",
    "sim_dir = os.path.join(sim_base_dir, \"round%d\" % sim_round, sim_name)\n",
    "\n",
    "os.chdir(sim_dir)\n",
    "\n",
    "# choose dump\n",
    "dump = get_dump(a_exp=0.067)\n"
   ]
  },
  {
   "cell_type": "code",
   "execution_count": 42,
   "id": "7489f1ec",
   "metadata": {},
   "outputs": [
    {
     "name": "stdout",
     "output_type": "stream",
     "text": [
      "Halo coords: 0.508, 0.509, 0.496\n"
     ]
    }
   ],
   "source": [
    "halo = get_biggest_halos(1, dump=dump, use_density=False)\n",
    "info_file = get_stdout(\"ls output_%.5d/info*\" % dump).split()[0]\n",
    "\n",
    "if sim_name == \"gas\":\n",
    "    halo.coord = np.array([5.105151466E-01, 5.127534424E-01, 4.929928780E-01])\n",
    "    \n",
    "print(\"Halo coords: %.3g, %.3g, %.3g\" % (halo.coord[0], halo.coord[1], halo.coord[2]))\n",
    "    "
   ]
  },
  {
   "cell_type": "code",
   "execution_count": 43,
   "id": "764b49c5",
   "metadata": {},
   "outputs": [
    {
     "name": "stderr",
     "output_type": "stream",
     "text": [
      "yt : [INFO     ] 2023-10-27 16:30:30,811 Parameters: current_time              = 4.991203396022671\n",
      "yt : [INFO     ] 2023-10-27 16:30:30,812 Parameters: domain_dimensions         = [128 128 128]\n",
      "yt : [INFO     ] 2023-10-27 16:30:30,812 Parameters: domain_left_edge          = [0. 0. 0.]\n",
      "yt : [INFO     ] 2023-10-27 16:30:30,815 Parameters: domain_right_edge         = [1. 1. 1.]\n",
      "yt : [INFO     ] 2023-10-27 16:30:30,816 Parameters: cosmological_simulation   = 1\n",
      "yt : [INFO     ] 2023-10-27 16:30:30,816 Parameters: current_redshift          = 14.53952658367318\n",
      "yt : [INFO     ] 2023-10-27 16:30:30,816 Parameters: omega_lambda              = 0.723999977111816\n",
      "yt : [INFO     ] 2023-10-27 16:30:30,817 Parameters: omega_matter              = 0.275999993085861\n",
      "yt : [INFO     ] 2023-10-27 16:30:30,817 Parameters: omega_radiation           = 0.0\n",
      "yt : [INFO     ] 2023-10-27 16:30:30,817 Parameters: hubble_constant           = 0.703000030517578\n"
     ]
    }
   ],
   "source": [
    "ds = yt.load(info_file)\n"
   ]
  },
  {
   "cell_type": "code",
   "execution_count": 44,
   "id": "2beae83d",
   "metadata": {},
   "outputs": [
    {
     "name": "stdout",
     "output_type": "stream",
     "text": [
      "Maximum AMR level: 13\n"
     ]
    }
   ],
   "source": [
    "# read constants from yt\n",
    "\n",
    "a_exp = ds[\"aexp\"]\n",
    "H0 = ds[\"H0\"] * const.km / const.Mpc\n",
    "Omega_m0 = ds[\"omega_m\"]\n",
    "Omega_L0 = ds[\"omega_l\"]\n",
    "Omega_k0 = ds[\"omega_k\"]\n",
    "Omega_b0 = ds[\"omega_b\"]\n",
    "\n",
    "length_unit = ds[\"unit_l\"]\n",
    "density_unit = ds[\"unit_d\"]\n",
    "time_unit = ds[\"unit_t\"]\n",
    "\n",
    "mass_unit = density_unit * length_unit**3\n",
    "vel_unit = length_unit / time_unit\n",
    "energy_unit = mass_unit * vel_unit**2\n",
    "energy_density_unit = density_unit * vel_unit**2\n",
    "\n",
    "amr_level_sim_max = int(ds.parameters[\"levelmax\"])\n",
    "amr_level_course = int(np.log2(ds.domain_dimensions[0]))\n",
    "amr_level_reduce_exp = min(-4, int(np.floor(np.log2(a_exp))))\n",
    "amr_level_max = amr_level_sim_max - amr_level_course + amr_level_reduce_exp\n",
    "print(\"Maximum AMR level: %d\" % amr_level_max)\n",
    "\n",
    "halo.convert_to_cgs(length_unit, density_unit)\n"
   ]
  },
  {
   "cell_type": "code",
   "execution_count": 47,
   "id": "4322cd5b",
   "metadata": {},
   "outputs": [
    {
     "name": "stdout",
     "output_type": "stream",
     "text": [
      "Grid size: 229\n",
      "Lowres factor: 1\n"
     ]
    }
   ],
   "source": [
    "# define size and resolution of the region of interest\n",
    "\n",
    "# small grid\n",
    "amr_level = 13\n",
    "box_size = 2 * const.kpc\n",
    "\n",
    "# medium grid\n",
    "#amr_level = 10\n",
    "#box_size = 20 * const.kpc\n",
    "\n",
    "# large grid\n",
    "#amr_level = 10\n",
    "#box_size = 50 * const.kpc\n",
    "\n",
    "left_edge = halo.coord - box_size / 2\n",
    "N = int(box_size / length_unit * ds.domain_dimensions[0] * 2**amr_level)\n",
    "lowres = 2**(amr_level_max - amr_level)\n",
    "\n",
    "print(\"Grid size: %d\" % N)\n",
    "print(\"Lowres factor: %d\" % lowres)\n"
   ]
  },
  {
   "cell_type": "code",
   "execution_count": 48,
   "id": "1c5ff4f1",
   "metadata": {},
   "outputs": [],
   "source": [
    "# get raw yt data from the region of interest\n",
    "\n",
    "smooth_grid = True\n",
    "\n",
    "if smooth_grid:\n",
    "    data = ds.smoothed_covering_grid(level=amr_level, left_edge=(left_edge / length_unit), dims=[N]*3)\n",
    "else:\n",
    "    data = ds.covering_grid(level=amr_level, left_edge=(left_edge / length_unit), dims=[N]*3)\n"
   ]
  },
  {
   "cell_type": "code",
   "execution_count": 49,
   "id": "b4950c2c",
   "metadata": {},
   "outputs": [
    {
     "name": "stderr",
     "output_type": "stream",
     "text": [
      "yt : [WARNING  ] 2023-10-27 16:31:12,777 The DM particle filter already exists. Overriding.\n",
      "yt : [WARNING  ] 2023-10-27 16:31:12,778 The star particle filter already exists. Overriding.\n",
      "yt : [WARNING  ] 2023-10-27 16:31:12,778 The cloud particle filter already exists. Overriding.\n",
      "yt : [WARNING  ] 2023-10-27 16:31:12,779 The dust particle filter already exists. Overriding.\n",
      "yt : [WARNING  ] 2023-10-27 16:31:12,779 The star_tracer particle filter already exists. Overriding.\n",
      "yt : [WARNING  ] 2023-10-27 16:31:12,779 The cloud_tracer particle filter already exists. Overriding.\n",
      "yt : [WARNING  ] 2023-10-27 16:31:12,779 The dust_tracer particle filter already exists. Overriding.\n",
      "yt : [WARNING  ] 2023-10-27 16:31:12,780 The gas_tracer particle filter already exists. Overriding.\n",
      "yt : [INFO     ] 2023-10-27 16:31:12,780 Adding particle_type: DM\n",
      "yt : [INFO     ] 2023-10-27 16:31:12,790 Adding particle_type: star\n",
      "yt : [INFO     ] 2023-10-27 16:31:12,800 Adding particle_type: cloud\n",
      "yt : [INFO     ] 2023-10-27 16:31:12,809 Adding particle_type: dust\n",
      "yt : [INFO     ] 2023-10-27 16:31:12,819 Adding particle_type: star_tracer\n",
      "yt : [INFO     ] 2023-10-27 16:31:12,828 Adding particle_type: cloud_tracer\n",
      "yt : [INFO     ] 2023-10-27 16:31:12,838 Adding particle_type: dust_tracer\n",
      "yt : [INFO     ] 2023-10-27 16:31:12,848 Adding particle_type: gas_tracer\n"
     ]
    }
   ],
   "source": [
    "# read particle data from yt\n",
    "\n",
    "particle_type = data[\"io\", \"particle_family\"].value.astype(int)\n",
    "is_dm = particle_type == DM\n",
    "is_star = particle_type == STAR\n",
    "\n",
    "coord_dm = (np.array([data[\"io\", \"particle_position_x\"].value[is_dm], data[\"io\", \"particle_position_y\"].value[is_dm], data[\"io\", \"particle_position_z\"].value[is_dm]])) * length_unit - left_edge[:, None] - box_size / 2\n",
    "mass_dm = data[\"io\", \"particle_mass\"][is_dm] * mass_unit\n",
    "\n",
    "coord_star = (np.array([data[\"io\", \"particle_position_x\"].value[is_star], data[\"io\", \"particle_position_y\"].value[is_star], data[\"io\", \"particle_position_z\"].value[is_star]])) * length_unit - left_edge[:, None] - box_size / 2\n",
    "mass_star = data[\"io\", \"particle_mass\"][is_star] * mass_unit\n",
    "tau_starbirth = data[\"io\", \"conformal_birth_time\"][is_star].value\n"
   ]
  },
  {
   "cell_type": "code",
   "execution_count": 50,
   "id": "d331c9eb",
   "metadata": {},
   "outputs": [],
   "source": [
    "# read gas data from yt\n",
    "\n",
    "coord = (np.array([data[\"index\", \"x\"].value, data[\"index\", \"y\"].value, data[\"index\", \"z\"].value])) * length_unit - left_edge[:, None, None, None] - box_size / 2\n",
    "density = data[\"ramses\", \"Density\"].value * density_unit\n",
    "metallicity = data[\"ramses\", \"Metallicity\"].value \n",
    "pressure = data[\"ramses\", \"Pressure\"].value * energy_density_unit\n",
    "energy_turb = data[\"ramses\", \"hydro_scalar_01\"].value * vel_unit**2\n",
    "ref_crit = data[\"ramses\", \"hydro_scalar_02\"].value\n",
    "vel_vec = np.array([data[\"ramses\", \"x-velocity\"].value, data[\"ramses\", \"y-velocity\"].value, data[\"ramses\", \"z-velocity\"].value]) * vel_unit\n"
   ]
  },
  {
   "cell_type": "code",
   "execution_count": 51,
   "id": "8d13af37",
   "metadata": {},
   "outputs": [
    {
     "name": "stdout",
     "output_type": "stream",
     "text": [
      "filename: data_d8_l1_b2.npz\n"
     ]
    }
   ],
   "source": [
    "grid_name = \"data_d%d_l%d_b%d\" % (dump, lowres, int(box_size / const.kpc))\n",
    "print(\"filename: %s.npz\" % grid_name)\n"
   ]
  },
  {
   "cell_type": "code",
   "execution_count": 54,
   "id": "b02a8a69",
   "metadata": {},
   "outputs": [],
   "source": [
    "safe_savez(\n",
    "    grid_name,\n",
    "    halo_idx=halo.idx,\n",
    "    halo_mass=halo.mass,\n",
    "    a_exp=a_exp,\n",
    "    H0=H0,\n",
    "    Omega_m0=Omega_m0,\n",
    "    Omega_L0=Omega_L0,\n",
    "    Omega_k0=Omega_k0,\n",
    "    Omega_b0=Omega_b0,\n",
    "    length_unit=length_unit,\n",
    "    density_unit=density_unit,\n",
    "    time_unit=time_unit,\n",
    "    mass_unit=mass_unit,\n",
    "    vel_unit=vel_unit,\n",
    "    energy_unit=energy_unit,\n",
    "    energy_density_unit=energy_density_unit,\n",
    "    amr_level=amr_level,\n",
    "    box_size=box_size,\n",
    "    left_edge=left_edge,\n",
    "    N=N,\n",
    "    coord_dm=coord_dm,\n",
    "    mass_dm=mass_dm,\n",
    "    coord_star=coord_star,\n",
    "    mass_star=mass_star,\n",
    "    tau_starbirth=tau_starbirth,\n",
    "    coord=coord,\n",
    "    density=density,\n",
    "    metallicity=metallicity,\n",
    "    pressure=pressure,\n",
    "    energy_turb=energy_turb,\n",
    "    ref_crit=ref_crit,\n",
    "    vel_vec=vel_vec,\n",
    "    lowres=lowres\n",
    ")\n"
   ]
  },
  {
   "cell_type": "code",
   "execution_count": null,
   "id": "9e4d0345",
   "metadata": {},
   "outputs": [],
   "source": []
  },
  {
   "cell_type": "code",
   "execution_count": null,
   "id": "ac2c48a6",
   "metadata": {},
   "outputs": [],
   "source": []
  }
 ],
 "metadata": {
  "kernelspec": {
   "display_name": "Python 3 (ipykernel)",
   "language": "python",
   "name": "python3"
  },
  "language_info": {
   "codemirror_mode": {
    "name": "ipython",
    "version": 3
   },
   "file_extension": ".py",
   "mimetype": "text/x-python",
   "name": "python",
   "nbconvert_exporter": "python",
   "pygments_lexer": "ipython3",
   "version": "3.10.9"
  }
 },
 "nbformat": 4,
 "nbformat_minor": 5
}
