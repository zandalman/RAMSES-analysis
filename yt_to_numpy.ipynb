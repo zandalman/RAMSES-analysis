{
 "cells": [
  {
   "cell_type": "code",
   "execution_count": 1,
   "id": "aeb42dc8",
   "metadata": {},
   "outputs": [],
   "source": [
    "%load_ext autoreload\n",
    "%autoreload 2\n"
   ]
  },
  {
   "cell_type": "code",
   "execution_count": 2,
   "id": "e33418c3",
   "metadata": {},
   "outputs": [],
   "source": [
    "import yt\n",
    "\n",
    "from modules import *\n",
    "from sim import *\n",
    "from read_ramses import *\n"
   ]
  },
  {
   "cell_type": "code",
   "execution_count": 3,
   "id": "d4bb0061",
   "metadata": {},
   "outputs": [
    {
     "name": "stdout",
     "output_type": "stream",
     "text": [
      "Moving to directory '/home/za9132/scratch/romain/round3/alpha_eps0p1'.\n",
      "\n",
      "Dump: 24\n",
      "a_exp: 0.0853\n",
      "Maximum AMR level: 13\n"
     ]
    }
   ],
   "source": [
    "# choose simulation\n",
    "sim_round = 3\n",
    "sim_name = \"alpha_eps0p1\"\n",
    "sim_dir = move_to_sim_dir(sim_round, sim_name)\n",
    "print()\n",
    "\n",
    "dump = get_dump(a_exp=0.1)\n",
    "info = get_info(dump)\n",
    "\n",
    "print(\"Dump: %d\" % dump)\n",
    "print(\"a_exp: %.3g\" % info.a_exp)\n",
    "print(\"Maximum AMR level: %d\" % info.amr_level_max)\n"
   ]
  },
  {
   "cell_type": "code",
   "execution_count": 9,
   "id": "3da49bf4",
   "metadata": {},
   "outputs": [
    {
     "name": "stdout",
     "output_type": "stream",
     "text": [
      "Halo coords: (0.50923, 0.51092, 0.49442)\n"
     ]
    }
   ],
   "source": [
    "use_cubic = False\n",
    "\n",
    "halo_cat = get_halo_cat(dump, cgs=True)\n",
    "biggest_halo_idx = np.argmax(halo_cat.mass)\n",
    "\n",
    "if use_cubic:\n",
    "    cubic = lambda x, a, b, c, d: a + b*x + c*x**2 + d*x**3\n",
    "    poptx = [0.50685686, -0.085267235, 1.9921783, -7.7235762]\n",
    "    popty = [0.5065317, -0.049495054, 1.6965165, -5.8186623]\n",
    "    poptz = [0.49536868, 0.093198848, -1.6449332, 4.735689]\n",
    "    halo_cat.coord[:, biggest_halo_idx] = np.array([cubic(info.a_exp, *poptx), cubic(info.a_exp, *popty), cubic(info.a_exp, *poptz)]) * info.length_unit\n",
    "    \n",
    "print(\"Halo coords: (%.5g, %.5g, %.5g)\" % tuple(halo_cat.coord[:, biggest_halo_idx] / info.length_unit))\n"
   ]
  },
  {
   "cell_type": "code",
   "execution_count": 17,
   "id": "764b49c5",
   "metadata": {},
   "outputs": [
    {
     "name": "stderr",
     "output_type": "stream",
     "text": [
      "yt : [INFO     ] 2023-11-07 17:55:37,045 Parameters: current_time              = 4.36876581446262\n",
      "yt : [INFO     ] 2023-11-07 17:55:37,047 Parameters: domain_dimensions         = [128 128 128]\n",
      "yt : [INFO     ] 2023-11-07 17:55:37,048 Parameters: domain_left_edge          = [0. 0. 0.]\n",
      "yt : [INFO     ] 2023-11-07 17:55:37,048 Parameters: domain_right_edge         = [1. 1. 1.]\n",
      "yt : [INFO     ] 2023-11-07 17:55:37,049 Parameters: cosmological_simulation   = 1\n",
      "yt : [INFO     ] 2023-11-07 17:55:37,049 Parameters: current_redshift          = 10.890332956232143\n",
      "yt : [INFO     ] 2023-11-07 17:55:37,050 Parameters: omega_lambda              = 0.723999977111816\n",
      "yt : [INFO     ] 2023-11-07 17:55:37,050 Parameters: omega_matter              = 0.275999993085861\n",
      "yt : [INFO     ] 2023-11-07 17:55:37,050 Parameters: omega_radiation           = 0.0\n",
      "yt : [INFO     ] 2023-11-07 17:55:37,051 Parameters: hubble_constant           = 0.703000030517578\n"
     ]
    }
   ],
   "source": [
    "info_file = os.path.join(\"output_%.5d\" % dump, \"info_%.5d.txt\" % dump)\n",
    "ds = yt.load(info_file)\n"
   ]
  },
  {
   "cell_type": "code",
   "execution_count": 19,
   "id": "4322cd5b",
   "metadata": {},
   "outputs": [
    {
     "name": "stdout",
     "output_type": "stream",
     "text": [
      "Grid size: 219\n",
      "Lowres factor: 8\n"
     ]
    }
   ],
   "source": [
    "# define size and resolution of the region of interest\n",
    "\n",
    "# small grid\n",
    "#amr_level = 13\n",
    "#box_size = 2 * const.kpc\n",
    "\n",
    "# medium grid\n",
    "amr_level = 10\n",
    "box_size = 20 * const.kpc\n",
    "\n",
    "# large grid\n",
    "#amr_level = 7\n",
    "#box_size = 100 * const.kpc\n",
    "\n",
    "left_edge = halo_cat.coord[:, biggest_halo_idx] - box_size / 2\n",
    "N = int(box_size / info.length_unit * ds.domain_dimensions[0] * 2**amr_level)\n",
    "lowres = 2**(info.amr_level_max - amr_level)\n",
    "\n",
    "print(\"Grid size: %d\" % N)\n",
    "print(\"Lowres factor: %d\" % lowres)\n"
   ]
  },
  {
   "cell_type": "code",
   "execution_count": 20,
   "id": "1c5ff4f1",
   "metadata": {},
   "outputs": [],
   "source": [
    "# get raw yt data from the region of interest\n",
    "\n",
    "smooth_grid = True\n",
    "\n",
    "if smooth_grid:\n",
    "    data = ds.smoothed_covering_grid(level=amr_level, left_edge=(left_edge / info.length_unit), dims=[N]*3)\n",
    "else:\n",
    "    data = ds.covering_grid(level=amr_level, left_edge=(left_edge / info.length_unit), dims=[N]*3)\n"
   ]
  },
  {
   "cell_type": "code",
   "execution_count": 270,
   "id": "b4950c2c",
   "metadata": {},
   "outputs": [
    {
     "ename": "KeyboardInterrupt",
     "evalue": "",
     "output_type": "error",
     "traceback": [
      "\u001b[0;31m---------------------------------------------------------------------------\u001b[0m",
      "\u001b[0;31mKeyboardInterrupt\u001b[0m                         Traceback (most recent call last)",
      "Cell \u001b[0;32mIn[270], line 3\u001b[0m\n\u001b[1;32m      1\u001b[0m \u001b[38;5;66;03m# read particle data from yt\u001b[39;00m\n\u001b[0;32m----> 3\u001b[0m particle_type \u001b[38;5;241m=\u001b[39m \u001b[43mdata\u001b[49m\u001b[43m[\u001b[49m\u001b[38;5;124;43m\"\u001b[39;49m\u001b[38;5;124;43mio\u001b[39;49m\u001b[38;5;124;43m\"\u001b[39;49m\u001b[43m,\u001b[49m\u001b[43m \u001b[49m\u001b[38;5;124;43m\"\u001b[39;49m\u001b[38;5;124;43mparticle_family\u001b[39;49m\u001b[38;5;124;43m\"\u001b[39;49m\u001b[43m]\u001b[49m\u001b[38;5;241m.\u001b[39mvalue\u001b[38;5;241m.\u001b[39mastype(\u001b[38;5;28mint\u001b[39m)\n\u001b[1;32m      4\u001b[0m is_dm \u001b[38;5;241m=\u001b[39m particle_type \u001b[38;5;241m==\u001b[39m DM\n\u001b[1;32m      5\u001b[0m is_star \u001b[38;5;241m=\u001b[39m particle_type \u001b[38;5;241m==\u001b[39m STAR\n",
      "File \u001b[0;32m~/.local/lib/python3.10/site-packages/yt/data_objects/data_containers.py:229\u001b[0m, in \u001b[0;36mYTDataContainer.__getitem__\u001b[0;34m(self, key)\u001b[0m\n\u001b[1;32m    225\u001b[0m \u001b[38;5;28;01mdef\u001b[39;00m \u001b[38;5;21m__getitem__\u001b[39m(\u001b[38;5;28mself\u001b[39m, key):\n\u001b[1;32m    226\u001b[0m     \u001b[38;5;124;03m\"\"\"\u001b[39;00m\n\u001b[1;32m    227\u001b[0m \u001b[38;5;124;03m    Returns a single field.  Will add if necessary.\u001b[39;00m\n\u001b[1;32m    228\u001b[0m \u001b[38;5;124;03m    \"\"\"\u001b[39;00m\n\u001b[0;32m--> 229\u001b[0m     f \u001b[38;5;241m=\u001b[39m \u001b[38;5;28;43mself\u001b[39;49m\u001b[38;5;241;43m.\u001b[39;49m\u001b[43m_determine_fields\u001b[49m\u001b[43m(\u001b[49m\u001b[43m[\u001b[49m\u001b[43mkey\u001b[49m\u001b[43m]\u001b[49m\u001b[43m)\u001b[49m[\u001b[38;5;241m0\u001b[39m]\n\u001b[1;32m    230\u001b[0m     \u001b[38;5;28;01mif\u001b[39;00m f \u001b[38;5;129;01mnot\u001b[39;00m \u001b[38;5;129;01min\u001b[39;00m \u001b[38;5;28mself\u001b[39m\u001b[38;5;241m.\u001b[39mfield_data \u001b[38;5;129;01mand\u001b[39;00m key \u001b[38;5;129;01mnot\u001b[39;00m \u001b[38;5;129;01min\u001b[39;00m \u001b[38;5;28mself\u001b[39m\u001b[38;5;241m.\u001b[39mfield_data:\n\u001b[1;32m    231\u001b[0m         \u001b[38;5;28;01mif\u001b[39;00m f \u001b[38;5;129;01min\u001b[39;00m \u001b[38;5;28mself\u001b[39m\u001b[38;5;241m.\u001b[39m_container_fields:\n",
      "File \u001b[0;32m~/.local/lib/python3.10/site-packages/yt/data_objects/data_containers.py:1465\u001b[0m, in \u001b[0;36mYTDataContainer._determine_fields\u001b[0;34m(self, fields)\u001b[0m\n\u001b[1;32m   1462\u001b[0m     explicit_fields\u001b[38;5;241m.\u001b[39mappend(field)\n\u001b[1;32m   1463\u001b[0m     \u001b[38;5;28;01mcontinue\u001b[39;00m\n\u001b[0;32m-> 1465\u001b[0m finfo \u001b[38;5;241m=\u001b[39m \u001b[38;5;28;43mself\u001b[39;49m\u001b[38;5;241;43m.\u001b[39;49m\u001b[43mds\u001b[49m\u001b[38;5;241;43m.\u001b[39;49m\u001b[43m_get_field_info\u001b[49m\u001b[43m(\u001b[49m\u001b[43mfield\u001b[49m\u001b[43m)\u001b[49m\n\u001b[1;32m   1466\u001b[0m ftype, fname \u001b[38;5;241m=\u001b[39m finfo\u001b[38;5;241m.\u001b[39mname\n\u001b[1;32m   1467\u001b[0m \u001b[38;5;66;03m# really ugly check to ensure that this field really does exist somewhere,\u001b[39;00m\n\u001b[1;32m   1468\u001b[0m \u001b[38;5;66;03m# in some naming convention, before returning it as a possible field type\u001b[39;00m\n",
      "File \u001b[0;32m~/.local/lib/python3.10/site-packages/yt/data_objects/static_output.py:968\u001b[0m, in \u001b[0;36mDataset._get_field_info\u001b[0;34m(self, field)\u001b[0m\n\u001b[1;32m    963\u001b[0m \u001b[38;5;28;01mdef\u001b[39;00m \u001b[38;5;21m_get_field_info\u001b[39m(\n\u001b[1;32m    964\u001b[0m     \u001b[38;5;28mself\u001b[39m,\n\u001b[1;32m    965\u001b[0m     field: Union[FieldKey, ImplicitFieldKey, DerivedField],\n\u001b[1;32m    966\u001b[0m     \u001b[38;5;241m/\u001b[39m,\n\u001b[1;32m    967\u001b[0m ) \u001b[38;5;241m-\u001b[39m\u001b[38;5;241m>\u001b[39m DerivedField:\n\u001b[0;32m--> 968\u001b[0m     field_info, candidates \u001b[38;5;241m=\u001b[39m \u001b[38;5;28;43mself\u001b[39;49m\u001b[38;5;241;43m.\u001b[39;49m\u001b[43m_get_field_info_helper\u001b[49m\u001b[43m(\u001b[49m\u001b[43mfield\u001b[49m\u001b[43m)\u001b[49m\n\u001b[1;32m    970\u001b[0m     \u001b[38;5;28;01mif\u001b[39;00m field_info\u001b[38;5;241m.\u001b[39mname[\u001b[38;5;241m1\u001b[39m] \u001b[38;5;129;01min\u001b[39;00m (\u001b[38;5;124m\"\u001b[39m\u001b[38;5;124mpx\u001b[39m\u001b[38;5;124m\"\u001b[39m, \u001b[38;5;124m\"\u001b[39m\u001b[38;5;124mpy\u001b[39m\u001b[38;5;124m\"\u001b[39m, \u001b[38;5;124m\"\u001b[39m\u001b[38;5;124mpz\u001b[39m\u001b[38;5;124m\"\u001b[39m, \u001b[38;5;124m\"\u001b[39m\u001b[38;5;124mpdx\u001b[39m\u001b[38;5;124m\"\u001b[39m, \u001b[38;5;124m\"\u001b[39m\u001b[38;5;124mpdy\u001b[39m\u001b[38;5;124m\"\u001b[39m, \u001b[38;5;124m\"\u001b[39m\u001b[38;5;124mpdz\u001b[39m\u001b[38;5;124m\"\u001b[39m):\n\u001b[1;32m    971\u001b[0m         \u001b[38;5;66;03m# escape early as a bandaid solution to\u001b[39;00m\n\u001b[1;32m    972\u001b[0m         \u001b[38;5;66;03m# https://github.com/yt-project/yt/issues/3381\u001b[39;00m\n\u001b[1;32m    973\u001b[0m         \u001b[38;5;28;01mreturn\u001b[39;00m field_info\n",
      "File \u001b[0;32m~/.local/lib/python3.10/site-packages/yt/data_objects/static_output.py:1029\u001b[0m, in \u001b[0;36mDataset._get_field_info_helper\u001b[0;34m(self, field)\u001b[0m\n\u001b[1;32m   1024\u001b[0m \u001b[38;5;28;01mdef\u001b[39;00m \u001b[38;5;21m_get_field_info_helper\u001b[39m(\n\u001b[1;32m   1025\u001b[0m     \u001b[38;5;28mself\u001b[39m,\n\u001b[1;32m   1026\u001b[0m     field: Union[FieldKey, ImplicitFieldKey, DerivedField],\n\u001b[1;32m   1027\u001b[0m     \u001b[38;5;241m/\u001b[39m,\n\u001b[1;32m   1028\u001b[0m ) \u001b[38;5;241m-\u001b[39m\u001b[38;5;241m>\u001b[39m Tuple[DerivedField, List[FieldKey]]:\n\u001b[0;32m-> 1029\u001b[0m     \u001b[38;5;28;43mself\u001b[39;49m\u001b[38;5;241;43m.\u001b[39;49m\u001b[43mindex\u001b[49m\n\u001b[1;32m   1031\u001b[0m     ftype: \u001b[38;5;28mstr\u001b[39m\n\u001b[1;32m   1032\u001b[0m     fname: \u001b[38;5;28mstr\u001b[39m\n",
      "File \u001b[0;32m~/.local/lib/python3.10/site-packages/yt/data_objects/static_output.py:615\u001b[0m, in \u001b[0;36mDataset.index\u001b[0;34m(self)\u001b[0m\n\u001b[1;32m    612\u001b[0m \u001b[38;5;129m@property\u001b[39m\n\u001b[1;32m    613\u001b[0m \u001b[38;5;28;01mdef\u001b[39;00m \u001b[38;5;21mindex\u001b[39m(\u001b[38;5;28mself\u001b[39m):\n\u001b[1;32m    614\u001b[0m     \u001b[38;5;28;01mif\u001b[39;00m \u001b[38;5;28mself\u001b[39m\u001b[38;5;241m.\u001b[39m_instantiated_index \u001b[38;5;129;01mis\u001b[39;00m \u001b[38;5;28;01mNone\u001b[39;00m:\n\u001b[0;32m--> 615\u001b[0m         \u001b[38;5;28mself\u001b[39m\u001b[38;5;241m.\u001b[39m_instantiated_index \u001b[38;5;241m=\u001b[39m \u001b[38;5;28;43mself\u001b[39;49m\u001b[38;5;241;43m.\u001b[39;49m\u001b[43m_index_class\u001b[49m\u001b[43m(\u001b[49m\n\u001b[1;32m    616\u001b[0m \u001b[43m            \u001b[49m\u001b[38;5;28;43mself\u001b[39;49m\u001b[43m,\u001b[49m\u001b[43m \u001b[49m\u001b[43mdataset_type\u001b[49m\u001b[38;5;241;43m=\u001b[39;49m\u001b[38;5;28;43mself\u001b[39;49m\u001b[38;5;241;43m.\u001b[39;49m\u001b[43mdataset_type\u001b[49m\n\u001b[1;32m    617\u001b[0m \u001b[43m        \u001b[49m\u001b[43m)\u001b[49m\n\u001b[1;32m    618\u001b[0m         \u001b[38;5;66;03m# Now we do things that we need an instantiated index for\u001b[39;00m\n\u001b[1;32m    619\u001b[0m         \u001b[38;5;66;03m# ...first off, we create our field_info now.\u001b[39;00m\n\u001b[1;32m    620\u001b[0m         oldsettings \u001b[38;5;241m=\u001b[39m np\u001b[38;5;241m.\u001b[39mgeterr()\n",
      "File \u001b[0;32m~/.local/lib/python3.10/site-packages/yt/frontends/ramses/data_structures.py:545\u001b[0m, in \u001b[0;36mRAMSESIndex.__init__\u001b[0;34m(self, ds, dataset_type)\u001b[0m\n\u001b[1;32m    542\u001b[0m \u001b[38;5;28mself\u001b[39m\u001b[38;5;241m.\u001b[39mmax_level \u001b[38;5;241m=\u001b[39m \u001b[38;5;28;01mNone\u001b[39;00m\n\u001b[1;32m    544\u001b[0m \u001b[38;5;28mself\u001b[39m\u001b[38;5;241m.\u001b[39mfloat_type \u001b[38;5;241m=\u001b[39m np\u001b[38;5;241m.\u001b[39mfloat64\n\u001b[0;32m--> 545\u001b[0m \u001b[38;5;28;43msuper\u001b[39;49m\u001b[43m(\u001b[49m\u001b[43m)\u001b[49m\u001b[38;5;241;43m.\u001b[39;49m\u001b[38;5;21;43m__init__\u001b[39;49m\u001b[43m(\u001b[49m\u001b[43mds\u001b[49m\u001b[43m,\u001b[49m\u001b[43m \u001b[49m\u001b[43mdataset_type\u001b[49m\u001b[43m)\u001b[49m\n",
      "File \u001b[0;32m~/.local/lib/python3.10/site-packages/yt/geometry/geometry_handler.py:39\u001b[0m, in \u001b[0;36mIndex.__init__\u001b[0;34m(self, ds, dataset_type)\u001b[0m\n\u001b[1;32m     36\u001b[0m \u001b[38;5;28mself\u001b[39m\u001b[38;5;241m.\u001b[39m_initialize_data_storage()\n\u001b[1;32m     38\u001b[0m mylog\u001b[38;5;241m.\u001b[39mdebug(\u001b[38;5;124m\"\u001b[39m\u001b[38;5;124mSetting up domain geometry.\u001b[39m\u001b[38;5;124m\"\u001b[39m)\n\u001b[0;32m---> 39\u001b[0m \u001b[38;5;28;43mself\u001b[39;49m\u001b[38;5;241;43m.\u001b[39;49m\u001b[43m_setup_geometry\u001b[49m\u001b[43m(\u001b[49m\u001b[43m)\u001b[49m\n\u001b[1;32m     41\u001b[0m mylog\u001b[38;5;241m.\u001b[39mdebug(\u001b[38;5;124m\"\u001b[39m\u001b[38;5;124mInitializing data grid data IO\u001b[39m\u001b[38;5;124m\"\u001b[39m)\n\u001b[1;32m     42\u001b[0m \u001b[38;5;28mself\u001b[39m\u001b[38;5;241m.\u001b[39m_setup_data_io()\n",
      "File \u001b[0;32m~/.local/lib/python3.10/site-packages/yt/geometry/oct_geometry_handler.py:15\u001b[0m, in \u001b[0;36mOctreeIndex._setup_geometry\u001b[0;34m(self)\u001b[0m\n\u001b[1;32m     13\u001b[0m \u001b[38;5;28;01mdef\u001b[39;00m \u001b[38;5;21m_setup_geometry\u001b[39m(\u001b[38;5;28mself\u001b[39m):\n\u001b[1;32m     14\u001b[0m     mylog\u001b[38;5;241m.\u001b[39mdebug(\u001b[38;5;124m\"\u001b[39m\u001b[38;5;124mInitializing Octree Geometry Handler.\u001b[39m\u001b[38;5;124m\"\u001b[39m)\n\u001b[0;32m---> 15\u001b[0m     \u001b[38;5;28;43mself\u001b[39;49m\u001b[38;5;241;43m.\u001b[39;49m\u001b[43m_initialize_oct_handler\u001b[49m\u001b[43m(\u001b[49m\u001b[43m)\u001b[49m\n",
      "File \u001b[0;32m~/.local/lib/python3.10/site-packages/yt/frontends/ramses/data_structures.py:553\u001b[0m, in \u001b[0;36mRAMSESIndex._initialize_oct_handler\u001b[0;34m(self)\u001b[0m\n\u001b[1;32m    550\u001b[0m \u001b[38;5;28;01melse\u001b[39;00m:\n\u001b[1;32m    551\u001b[0m     cpu_list \u001b[38;5;241m=\u001b[39m \u001b[38;5;28mrange\u001b[39m(\u001b[38;5;28mself\u001b[39m\u001b[38;5;241m.\u001b[39mdataset[\u001b[38;5;124m\"\u001b[39m\u001b[38;5;124mncpu\u001b[39m\u001b[38;5;124m\"\u001b[39m])\n\u001b[0;32m--> 553\u001b[0m \u001b[38;5;28mself\u001b[39m\u001b[38;5;241m.\u001b[39mdomains \u001b[38;5;241m=\u001b[39m [RAMSESDomainFile(\u001b[38;5;28mself\u001b[39m\u001b[38;5;241m.\u001b[39mdataset, i \u001b[38;5;241m+\u001b[39m \u001b[38;5;241m1\u001b[39m) \u001b[38;5;28;01mfor\u001b[39;00m i \u001b[38;5;129;01min\u001b[39;00m cpu_list]\n\u001b[1;32m    554\u001b[0m total_octs \u001b[38;5;241m=\u001b[39m \u001b[38;5;28msum\u001b[39m(\n\u001b[1;32m    555\u001b[0m     dom\u001b[38;5;241m.\u001b[39mlocal_oct_count \u001b[38;5;28;01mfor\u001b[39;00m dom \u001b[38;5;129;01min\u001b[39;00m \u001b[38;5;28mself\u001b[39m\u001b[38;5;241m.\u001b[39mdomains  \u001b[38;5;66;03m# + dom.ngridbound.sum()\u001b[39;00m\n\u001b[1;32m    556\u001b[0m )\n\u001b[1;32m    557\u001b[0m force_max_level, convention \u001b[38;5;241m=\u001b[39m \u001b[38;5;28mself\u001b[39m\u001b[38;5;241m.\u001b[39mds\u001b[38;5;241m.\u001b[39m_force_max_level\n",
      "File \u001b[0;32m~/.local/lib/python3.10/site-packages/yt/frontends/ramses/data_structures.py:553\u001b[0m, in \u001b[0;36m<listcomp>\u001b[0;34m(.0)\u001b[0m\n\u001b[1;32m    550\u001b[0m \u001b[38;5;28;01melse\u001b[39;00m:\n\u001b[1;32m    551\u001b[0m     cpu_list \u001b[38;5;241m=\u001b[39m \u001b[38;5;28mrange\u001b[39m(\u001b[38;5;28mself\u001b[39m\u001b[38;5;241m.\u001b[39mdataset[\u001b[38;5;124m\"\u001b[39m\u001b[38;5;124mncpu\u001b[39m\u001b[38;5;124m\"\u001b[39m])\n\u001b[0;32m--> 553\u001b[0m \u001b[38;5;28mself\u001b[39m\u001b[38;5;241m.\u001b[39mdomains \u001b[38;5;241m=\u001b[39m [\u001b[43mRAMSESDomainFile\u001b[49m\u001b[43m(\u001b[49m\u001b[38;5;28;43mself\u001b[39;49m\u001b[38;5;241;43m.\u001b[39;49m\u001b[43mdataset\u001b[49m\u001b[43m,\u001b[49m\u001b[43m \u001b[49m\u001b[43mi\u001b[49m\u001b[43m \u001b[49m\u001b[38;5;241;43m+\u001b[39;49m\u001b[43m \u001b[49m\u001b[38;5;241;43m1\u001b[39;49m\u001b[43m)\u001b[49m \u001b[38;5;28;01mfor\u001b[39;00m i \u001b[38;5;129;01min\u001b[39;00m cpu_list]\n\u001b[1;32m    554\u001b[0m total_octs \u001b[38;5;241m=\u001b[39m \u001b[38;5;28msum\u001b[39m(\n\u001b[1;32m    555\u001b[0m     dom\u001b[38;5;241m.\u001b[39mlocal_oct_count \u001b[38;5;28;01mfor\u001b[39;00m dom \u001b[38;5;129;01min\u001b[39;00m \u001b[38;5;28mself\u001b[39m\u001b[38;5;241m.\u001b[39mdomains  \u001b[38;5;66;03m# + dom.ngridbound.sum()\u001b[39;00m\n\u001b[1;32m    556\u001b[0m )\n\u001b[1;32m    557\u001b[0m force_max_level, convention \u001b[38;5;241m=\u001b[39m \u001b[38;5;28mself\u001b[39m\u001b[38;5;241m.\u001b[39mds\u001b[38;5;241m.\u001b[39m_force_max_level\n",
      "File \u001b[0;32m~/.local/lib/python3.10/site-packages/yt/frontends/ramses/data_structures.py:200\u001b[0m, in \u001b[0;36mRAMSESDomainFile.__init__\u001b[0;34m(self, ds, domain_id)\u001b[0m\n\u001b[1;32m    198\u001b[0m     \u001b[38;5;28msetattr\u001b[39m(\u001b[38;5;28mself\u001b[39m, \u001b[38;5;124mf\u001b[39m\u001b[38;5;124m\"\u001b[39m\u001b[38;5;132;01m{\u001b[39;00mt\u001b[38;5;132;01m}\u001b[39;00m\u001b[38;5;124m_fn\u001b[39m\u001b[38;5;124m\"\u001b[39m, basename \u001b[38;5;241m%\u001b[39m t)\n\u001b[1;32m    199\u001b[0m \u001b[38;5;28mself\u001b[39m\u001b[38;5;241m.\u001b[39m_part_file_descriptor \u001b[38;5;241m=\u001b[39m part_file_descriptor\n\u001b[0;32m--> 200\u001b[0m \u001b[38;5;28;43mself\u001b[39;49m\u001b[38;5;241;43m.\u001b[39;49m\u001b[43m_read_amr_header\u001b[49m\u001b[43m(\u001b[49m\u001b[43m)\u001b[49m\n\u001b[1;32m    202\u001b[0m \u001b[38;5;66;03m# Autodetect field files\u001b[39;00m\n\u001b[1;32m    203\u001b[0m field_handlers \u001b[38;5;241m=\u001b[39m [FH(\u001b[38;5;28mself\u001b[39m) \u001b[38;5;28;01mfor\u001b[39;00m FH \u001b[38;5;129;01min\u001b[39;00m get_field_handlers() \u001b[38;5;28;01mif\u001b[39;00m FH\u001b[38;5;241m.\u001b[39many_exist(ds)]\n",
      "File \u001b[0;32m~/.local/lib/python3.10/site-packages/yt/frontends/ramses/data_structures.py:259\u001b[0m, in \u001b[0;36mRAMSESDomainFile._read_amr_header\u001b[0;34m(self)\u001b[0m\n\u001b[1;32m    256\u001b[0m f\u001b[38;5;241m.\u001b[39mseek(\u001b[38;5;241m0\u001b[39m)\n\u001b[1;32m    258\u001b[0m \u001b[38;5;28;01mfor\u001b[39;00m header \u001b[38;5;129;01min\u001b[39;00m ramses_header(hvals):\n\u001b[0;32m--> 259\u001b[0m     hvals\u001b[38;5;241m.\u001b[39mupdate(\u001b[43mf\u001b[49m\u001b[38;5;241;43m.\u001b[39;49m\u001b[43mread_attrs\u001b[49m\u001b[43m(\u001b[49m\u001b[43mheader\u001b[49m\u001b[43m)\u001b[49m)\n\u001b[1;32m    260\u001b[0m \u001b[38;5;66;03m# For speedup, skip reading of 'headl' and 'taill'\u001b[39;00m\n\u001b[1;32m    261\u001b[0m f\u001b[38;5;241m.\u001b[39mskip(\u001b[38;5;241m2\u001b[39m)\n",
      "\u001b[0;31mKeyboardInterrupt\u001b[0m: "
     ]
    }
   ],
   "source": [
    "# read particle data from yt\n",
    "\n",
    "particle_type = data[\"io\", \"particle_family\"].value.astype(int)\n",
    "is_dm = particle_type == DM\n",
    "is_star = particle_type == STAR\n",
    "\n",
    "coord_dm = (np.array([data[\"io\", \"particle_position_x\"].value[is_dm], data[\"io\", \"particle_position_y\"].value[is_dm], data[\"io\", \"particle_position_z\"].value[is_dm]])) * info.length_unit - left_edge[:, None] - box_size / 2\n",
    "mass_dm = data[\"io\", \"particle_mass\"][is_dm] * info.mass_unit\n",
    "\n",
    "coord_star = (np.array([data[\"io\", \"particle_position_x\"].value[is_star], data[\"io\", \"particle_position_y\"].value[is_star], data[\"io\", \"particle_position_z\"].value[is_star]])) * info.length_unit - left_edge[:, None] - box_size / 2\n",
    "mass_star = data[\"io\", \"particle_mass\"][is_star] * info.mass_unit\n",
    "tau_starbirth = data[\"io\", \"conformal_birth_time\"][is_star].value\n"
   ]
  },
  {
   "cell_type": "code",
   "execution_count": 320,
   "id": "999540b4",
   "metadata": {},
   "outputs": [
    {
     "name": "stderr",
     "output_type": "stream",
     "text": [
      "yt : [WARNING  ] 2023-11-03 16:41:48,116 The DM particle filter already exists. Overriding.\n",
      "yt : [WARNING  ] 2023-11-03 16:41:48,118 The star particle filter already exists. Overriding.\n",
      "yt : [WARNING  ] 2023-11-03 16:41:48,118 The cloud particle filter already exists. Overriding.\n",
      "yt : [WARNING  ] 2023-11-03 16:41:48,118 The dust particle filter already exists. Overriding.\n",
      "yt : [WARNING  ] 2023-11-03 16:41:48,118 The star_tracer particle filter already exists. Overriding.\n",
      "yt : [WARNING  ] 2023-11-03 16:41:48,119 The cloud_tracer particle filter already exists. Overriding.\n",
      "yt : [WARNING  ] 2023-11-03 16:41:48,119 The dust_tracer particle filter already exists. Overriding.\n",
      "yt : [WARNING  ] 2023-11-03 16:41:48,119 The gas_tracer particle filter already exists. Overriding.\n",
      "yt : [INFO     ] 2023-11-03 16:41:48,119 Adding particle_type: DM\n",
      "yt : [INFO     ] 2023-11-03 16:41:48,130 Adding particle_type: star\n",
      "yt : [INFO     ] 2023-11-03 16:41:48,140 Adding particle_type: cloud\n",
      "yt : [INFO     ] 2023-11-03 16:41:48,150 Adding particle_type: dust\n",
      "yt : [INFO     ] 2023-11-03 16:41:48,160 Adding particle_type: star_tracer\n",
      "yt : [INFO     ] 2023-11-03 16:41:48,170 Adding particle_type: cloud_tracer\n",
      "yt : [INFO     ] 2023-11-03 16:41:48,180 Adding particle_type: dust_tracer\n",
      "yt : [INFO     ] 2023-11-03 16:41:48,190 Adding particle_type: gas_tracer\n"
     ]
    }
   ],
   "source": [
    "coord = (np.array([data[\"index\", \"x\"].value, data[\"index\", \"y\"].value, data[\"index\", \"z\"].value])) * info.length_unit - left_edge[:, None, None, None] - box_size / 2\n",
    "density = data[\"ramses\", \"Density\"].value * info.density_unit\n"
   ]
  },
  {
   "cell_type": "code",
   "execution_count": 314,
   "id": "d331c9eb",
   "metadata": {},
   "outputs": [
    {
     "name": "stderr",
     "output_type": "stream",
     "text": [
      "\n",
      "KeyboardInterrupt\n",
      "\n"
     ]
    }
   ],
   "source": [
    "# read gas data from yt\n",
    "\n",
    "coord = (np.array([data[\"index\", \"x\"].value, data[\"index\", \"y\"].value, data[\"index\", \"z\"].value])) * info.length_unit - left_edge[:, None, None, None] - box_size / 2\n",
    "density = data[\"ramses\", \"Density\"].value * info.density_unit\n",
    "metallicity = data[\"ramses\", \"Metallicity\"].value \n",
    "pressure = data[\"ramses\", \"Pressure\"].value * info.energy_density_unit\n",
    "energy_turb = data[\"ramses\", \"hydro_scalar_01\"].value * info.vel_unit**2\n",
    "ref_crit = data[\"ramses\", \"hydro_scalar_02\"].value\n",
    "vel_vec = np.array([data[\"ramses\", \"x-velocity\"].value, data[\"ramses\", \"y-velocity\"].value, data[\"ramses\", \"z-velocity\"].value]) * info.vel_unit\n"
   ]
  },
  {
   "cell_type": "code",
   "execution_count": 238,
   "id": "85372756",
   "metadata": {},
   "outputs": [],
   "source": [
    "# mass_sflog, coord_sflog, density_sflog, pressure_sflog, metallicity_sflog, energy_turb_sflog, tag_sflog = read_SF_log(sim_dir, dump, length_unit, density_unit, time_unit, left_edge, box_size)\n"
   ]
  },
  {
   "cell_type": "code",
   "execution_count": 321,
   "id": "8d13af37",
   "metadata": {},
   "outputs": [
    {
     "name": "stdout",
     "output_type": "stream",
     "text": [
      "filename: data_d35_l8_b20.npz\n"
     ]
    }
   ],
   "source": [
    "grid_name = \"data_d%d_l%d_b%d\" % (dump, lowres, int(box_size / const.kpc))\n",
    "print(\"filename: %s.npz\" % grid_name)"
   ]
  },
  {
   "cell_type": "code",
   "execution_count": 130,
   "id": "b02a8a69",
   "metadata": {},
   "outputs": [],
   "source": [
    "safe_savez(\n",
    "    grid_name,\n",
    "    halo_idx=halo_cat.idx[biggest_halo_idx],\n",
    "    halo_mass=halo_cat.mass[biggest_halo_idx],\n",
    "    box_size=box_size,\n",
    "    left_edge=left_edge,\n",
    "    N=N,\n",
    "    coord_dm=coord_dm,\n",
    "    mass_dm=mass_dm,\n",
    "    coord_star=coord_star,\n",
    "    mass_star=mass_star,\n",
    "    tau_starbirth=tau_starbirth,\n",
    "    coord=coord,\n",
    "    density=density,\n",
    "    metallicity=metallicity,\n",
    "    pressure=pressure,\n",
    "    energy_turb=energy_turb,\n",
    "    ref_crit=ref_crit,\n",
    "    vel_vec=vel_vec,\n",
    "    lowres=lowres,\n",
    "    **info.__dict__\n",
    ")\n"
   ]
  },
  {
   "cell_type": "code",
   "execution_count": null,
   "id": "6f3802a0",
   "metadata": {},
   "outputs": [],
   "source": [
    "\n"
   ]
  }
 ],
 "metadata": {
  "kernelspec": {
   "display_name": "Python 3 (ipykernel)",
   "language": "python",
   "name": "python3"
  },
  "language_info": {
   "codemirror_mode": {
    "name": "ipython",
    "version": 3
   },
   "file_extension": ".py",
   "mimetype": "text/x-python",
   "name": "python",
   "nbconvert_exporter": "python",
   "pygments_lexer": "ipython3",
   "version": "3.10.9"
  }
 },
 "nbformat": 4,
 "nbformat_minor": 5
}
