{
 "cells": [
  {
   "cell_type": "code",
   "execution_count": 1,
   "id": "74f0c1d3",
   "metadata": {},
   "outputs": [],
   "source": [
    "import ffmpeg\n",
    "import os\n",
    "import numpy as np"
   ]
  },
  {
   "cell_type": "code",
   "execution_count": 11,
   "id": "49cc7eff",
   "metadata": {},
   "outputs": [
    {
     "name": "stderr",
     "output_type": "stream",
     "text": [
      "ffmpeg: error while loading shared libraries: libavdevice.so.58: cannot open shared object file: No such file or directory\n"
     ]
    }
   ],
   "source": [
    "process = (\n",
    "    ffmpeg\n",
    "    .input('ffmpeg_test/img%05d.png')\n",
    "    .filter('pad', 'ceil(iw/2)*2', 'ceil(ih/2)*2') # required to prevent error for odd pxl img size\n",
    "    .output('ffmpeg_test/mov.mp4', vcodec='libx264', pix_fmt='yuv420p', r=24)\n",
    "    .overwrite_output()\n",
    "    .run_async(pipe_stdin=True)\n",
    ")"
   ]
  },
  {
   "cell_type": "code",
   "execution_count": null,
   "id": "7f3e6a63",
   "metadata": {},
   "outputs": [],
   "source": []
  }
 ],
 "metadata": {
  "kernelspec": {
   "display_name": "Python 3",
   "language": "python",
   "name": "python3"
  },
  "language_info": {
   "codemirror_mode": {
    "name": "ipython",
    "version": 3
   },
   "file_extension": ".py",
   "mimetype": "text/x-python",
   "name": "python",
   "nbconvert_exporter": "python",
   "pygments_lexer": "ipython3",
   "version": "3.10.9"
  }
 },
 "nbformat": 4,
 "nbformat_minor": 5
}
